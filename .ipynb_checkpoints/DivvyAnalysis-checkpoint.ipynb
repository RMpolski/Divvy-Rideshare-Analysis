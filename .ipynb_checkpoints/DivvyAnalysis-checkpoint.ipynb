{
 "cells": [
  {
   "cell_type": "markdown",
   "id": "a1680af2-979a-4c8b-aff2-832fb51946fc",
   "metadata": {},
   "source": [
    "# Divvy bikeshare analysis"
   ]
  },
  {
   "cell_type": "markdown",
   "id": "4c94c4f9-f81b-4397-ae1c-cbd223e7fe5a",
   "metadata": {},
   "source": [
    "Divvy is a bikeshare program owned by Lyft that aims to help people experience Chicago in a whole new way.\n",
    "\n",
    "There are over 600 stations and 6000+ bikes across Chicago, and Divvy posts the start/end stations, start/end coordinates, and start/end times of all bike rides, along with the type of user (member or casual) and type of bike (classic, electric, or docked - not sure what docked means). There is no user info, every ride ID is unique. There are a few questions worth examining here.\n",
    "\n",
    "The first type of question is related to what kind of user is involved and how charges are distributed. We have start and end times and formulas to extract charges for each ride. However, we don't have the number of members, so we can't access the revenue from membership fees.\n",
    "\n",
    "The second type of question is related to the fact that bike stations each have a fixed number of spots for bikes. This leaves a big problem if users ride up to a full bike station and cannot deposit their bikes. The bikes either need to be ridden to another station, the users need to wait for someone to open new spots at the station, or the bikes will get dropped off in somewhat random places. This could also cost users more than they planned to spend since single bike rides are limited to 30 minutes. Alternatively, users could plan to use bikes at a station but find the station empty. Either of these cases will degrade the user experience and lead to people avoiding Divvy in the future. There is an added convenience, at least for the e-bikes, where you can use an included cable to lock the bike to a public bike rack/lamp post for $2 or to an E-station (which is not as well outfitted as a regular bike rack but doesn't include additional charges). Parsing how many people make use of these features could also be useful since somebody has to bring the bikes back to the stations, and public entities wouldn't appreciate aggregating bikes in random locations.\n",
    "\n",
    "Divvy has a solution to this problem called the \"Bike Angels\" program, which rewards people for taking bikes from full stations and replenishing empty stations. It's still reasonable to ask how bikes stations ebb and flow to more properly use the Bike Angels rewards program, or to determine if stations could use more bike return spots or more bikes.\n",
    "\n",
    "Some reasonable questions we can ask the data:\n",
    "\n",
    "1. User type analysis\n",
    "    * How many users are there of each type?\n",
    "    * What type of revenue does each type of user generate?\n",
    "2. Bike station analysis\n",
    "    * What stations have the most use? Which paths (station to station) have the most use?\n",
    "    * Out of bikes that didn't end up at stations, how are they distributed geographically?\n",
    "    * What are the approximate maximum numbers of bikes and parking spots necessary at each station?\n",
    "    * Are there trends of stations that are commonly empty or commonly full?\n",
    "    \n",
    "Goals:\n",
    "\n",
    "* Extract useful queries and visualizations in order to explore the data\n",
    "* Set up a data pipeline and scheduler to extract the data set from each month (and future months) and load it to a PostgreSQL database\n",
    "* Repeat the queries on the PostgreSQL database and perform some benchmarking on analysis techniques"
   ]
  },
  {
   "cell_type": "code",
   "execution_count": 1,
   "id": "36d3fb9d-c559-45e9-ae21-e6ed56d63daf",
   "metadata": {},
   "outputs": [],
   "source": [
    "import os\n",
    "from zipfile import ZipFile\n",
    "from urllib.request import urlopen\n",
    "from io import BytesIO\n",
    "import pandas as pd\n",
    "import h3pandas\n",
    "from datetime import datetime\n",
    "import time\n",
    "import json\n",
    "import numpy as np\n",
    "import plotly.express as px"
   ]
  },
  {
   "cell_type": "markdown",
   "id": "36faefa5-b1c8-4b6b-ac73-9f3246923239",
   "metadata": {},
   "source": [
    "# Exploratory data analysis and testing some queries\n",
    "\n",
    "Performed the latest month's data, mostly with Pandas, since the data is a reasonable size"
   ]
  },
  {
   "cell_type": "code",
   "execution_count": 2,
   "id": "5a87b93b-99f8-498a-af3a-84333a28869b",
   "metadata": {},
   "outputs": [],
   "source": [
    "urlDec2022 = 'https://divvy-tripdata.s3.amazonaws.com/202212-divvy-tripdata.zip'"
   ]
  },
  {
   "cell_type": "code",
   "execution_count": 3,
   "id": "ea9ae81e-8909-4f30-82a4-fe212e1752ca",
   "metadata": {},
   "outputs": [],
   "source": [
    "# extract without saving the file to the computer\n",
    "with urlopen(urlDec2022) as resp:\n",
    "    zfile = ZipFile(BytesIO(resp.read()))\n",
    "    fname = zfile.namelist()[0]  # also loads a __MACOSX/* file\n",
    "    zfile.extract(fname, './tmp')"
   ]
  },
  {
   "cell_type": "code",
   "execution_count": 4,
   "id": "890825fe-1804-4142-bef5-4e0720164484",
   "metadata": {},
   "outputs": [],
   "source": [
    "fname = './tmp/' + fname\n",
    "df = pd.read_csv(fname)\n",
    "# os.remove(fname)  # uncomment if you want to leave not traces (applicable for the later upload to PostgreSQL\n",
    "df = df.convert_dtypes()  # convert object types into string types"
   ]
  },
  {
   "cell_type": "code",
   "execution_count": 5,
   "id": "41e6e54e-2db8-4817-871f-575493fb107b",
   "metadata": {},
   "outputs": [],
   "source": [
    "df['started_at'] = pd.to_datetime(df['started_at'], format='%Y-%m-%d %H:%M:%S')\n",
    "df['ended_at'] = pd.to_datetime(df['ended_at'], format='%Y-%m-%d %H:%M:%S')"
   ]
  },
  {
   "cell_type": "code",
   "execution_count": 6,
   "id": "fcda83ac-52b3-44bc-95ca-f5eb810dd5d6",
   "metadata": {},
   "outputs": [
    {
     "data": {
      "text/html": [
       "<div>\n",
       "<style scoped>\n",
       "    .dataframe tbody tr th:only-of-type {\n",
       "        vertical-align: middle;\n",
       "    }\n",
       "\n",
       "    .dataframe tbody tr th {\n",
       "        vertical-align: top;\n",
       "    }\n",
       "\n",
       "    .dataframe thead th {\n",
       "        text-align: right;\n",
       "    }\n",
       "</style>\n",
       "<table border=\"1\" class=\"dataframe\">\n",
       "  <thead>\n",
       "    <tr style=\"text-align: right;\">\n",
       "      <th></th>\n",
       "      <th>ride_id</th>\n",
       "      <th>rideable_type</th>\n",
       "      <th>started_at</th>\n",
       "      <th>ended_at</th>\n",
       "      <th>start_station_name</th>\n",
       "      <th>start_station_id</th>\n",
       "      <th>end_station_name</th>\n",
       "      <th>end_station_id</th>\n",
       "      <th>start_lat</th>\n",
       "      <th>start_lng</th>\n",
       "      <th>end_lat</th>\n",
       "      <th>end_lng</th>\n",
       "      <th>member_casual</th>\n",
       "    </tr>\n",
       "  </thead>\n",
       "  <tbody>\n",
       "    <tr>\n",
       "      <th>0</th>\n",
       "      <td>65DBD2F447EC51C2</td>\n",
       "      <td>electric_bike</td>\n",
       "      <td>2022-12-05 10:47:18</td>\n",
       "      <td>2022-12-05 10:56:34</td>\n",
       "      <td>Clifton Ave &amp; Armitage Ave</td>\n",
       "      <td>TA1307000163</td>\n",
       "      <td>Sedgwick St &amp; Webster Ave</td>\n",
       "      <td>13191</td>\n",
       "      <td>41.918244</td>\n",
       "      <td>-87.657115</td>\n",
       "      <td>41.922167</td>\n",
       "      <td>-87.638888</td>\n",
       "      <td>member</td>\n",
       "    </tr>\n",
       "    <tr>\n",
       "      <th>1</th>\n",
       "      <td>0C201AA7EA0EA1AD</td>\n",
       "      <td>classic_bike</td>\n",
       "      <td>2022-12-18 06:42:33</td>\n",
       "      <td>2022-12-18 07:08:44</td>\n",
       "      <td>Broadway &amp; Belmont Ave</td>\n",
       "      <td>13277</td>\n",
       "      <td>Sedgwick St &amp; Webster Ave</td>\n",
       "      <td>13191</td>\n",
       "      <td>41.940106</td>\n",
       "      <td>-87.645451</td>\n",
       "      <td>41.922167</td>\n",
       "      <td>-87.638888</td>\n",
       "      <td>casual</td>\n",
       "    </tr>\n",
       "    <tr>\n",
       "      <th>2</th>\n",
       "      <td>E0B148CCB358A49D</td>\n",
       "      <td>electric_bike</td>\n",
       "      <td>2022-12-13 08:47:45</td>\n",
       "      <td>2022-12-13 08:59:51</td>\n",
       "      <td>Sangamon St &amp; Lake St</td>\n",
       "      <td>TA1306000015</td>\n",
       "      <td>St. Clair St &amp; Erie St</td>\n",
       "      <td>13016</td>\n",
       "      <td>41.885919</td>\n",
       "      <td>-87.651133</td>\n",
       "      <td>41.894345</td>\n",
       "      <td>-87.622798</td>\n",
       "      <td>member</td>\n",
       "    </tr>\n",
       "    <tr>\n",
       "      <th>3</th>\n",
       "      <td>54C5775D2B7C9188</td>\n",
       "      <td>classic_bike</td>\n",
       "      <td>2022-12-13 18:50:47</td>\n",
       "      <td>2022-12-13 19:19:48</td>\n",
       "      <td>Shields Ave &amp; 31st St</td>\n",
       "      <td>KA1503000038</td>\n",
       "      <td>Damen Ave &amp; Madison St</td>\n",
       "      <td>13134</td>\n",
       "      <td>41.838464</td>\n",
       "      <td>-87.635406</td>\n",
       "      <td>41.88137</td>\n",
       "      <td>-87.67493</td>\n",
       "      <td>member</td>\n",
       "    </tr>\n",
       "    <tr>\n",
       "      <th>4</th>\n",
       "      <td>A4891F78776D35DF</td>\n",
       "      <td>classic_bike</td>\n",
       "      <td>2022-12-14 16:13:39</td>\n",
       "      <td>2022-12-14 16:27:50</td>\n",
       "      <td>Ashland Ave &amp; Chicago Ave</td>\n",
       "      <td>13247</td>\n",
       "      <td>Damen Ave &amp; Charleston St</td>\n",
       "      <td>13288</td>\n",
       "      <td>41.895954</td>\n",
       "      <td>-87.667728</td>\n",
       "      <td>41.920082</td>\n",
       "      <td>-87.677855</td>\n",
       "      <td>casual</td>\n",
       "    </tr>\n",
       "  </tbody>\n",
       "</table>\n",
       "</div>"
      ],
      "text/plain": [
       "            ride_id  rideable_type          started_at            ended_at  \\\n",
       "0  65DBD2F447EC51C2  electric_bike 2022-12-05 10:47:18 2022-12-05 10:56:34   \n",
       "1  0C201AA7EA0EA1AD   classic_bike 2022-12-18 06:42:33 2022-12-18 07:08:44   \n",
       "2  E0B148CCB358A49D  electric_bike 2022-12-13 08:47:45 2022-12-13 08:59:51   \n",
       "3  54C5775D2B7C9188   classic_bike 2022-12-13 18:50:47 2022-12-13 19:19:48   \n",
       "4  A4891F78776D35DF   classic_bike 2022-12-14 16:13:39 2022-12-14 16:27:50   \n",
       "\n",
       "           start_station_name start_station_id           end_station_name  \\\n",
       "0  Clifton Ave & Armitage Ave     TA1307000163  Sedgwick St & Webster Ave   \n",
       "1      Broadway & Belmont Ave            13277  Sedgwick St & Webster Ave   \n",
       "2       Sangamon St & Lake St     TA1306000015     St. Clair St & Erie St   \n",
       "3       Shields Ave & 31st St     KA1503000038     Damen Ave & Madison St   \n",
       "4   Ashland Ave & Chicago Ave            13247  Damen Ave & Charleston St   \n",
       "\n",
       "  end_station_id  start_lat  start_lng    end_lat    end_lng member_casual  \n",
       "0          13191  41.918244 -87.657115  41.922167 -87.638888        member  \n",
       "1          13191  41.940106 -87.645451  41.922167 -87.638888        casual  \n",
       "2          13016  41.885919 -87.651133  41.894345 -87.622798        member  \n",
       "3          13134  41.838464 -87.635406   41.88137  -87.67493        member  \n",
       "4          13288  41.895954 -87.667728  41.920082 -87.677855        casual  "
      ]
     },
     "execution_count": 6,
     "metadata": {},
     "output_type": "execute_result"
    }
   ],
   "source": [
    "df.head()"
   ]
  },
  {
   "cell_type": "code",
   "execution_count": 7,
   "id": "ec439d24-3bcd-4b93-ac85-0f456eea87d5",
   "metadata": {},
   "outputs": [
    {
     "name": "stdout",
     "output_type": "stream",
     "text": [
      "<class 'pandas.core.frame.DataFrame'>\n",
      "RangeIndex: 181806 entries, 0 to 181805\n",
      "Data columns (total 13 columns):\n",
      " #   Column              Non-Null Count   Dtype         \n",
      "---  ------              --------------   -----         \n",
      " 0   ride_id             181806 non-null  string        \n",
      " 1   rideable_type       181806 non-null  string        \n",
      " 2   started_at          181806 non-null  datetime64[ns]\n",
      " 3   ended_at            181806 non-null  datetime64[ns]\n",
      " 4   start_station_name  152523 non-null  string        \n",
      " 5   start_station_id    152523 non-null  string        \n",
      " 6   end_station_name    150648 non-null  string        \n",
      " 7   end_station_id      150648 non-null  string        \n",
      " 8   start_lat           181806 non-null  Float64       \n",
      " 9   start_lng           181806 non-null  Float64       \n",
      " 10  end_lat             181678 non-null  Float64       \n",
      " 11  end_lng             181678 non-null  Float64       \n",
      " 12  member_casual       181806 non-null  string        \n",
      "dtypes: Float64(4), datetime64[ns](2), string(7)\n",
      "memory usage: 18.7 MB\n"
     ]
    }
   ],
   "source": [
    "df.info()"
   ]
  },
  {
   "cell_type": "code",
   "execution_count": 8,
   "id": "59f9c39b-f87d-4a99-b33d-1897beb61b86",
   "metadata": {},
   "outputs": [
    {
     "data": {
      "text/plain": [
       "rideable_type\n",
       "classic_bike      73350\n",
       "docked_bike        1925\n",
       "electric_bike    106531\n",
       "Name: ride_id, dtype: int64"
      ]
     },
     "execution_count": 8,
     "metadata": {},
     "output_type": "execute_result"
    }
   ],
   "source": [
    "df.groupby('rideable_type').count()['ride_id']"
   ]
  },
  {
   "cell_type": "markdown",
   "id": "e4112fb3-d745-4d22-9e6c-0f89dcccc04b",
   "metadata": {
    "jp-MarkdownHeadingCollapsed": true,
    "tags": []
   },
   "source": [
    "## What is docked_bike?\n",
    "\n",
    "Try to find out a bit about what \"docked_bike\" means. Is it a bike that was left somewhere? Or an old type of bike, or what?"
   ]
  },
  {
   "cell_type": "code",
   "execution_count": 43,
   "id": "a424496a-67ee-401e-bb34-4e7750f2f4d3",
   "metadata": {},
   "outputs": [
    {
     "data": {
      "text/html": [
       "<div>\n",
       "<style scoped>\n",
       "    .dataframe tbody tr th:only-of-type {\n",
       "        vertical-align: middle;\n",
       "    }\n",
       "\n",
       "    .dataframe tbody tr th {\n",
       "        vertical-align: top;\n",
       "    }\n",
       "\n",
       "    .dataframe thead th {\n",
       "        text-align: right;\n",
       "    }\n",
       "</style>\n",
       "<table border=\"1\" class=\"dataframe\">\n",
       "  <thead>\n",
       "    <tr style=\"text-align: right;\">\n",
       "      <th></th>\n",
       "      <th>ride_id</th>\n",
       "      <th>rideable_type</th>\n",
       "      <th>started_at</th>\n",
       "      <th>ended_at</th>\n",
       "      <th>start_station_name</th>\n",
       "      <th>start_station_id</th>\n",
       "      <th>end_station_name</th>\n",
       "      <th>end_station_id</th>\n",
       "      <th>start_lat</th>\n",
       "      <th>start_lng</th>\n",
       "      <th>end_lat</th>\n",
       "      <th>end_lng</th>\n",
       "      <th>member_casual</th>\n",
       "    </tr>\n",
       "  </thead>\n",
       "  <tbody>\n",
       "    <tr>\n",
       "      <th>76</th>\n",
       "      <td>C6B7C8C90DBBD6B6</td>\n",
       "      <td>docked_bike</td>\n",
       "      <td>2022-12-16 11:53:25</td>\n",
       "      <td>2022-12-16 12:02:03</td>\n",
       "      <td>Clark St &amp; Elm St</td>\n",
       "      <td>TA1307000039</td>\n",
       "      <td>St. Clair St &amp; Erie St</td>\n",
       "      <td>13016</td>\n",
       "      <td>41.902973</td>\n",
       "      <td>-87.63128</td>\n",
       "      <td>41.894345</td>\n",
       "      <td>-87.622798</td>\n",
       "      <td>casual</td>\n",
       "    </tr>\n",
       "    <tr>\n",
       "      <th>176</th>\n",
       "      <td>C05F37F09125FF03</td>\n",
       "      <td>docked_bike</td>\n",
       "      <td>2022-12-28 17:07:56</td>\n",
       "      <td>2022-12-28 17:50:39</td>\n",
       "      <td>Canal St &amp; Adams St</td>\n",
       "      <td>13011</td>\n",
       "      <td>Wabash Ave &amp; 16th St</td>\n",
       "      <td>SL-012</td>\n",
       "      <td>41.879255</td>\n",
       "      <td>-87.639904</td>\n",
       "      <td>41.860384</td>\n",
       "      <td>-87.625813</td>\n",
       "      <td>casual</td>\n",
       "    </tr>\n",
       "    <tr>\n",
       "      <th>221</th>\n",
       "      <td>0DDFFD2F8BF3A5A0</td>\n",
       "      <td>docked_bike</td>\n",
       "      <td>2022-12-31 01:26:52</td>\n",
       "      <td>2022-12-31 01:33:38</td>\n",
       "      <td>Clifton Ave &amp; Armitage Ave</td>\n",
       "      <td>TA1307000163</td>\n",
       "      <td>Wilton Ave &amp; Diversey Pkwy</td>\n",
       "      <td>TA1306000014</td>\n",
       "      <td>41.918216</td>\n",
       "      <td>-87.656936</td>\n",
       "      <td>41.932418</td>\n",
       "      <td>-87.652705</td>\n",
       "      <td>casual</td>\n",
       "    </tr>\n",
       "    <tr>\n",
       "      <th>356</th>\n",
       "      <td>B5DBEB5CCC4F43BF</td>\n",
       "      <td>docked_bike</td>\n",
       "      <td>2022-12-30 16:57:47</td>\n",
       "      <td>2022-12-30 17:08:09</td>\n",
       "      <td>State St &amp; Randolph St</td>\n",
       "      <td>TA1305000029</td>\n",
       "      <td>LaSalle St &amp; Illinois St</td>\n",
       "      <td>13430</td>\n",
       "      <td>41.884621</td>\n",
       "      <td>-87.627834</td>\n",
       "      <td>41.890762</td>\n",
       "      <td>-87.631697</td>\n",
       "      <td>casual</td>\n",
       "    </tr>\n",
       "    <tr>\n",
       "      <th>396</th>\n",
       "      <td>E263D4D2954677DD</td>\n",
       "      <td>docked_bike</td>\n",
       "      <td>2022-12-30 16:57:36</td>\n",
       "      <td>2022-12-30 17:08:50</td>\n",
       "      <td>State St &amp; Randolph St</td>\n",
       "      <td>TA1305000029</td>\n",
       "      <td>LaSalle St &amp; Illinois St</td>\n",
       "      <td>13430</td>\n",
       "      <td>41.884621</td>\n",
       "      <td>-87.627834</td>\n",
       "      <td>41.890762</td>\n",
       "      <td>-87.631697</td>\n",
       "      <td>casual</td>\n",
       "    </tr>\n",
       "    <tr>\n",
       "      <th>681</th>\n",
       "      <td>62B6A59DB1F09C19</td>\n",
       "      <td>docked_bike</td>\n",
       "      <td>2022-12-15 08:59:26</td>\n",
       "      <td>2022-12-15 09:24:28</td>\n",
       "      <td>Western Ave &amp; 28th St</td>\n",
       "      <td>KA1504000168</td>\n",
       "      <td>Western Ave &amp; 28th St</td>\n",
       "      <td>KA1504000168</td>\n",
       "      <td>41.841518</td>\n",
       "      <td>-87.685131</td>\n",
       "      <td>41.841518</td>\n",
       "      <td>-87.685131</td>\n",
       "      <td>casual</td>\n",
       "    </tr>\n",
       "    <tr>\n",
       "      <th>995</th>\n",
       "      <td>6E65875F8EAD7EB1</td>\n",
       "      <td>docked_bike</td>\n",
       "      <td>2022-12-08 15:52:35</td>\n",
       "      <td>2022-12-08 17:17:28</td>\n",
       "      <td>Clark St &amp; Lunt Ave</td>\n",
       "      <td>KA1504000162</td>\n",
       "      <td>Clark St &amp; Lunt Ave</td>\n",
       "      <td>KA1504000162</td>\n",
       "      <td>42.009011</td>\n",
       "      <td>-87.674112</td>\n",
       "      <td>42.009011</td>\n",
       "      <td>-87.674112</td>\n",
       "      <td>casual</td>\n",
       "    </tr>\n",
       "    <tr>\n",
       "      <th>1005</th>\n",
       "      <td>65338572BC521907</td>\n",
       "      <td>docked_bike</td>\n",
       "      <td>2022-12-10 01:45:20</td>\n",
       "      <td>2022-12-10 01:52:21</td>\n",
       "      <td>Sheridan Rd &amp; Columbia Ave</td>\n",
       "      <td>660</td>\n",
       "      <td>Broadway &amp; Granville Ave</td>\n",
       "      <td>15571</td>\n",
       "      <td>42.004583</td>\n",
       "      <td>-87.661406</td>\n",
       "      <td>41.99478</td>\n",
       "      <td>-87.660285</td>\n",
       "      <td>casual</td>\n",
       "    </tr>\n",
       "    <tr>\n",
       "      <th>1059</th>\n",
       "      <td>04A3352284FFBDAC</td>\n",
       "      <td>docked_bike</td>\n",
       "      <td>2022-12-02 11:56:45</td>\n",
       "      <td>2022-12-02 12:18:36</td>\n",
       "      <td>University Ave &amp; 57th St</td>\n",
       "      <td>KA1503000071</td>\n",
       "      <td>University Ave &amp; 57th St</td>\n",
       "      <td>KA1503000071</td>\n",
       "      <td>41.791478</td>\n",
       "      <td>-87.599861</td>\n",
       "      <td>41.791478</td>\n",
       "      <td>-87.599861</td>\n",
       "      <td>casual</td>\n",
       "    </tr>\n",
       "    <tr>\n",
       "      <th>1182</th>\n",
       "      <td>4D87169FCF1C1B98</td>\n",
       "      <td>docked_bike</td>\n",
       "      <td>2022-12-29 14:04:55</td>\n",
       "      <td>2022-12-29 14:58:06</td>\n",
       "      <td>DuSable Lake Shore Dr &amp; Belmont Ave</td>\n",
       "      <td>TA1309000049</td>\n",
       "      <td>DuSable Lake Shore Dr &amp; Belmont Ave</td>\n",
       "      <td>TA1309000049</td>\n",
       "      <td>41.940775</td>\n",
       "      <td>-87.639192</td>\n",
       "      <td>41.940775</td>\n",
       "      <td>-87.639192</td>\n",
       "      <td>casual</td>\n",
       "    </tr>\n",
       "  </tbody>\n",
       "</table>\n",
       "</div>"
      ],
      "text/plain": [
       "               ride_id rideable_type           started_at  \\\n",
       "76    C6B7C8C90DBBD6B6   docked_bike  2022-12-16 11:53:25   \n",
       "176   C05F37F09125FF03   docked_bike  2022-12-28 17:07:56   \n",
       "221   0DDFFD2F8BF3A5A0   docked_bike  2022-12-31 01:26:52   \n",
       "356   B5DBEB5CCC4F43BF   docked_bike  2022-12-30 16:57:47   \n",
       "396   E263D4D2954677DD   docked_bike  2022-12-30 16:57:36   \n",
       "681   62B6A59DB1F09C19   docked_bike  2022-12-15 08:59:26   \n",
       "995   6E65875F8EAD7EB1   docked_bike  2022-12-08 15:52:35   \n",
       "1005  65338572BC521907   docked_bike  2022-12-10 01:45:20   \n",
       "1059  04A3352284FFBDAC   docked_bike  2022-12-02 11:56:45   \n",
       "1182  4D87169FCF1C1B98   docked_bike  2022-12-29 14:04:55   \n",
       "\n",
       "                 ended_at                   start_station_name  \\\n",
       "76    2022-12-16 12:02:03                    Clark St & Elm St   \n",
       "176   2022-12-28 17:50:39                  Canal St & Adams St   \n",
       "221   2022-12-31 01:33:38           Clifton Ave & Armitage Ave   \n",
       "356   2022-12-30 17:08:09               State St & Randolph St   \n",
       "396   2022-12-30 17:08:50               State St & Randolph St   \n",
       "681   2022-12-15 09:24:28                Western Ave & 28th St   \n",
       "995   2022-12-08 17:17:28                  Clark St & Lunt Ave   \n",
       "1005  2022-12-10 01:52:21           Sheridan Rd & Columbia Ave   \n",
       "1059  2022-12-02 12:18:36             University Ave & 57th St   \n",
       "1182  2022-12-29 14:58:06  DuSable Lake Shore Dr & Belmont Ave   \n",
       "\n",
       "     start_station_id                     end_station_name end_station_id  \\\n",
       "76       TA1307000039               St. Clair St & Erie St          13016   \n",
       "176             13011                 Wabash Ave & 16th St         SL-012   \n",
       "221      TA1307000163           Wilton Ave & Diversey Pkwy   TA1306000014   \n",
       "356      TA1305000029             LaSalle St & Illinois St          13430   \n",
       "396      TA1305000029             LaSalle St & Illinois St          13430   \n",
       "681      KA1504000168                Western Ave & 28th St   KA1504000168   \n",
       "995      KA1504000162                  Clark St & Lunt Ave   KA1504000162   \n",
       "1005              660             Broadway & Granville Ave          15571   \n",
       "1059     KA1503000071             University Ave & 57th St   KA1503000071   \n",
       "1182     TA1309000049  DuSable Lake Shore Dr & Belmont Ave   TA1309000049   \n",
       "\n",
       "      start_lat  start_lng    end_lat    end_lng member_casual  \n",
       "76    41.902973  -87.63128  41.894345 -87.622798        casual  \n",
       "176   41.879255 -87.639904  41.860384 -87.625813        casual  \n",
       "221   41.918216 -87.656936  41.932418 -87.652705        casual  \n",
       "356   41.884621 -87.627834  41.890762 -87.631697        casual  \n",
       "396   41.884621 -87.627834  41.890762 -87.631697        casual  \n",
       "681   41.841518 -87.685131  41.841518 -87.685131        casual  \n",
       "995   42.009011 -87.674112  42.009011 -87.674112        casual  \n",
       "1005  42.004583 -87.661406   41.99478 -87.660285        casual  \n",
       "1059  41.791478 -87.599861  41.791478 -87.599861        casual  \n",
       "1182  41.940775 -87.639192  41.940775 -87.639192        casual  "
      ]
     },
     "metadata": {},
     "output_type": "display_data"
    },
    {
     "data": {
      "text/html": [
       "<div>\n",
       "<style scoped>\n",
       "    .dataframe tbody tr th:only-of-type {\n",
       "        vertical-align: middle;\n",
       "    }\n",
       "\n",
       "    .dataframe tbody tr th {\n",
       "        vertical-align: top;\n",
       "    }\n",
       "\n",
       "    .dataframe thead th {\n",
       "        text-align: right;\n",
       "    }\n",
       "</style>\n",
       "<table border=\"1\" class=\"dataframe\">\n",
       "  <thead>\n",
       "    <tr style=\"text-align: right;\">\n",
       "      <th></th>\n",
       "      <th>ride_id</th>\n",
       "      <th>rideable_type</th>\n",
       "      <th>started_at</th>\n",
       "      <th>ended_at</th>\n",
       "      <th>start_station_name</th>\n",
       "      <th>start_station_id</th>\n",
       "      <th>end_station_name</th>\n",
       "      <th>end_station_id</th>\n",
       "      <th>start_lat</th>\n",
       "      <th>start_lng</th>\n",
       "      <th>end_lat</th>\n",
       "      <th>end_lng</th>\n",
       "      <th>member_casual</th>\n",
       "    </tr>\n",
       "  </thead>\n",
       "  <tbody>\n",
       "    <tr>\n",
       "      <th>180469</th>\n",
       "      <td>1CFA110FBED01F18</td>\n",
       "      <td>docked_bike</td>\n",
       "      <td>2022-12-30 12:43:12</td>\n",
       "      <td>2022-12-30 13:12:02</td>\n",
       "      <td>DuSable Lake Shore Dr &amp; Monroe St</td>\n",
       "      <td>13300</td>\n",
       "      <td>Streeter Dr &amp; Grand Ave</td>\n",
       "      <td>13022</td>\n",
       "      <td>41.880958</td>\n",
       "      <td>-87.616743</td>\n",
       "      <td>41.892278</td>\n",
       "      <td>-87.612043</td>\n",
       "      <td>casual</td>\n",
       "    </tr>\n",
       "    <tr>\n",
       "      <th>180470</th>\n",
       "      <td>C3DDB1FF667A198A</td>\n",
       "      <td>docked_bike</td>\n",
       "      <td>2022-12-10 14:02:25</td>\n",
       "      <td>2022-12-10 14:21:51</td>\n",
       "      <td>DuSable Lake Shore Dr &amp; Monroe St</td>\n",
       "      <td>13300</td>\n",
       "      <td>Streeter Dr &amp; Grand Ave</td>\n",
       "      <td>13022</td>\n",
       "      <td>41.880958</td>\n",
       "      <td>-87.616743</td>\n",
       "      <td>41.892278</td>\n",
       "      <td>-87.612043</td>\n",
       "      <td>casual</td>\n",
       "    </tr>\n",
       "    <tr>\n",
       "      <th>180473</th>\n",
       "      <td>6D81F31F05033B77</td>\n",
       "      <td>docked_bike</td>\n",
       "      <td>2022-12-02 12:10:11</td>\n",
       "      <td>2022-12-02 12:38:54</td>\n",
       "      <td>DuSable Lake Shore Dr &amp; Monroe St</td>\n",
       "      <td>13300</td>\n",
       "      <td>Streeter Dr &amp; Grand Ave</td>\n",
       "      <td>13022</td>\n",
       "      <td>41.880958</td>\n",
       "      <td>-87.616743</td>\n",
       "      <td>41.892278</td>\n",
       "      <td>-87.612043</td>\n",
       "      <td>casual</td>\n",
       "    </tr>\n",
       "    <tr>\n",
       "      <th>180481</th>\n",
       "      <td>D371A47DAED59215</td>\n",
       "      <td>docked_bike</td>\n",
       "      <td>2022-12-31 15:08:00</td>\n",
       "      <td>2022-12-31 15:22:04</td>\n",
       "      <td>Morgan St &amp; 18th St</td>\n",
       "      <td>13163</td>\n",
       "      <td>Aberdeen St &amp; Monroe St</td>\n",
       "      <td>13156</td>\n",
       "      <td>41.858086</td>\n",
       "      <td>-87.651073</td>\n",
       "      <td>41.880419</td>\n",
       "      <td>-87.655519</td>\n",
       "      <td>casual</td>\n",
       "    </tr>\n",
       "    <tr>\n",
       "      <th>180520</th>\n",
       "      <td>1FCD61E6EEBC7251</td>\n",
       "      <td>docked_bike</td>\n",
       "      <td>2022-12-31 15:08:02</td>\n",
       "      <td>2022-12-31 15:21:53</td>\n",
       "      <td>Morgan St &amp; 18th St</td>\n",
       "      <td>13163</td>\n",
       "      <td>Aberdeen St &amp; Monroe St</td>\n",
       "      <td>13156</td>\n",
       "      <td>41.858086</td>\n",
       "      <td>-87.651073</td>\n",
       "      <td>41.880419</td>\n",
       "      <td>-87.655519</td>\n",
       "      <td>casual</td>\n",
       "    </tr>\n",
       "    <tr>\n",
       "      <th>180862</th>\n",
       "      <td>C2D303216EF390DD</td>\n",
       "      <td>docked_bike</td>\n",
       "      <td>2022-12-18 15:58:11</td>\n",
       "      <td>2022-12-18 16:06:25</td>\n",
       "      <td>LaSalle St &amp; Jackson Blvd</td>\n",
       "      <td>TA1309000004</td>\n",
       "      <td>Green St &amp; Madison St</td>\n",
       "      <td>TA1307000120</td>\n",
       "      <td>41.878166</td>\n",
       "      <td>-87.631929</td>\n",
       "      <td>41.881859</td>\n",
       "      <td>-87.649264</td>\n",
       "      <td>casual</td>\n",
       "    </tr>\n",
       "    <tr>\n",
       "      <th>181142</th>\n",
       "      <td>44A6D111DBF760B2</td>\n",
       "      <td>docked_bike</td>\n",
       "      <td>2022-12-03 08:50:07</td>\n",
       "      <td>2022-12-03 08:57:10</td>\n",
       "      <td>Kingsbury St &amp; Kinzie St</td>\n",
       "      <td>KA1503000043</td>\n",
       "      <td>Green St &amp; Madison St</td>\n",
       "      <td>TA1307000120</td>\n",
       "      <td>41.889177</td>\n",
       "      <td>-87.638506</td>\n",
       "      <td>41.881859</td>\n",
       "      <td>-87.649264</td>\n",
       "      <td>casual</td>\n",
       "    </tr>\n",
       "    <tr>\n",
       "      <th>181184</th>\n",
       "      <td>CBDFDC26549642B1</td>\n",
       "      <td>docked_bike</td>\n",
       "      <td>2022-12-21 10:55:19</td>\n",
       "      <td>2022-12-21 11:11:50</td>\n",
       "      <td>Shields Ave &amp; 28th Pl</td>\n",
       "      <td>15443</td>\n",
       "      <td>Peoria St &amp; Jackson Blvd</td>\n",
       "      <td>13158</td>\n",
       "      <td>41.842733</td>\n",
       "      <td>-87.635491</td>\n",
       "      <td>41.877642</td>\n",
       "      <td>-87.649618</td>\n",
       "      <td>casual</td>\n",
       "    </tr>\n",
       "    <tr>\n",
       "      <th>181389</th>\n",
       "      <td>EC53E90875E0B5A0</td>\n",
       "      <td>docked_bike</td>\n",
       "      <td>2022-12-15 17:36:03</td>\n",
       "      <td>2022-12-15 17:44:28</td>\n",
       "      <td>Larrabee St &amp; Kingsbury St</td>\n",
       "      <td>TA1306000009</td>\n",
       "      <td>Larrabee St &amp; Menomonee St</td>\n",
       "      <td>TA1306000007</td>\n",
       "      <td>41.897764</td>\n",
       "      <td>-87.642884</td>\n",
       "      <td>41.91468</td>\n",
       "      <td>-87.64332</td>\n",
       "      <td>casual</td>\n",
       "    </tr>\n",
       "    <tr>\n",
       "      <th>181418</th>\n",
       "      <td>61EA5705A2F67713</td>\n",
       "      <td>docked_bike</td>\n",
       "      <td>2022-12-16 11:14:13</td>\n",
       "      <td>2022-12-16 12:34:07</td>\n",
       "      <td>Larrabee St &amp; Kingsbury St</td>\n",
       "      <td>TA1306000009</td>\n",
       "      <td>Green St &amp; Madison St</td>\n",
       "      <td>TA1307000120</td>\n",
       "      <td>41.897764</td>\n",
       "      <td>-87.642884</td>\n",
       "      <td>41.881859</td>\n",
       "      <td>-87.649264</td>\n",
       "      <td>casual</td>\n",
       "    </tr>\n",
       "  </tbody>\n",
       "</table>\n",
       "</div>"
      ],
      "text/plain": [
       "                 ride_id rideable_type           started_at  \\\n",
       "180469  1CFA110FBED01F18   docked_bike  2022-12-30 12:43:12   \n",
       "180470  C3DDB1FF667A198A   docked_bike  2022-12-10 14:02:25   \n",
       "180473  6D81F31F05033B77   docked_bike  2022-12-02 12:10:11   \n",
       "180481  D371A47DAED59215   docked_bike  2022-12-31 15:08:00   \n",
       "180520  1FCD61E6EEBC7251   docked_bike  2022-12-31 15:08:02   \n",
       "180862  C2D303216EF390DD   docked_bike  2022-12-18 15:58:11   \n",
       "181142  44A6D111DBF760B2   docked_bike  2022-12-03 08:50:07   \n",
       "181184  CBDFDC26549642B1   docked_bike  2022-12-21 10:55:19   \n",
       "181389  EC53E90875E0B5A0   docked_bike  2022-12-15 17:36:03   \n",
       "181418  61EA5705A2F67713   docked_bike  2022-12-16 11:14:13   \n",
       "\n",
       "                   ended_at                 start_station_name  \\\n",
       "180469  2022-12-30 13:12:02  DuSable Lake Shore Dr & Monroe St   \n",
       "180470  2022-12-10 14:21:51  DuSable Lake Shore Dr & Monroe St   \n",
       "180473  2022-12-02 12:38:54  DuSable Lake Shore Dr & Monroe St   \n",
       "180481  2022-12-31 15:22:04                Morgan St & 18th St   \n",
       "180520  2022-12-31 15:21:53                Morgan St & 18th St   \n",
       "180862  2022-12-18 16:06:25          LaSalle St & Jackson Blvd   \n",
       "181142  2022-12-03 08:57:10           Kingsbury St & Kinzie St   \n",
       "181184  2022-12-21 11:11:50              Shields Ave & 28th Pl   \n",
       "181389  2022-12-15 17:44:28         Larrabee St & Kingsbury St   \n",
       "181418  2022-12-16 12:34:07         Larrabee St & Kingsbury St   \n",
       "\n",
       "       start_station_id            end_station_name end_station_id  start_lat  \\\n",
       "180469            13300     Streeter Dr & Grand Ave          13022  41.880958   \n",
       "180470            13300     Streeter Dr & Grand Ave          13022  41.880958   \n",
       "180473            13300     Streeter Dr & Grand Ave          13022  41.880958   \n",
       "180481            13163     Aberdeen St & Monroe St          13156  41.858086   \n",
       "180520            13163     Aberdeen St & Monroe St          13156  41.858086   \n",
       "180862     TA1309000004       Green St & Madison St   TA1307000120  41.878166   \n",
       "181142     KA1503000043       Green St & Madison St   TA1307000120  41.889177   \n",
       "181184            15443    Peoria St & Jackson Blvd          13158  41.842733   \n",
       "181389     TA1306000009  Larrabee St & Menomonee St   TA1306000007  41.897764   \n",
       "181418     TA1306000009       Green St & Madison St   TA1307000120  41.897764   \n",
       "\n",
       "        start_lng    end_lat    end_lng member_casual  \n",
       "180469 -87.616743  41.892278 -87.612043        casual  \n",
       "180470 -87.616743  41.892278 -87.612043        casual  \n",
       "180473 -87.616743  41.892278 -87.612043        casual  \n",
       "180481 -87.651073  41.880419 -87.655519        casual  \n",
       "180520 -87.651073  41.880419 -87.655519        casual  \n",
       "180862 -87.631929  41.881859 -87.649264        casual  \n",
       "181142 -87.638506  41.881859 -87.649264        casual  \n",
       "181184 -87.635491  41.877642 -87.649618        casual  \n",
       "181389 -87.642884   41.91468  -87.64332        casual  \n",
       "181418 -87.642884  41.881859 -87.649264        casual  "
      ]
     },
     "metadata": {},
     "output_type": "display_data"
    }
   ],
   "source": [
    "df_docked = df.loc[df.rideable_type == 'docked_bike']\n",
    "display(df_docked.head(10))\n",
    "display(df_docked.tail(10))"
   ]
  },
  {
   "cell_type": "code",
   "execution_count": 77,
   "id": "125d0953-c504-4cb1-b6ce-279e5c4c97c1",
   "metadata": {},
   "outputs": [
    {
     "data": {
      "text/plain": [
       "0"
      ]
     },
     "execution_count": 77,
     "metadata": {},
     "output_type": "execute_result"
    }
   ],
   "source": [
    "df_docked.loc[df_docked.member_casual != 'casual'].ride_id.count()"
   ]
  },
  {
   "cell_type": "markdown",
   "id": "95e49b39-33b7-46fe-80e2-9e40a19816f0",
   "metadata": {},
   "source": [
    "All docked_bike users are casual, not members. Do a quick check on the other types: not a trend with other types."
   ]
  },
  {
   "cell_type": "code",
   "execution_count": 58,
   "id": "2dd0dac9-8e65-4464-a1fd-a8d181c3971f",
   "metadata": {},
   "outputs": [
    {
     "data": {
      "text/plain": [
       "member_casual\n",
       "casual    12652\n",
       "member    60698\n",
       "Name: ride_id, dtype: int64"
      ]
     },
     "metadata": {},
     "output_type": "display_data"
    }
   ],
   "source": [
    "# Some numbers for classic bikes\n",
    "display(df.loc[df.rideable_type == 'classic_bike'].groupby('member_casual').ride_id.count())"
   ]
  },
  {
   "cell_type": "code",
   "execution_count": 59,
   "id": "3039e6ec-4211-4eaa-88aa-c1874ca3908b",
   "metadata": {},
   "outputs": [
    {
     "data": {
      "text/plain": [
       "member_casual\n",
       "casual    30317\n",
       "member    76214\n",
       "Name: ride_id, dtype: int64"
      ]
     },
     "metadata": {},
     "output_type": "display_data"
    }
   ],
   "source": [
    "# And for electric bikes\n",
    "display(df.loc[df.rideable_type == 'electric_bike'].groupby('member_casual').ride_id.count())"
   ]
  },
  {
   "cell_type": "markdown",
   "id": "2efec0b5-cf6d-4d76-9f17-315b01877a76",
   "metadata": {},
   "source": [
    "Consider how many of each type did not have an end or starting station"
   ]
  },
  {
   "cell_type": "code",
   "execution_count": 85,
   "id": "95c4f410-3cd9-4bf9-8b85-e2c32068c8f8",
   "metadata": {},
   "outputs": [
    {
     "data": {
      "text/plain": [
       "rideable_type\n",
       "classic_bike        79\n",
       "docked_bike         53\n",
       "electric_bike    31026\n",
       "Name: ride_id, dtype: int64"
      ]
     },
     "execution_count": 85,
     "metadata": {},
     "output_type": "execute_result"
    }
   ],
   "source": [
    "# No end station\n",
    "df.loc[df.end_station_name.isnull()].groupby('rideable_type').ride_id.count()"
   ]
  },
  {
   "cell_type": "code",
   "execution_count": 86,
   "id": "2efa0364-8831-4e1a-b4ae-5d1710092b11",
   "metadata": {},
   "outputs": [
    {
     "data": {
      "text/plain": [
       "rideable_type\n",
       "electric_bike    29283\n",
       "Name: ride_id, dtype: int64"
      ]
     },
     "execution_count": 86,
     "metadata": {},
     "output_type": "execute_result"
    }
   ],
   "source": [
    "# No start station\n",
    "df.loc[df.start_station_name.isnull()].groupby('rideable_type').ride_id.count()"
   ]
  },
  {
   "cell_type": "code",
   "execution_count": 90,
   "id": "79fc9424-a437-41e1-be58-6a0c58b8d915",
   "metadata": {},
   "outputs": [
    {
     "data": {
      "text/plain": [
       "14038"
      ]
     },
     "execution_count": 90,
     "metadata": {},
     "output_type": "execute_result"
    }
   ],
   "source": [
    "# Any without start or end stations? Yes, about half of the electric bikes without start stations also do not have end stations\n",
    "df.loc[df.start_station_name.isnull() & df.end_station_name.isnull()].ride_id.count()"
   ]
  },
  {
   "cell_type": "markdown",
   "id": "71670bdd-d848-4e1c-8dc7-8a46a6f460cf",
   "metadata": {},
   "source": [
    "It seems docked_bike and classic_bike types always have a start station. The ones that do not have an end station likely were dropped off somewhere and then brought back by Divvy staff (so not recorded). The website says only electric bikes can be locked outside of docking stations with a cable, and they likely can be ridden from their ending points."
   ]
  },
  {
   "cell_type": "markdown",
   "id": "0bf694a8-c56f-4795-aee4-84d34d24088d",
   "metadata": {},
   "source": [
    "We will assume that electric bikes that do not have a start or end station have been locked to a public structure at some point."
   ]
  },
  {
   "cell_type": "markdown",
   "id": "b0a88255-1089-4a95-8be8-f2cb0ed73e1f",
   "metadata": {},
   "source": [
    "There's not an obvious reason to exclude docked_bike types from the analysis"
   ]
  },
  {
   "cell_type": "markdown",
   "id": "05241d7e-154f-4d0a-81ee-3e614d17bd2c",
   "metadata": {},
   "source": [
    "## Revenue analysis"
   ]
  },
  {
   "cell_type": "markdown",
   "id": "fa7d1b26-d924-4416-930e-0ed9124a710c",
   "metadata": {},
   "source": [
    "User costs are allocated as follows:\n",
    "\n",
    "- Electric bikes:\n",
    "    - Members: \\\\$0 to unlock and \\\\$.16 per minute (all are rounded up to the nearest minute)\n",
    "    - Casual: \\\\$1 to unlock and \\\\$.39 per minute\n",
    "    - If parking to an approved public object (but not a station), \\\\$1 extra for members and \\\\$2 for casual\n",
    "- Classic bikes:\n",
    "    - Members: \\\\$0 to unlock and free ride up to 45 minutes, with \\\\$.16 per minute afterward\n",
    "    - Casual: \\\\$1 to unlock and \\\\$.16 per minute\n",
    "    - If these are parked at e-bike stations or at public structures, there is an additional $25 charge\n",
    "    \n",
    "We have to make a few assumptions to get an estimate of the revenue seen here:\n",
    "\n",
    "- If bikes are parked outside of the service area, parked by itself (not attached to a structure), or parked at unapproved structures, there is an additional $25 charge. Since we don't have this data, we cannot account for these charges (except for possibly accounting for classic bikes parked in e-bike stations). We will assume rides without an end station ID were parked at an approved public structure, so they incur a the \\\\$1 or \\\\$2 charge.\n",
    "- There is not a distinction for a rider with a day pass, so we are not sure if they fall into the category of casual or member rider.\n",
    "- Members can receive rewards for riding bikes from full to empty stations and other helpful acts, but we do not have access to this data.\n",
    "\n",
    "Note we can also get the e-bike-specific vs. traditional stations from their publicly accessible station json feed, which we do first.\n",
    "\n",
    "We will add a ride_cost column to account for these considerations"
   ]
  },
  {
   "cell_type": "markdown",
   "id": "2bef6f83-7d3a-48ae-9686-aa577ab62634",
   "metadata": {
    "jp-MarkdownHeadingCollapsed": true,
    "tags": []
   },
   "source": [
    "### Get station data and reconcile with the original df"
   ]
  },
  {
   "cell_type": "code",
   "execution_count": 9,
   "id": "f1344f2d-3833-4181-9216-6b80ef12eb87",
   "metadata": {},
   "outputs": [
    {
     "name": "stdout",
     "output_type": "stream",
     "text": [
      "Retrieved at:  08/01/23 18:24:38\n"
     ]
    }
   ],
   "source": [
    "with urlopen('https://gbfs.divvybikes.com/gbfs/en/station_information.json') as resp:\n",
    "    station_data = json.loads(resp.read())\n",
    "print('Retrieved at: ', datetime.strftime(datetime.now(), '%d/%m/%y %H:%M:%S'))"
   ]
  },
  {
   "cell_type": "code",
   "execution_count": 10,
   "id": "bfea8858-24e2-4097-be91-696c7dd635cf",
   "metadata": {},
   "outputs": [
    {
     "data": {
      "text/plain": [
       "1421"
      ]
     },
     "execution_count": 10,
     "metadata": {},
     "output_type": "execute_result"
    }
   ],
   "source": [
    "station_data = station_data['data']['stations']\n",
    "len(station_data)"
   ]
  },
  {
   "cell_type": "code",
   "execution_count": 11,
   "id": "7168ad40-ab66-4f57-b002-2ad5de865a10",
   "metadata": {},
   "outputs": [
    {
     "data": {
      "text/plain": [
       "{'eightd_has_key_dispenser': False,\n",
       " 'legacy_id': '541',\n",
       " 'short_name': '16915',\n",
       " 'capacity': 11,\n",
       " 'has_kiosk': True,\n",
       " 'name': 'Central Ave & Harrison St',\n",
       " 'electric_bike_surcharge_waiver': False,\n",
       " 'rental_methods': ['KEY', 'CREDITCARD', 'TRANSITCARD'],\n",
       " 'eightd_station_services': [],\n",
       " 'lon': -87.764499,\n",
       " 'station_type': 'classic',\n",
       " 'rental_uris': {'ios': 'https://chi.lft.to/lastmile_qr_scan',\n",
       "  'android': 'https://chi.lft.to/lastmile_qr_scan'},\n",
       " 'external_id': 'a3b1c47b-a135-11e9-9cda-0a87ae2ba916',\n",
       " 'station_id': 'a3b1c47b-a135-11e9-9cda-0a87ae2ba916',\n",
       " 'lat': 41.872993}"
      ]
     },
     "execution_count": 11,
     "metadata": {},
     "output_type": "execute_result"
    }
   ],
   "source": [
    "station_data[1]"
   ]
  },
  {
   "cell_type": "code",
   "execution_count": 12,
   "id": "ff941671-fe33-4564-9cd8-af6a6ec85772",
   "metadata": {},
   "outputs": [
    {
     "data": {
      "text/html": [
       "<div>\n",
       "<style scoped>\n",
       "    .dataframe tbody tr th:only-of-type {\n",
       "        vertical-align: middle;\n",
       "    }\n",
       "\n",
       "    .dataframe tbody tr th {\n",
       "        vertical-align: top;\n",
       "    }\n",
       "\n",
       "    .dataframe thead th {\n",
       "        text-align: right;\n",
       "    }\n",
       "</style>\n",
       "<table border=\"1\" class=\"dataframe\">\n",
       "  <thead>\n",
       "    <tr style=\"text-align: right;\">\n",
       "      <th></th>\n",
       "      <th>start_station_name</th>\n",
       "      <th>start_station_id</th>\n",
       "      <th>start_lng</th>\n",
       "      <th>start_lat</th>\n",
       "    </tr>\n",
       "  </thead>\n",
       "  <tbody>\n",
       "    <tr>\n",
       "      <th>6715</th>\n",
       "      <td>MLK Jr Dr &amp; 29th St</td>\n",
       "      <td>TA1307000139</td>\n",
       "      <td>-87.616928</td>\n",
       "      <td>41.842064</td>\n",
       "    </tr>\n",
       "    <tr>\n",
       "      <th>6716</th>\n",
       "      <td>MLK Jr Dr &amp; 29th St</td>\n",
       "      <td>TA1307000139</td>\n",
       "      <td>-87.616958</td>\n",
       "      <td>41.842034</td>\n",
       "    </tr>\n",
       "    <tr>\n",
       "      <th>6722</th>\n",
       "      <td>MLK Jr Dr &amp; 29th St</td>\n",
       "      <td>TA1307000139</td>\n",
       "      <td>-87.616948</td>\n",
       "      <td>41.842102</td>\n",
       "    </tr>\n",
       "    <tr>\n",
       "      <th>6724</th>\n",
       "      <td>MLK Jr Dr &amp; 29th St</td>\n",
       "      <td>TA1307000139</td>\n",
       "      <td>-87.616745</td>\n",
       "      <td>41.84208</td>\n",
       "    </tr>\n",
       "    <tr>\n",
       "      <th>6725</th>\n",
       "      <td>MLK Jr Dr &amp; 29th St</td>\n",
       "      <td>TA1307000139</td>\n",
       "      <td>-87.616887</td>\n",
       "      <td>41.84206</td>\n",
       "    </tr>\n",
       "    <tr>\n",
       "      <th>6979</th>\n",
       "      <td>MLK Jr Dr &amp; 29th St</td>\n",
       "      <td>TA1307000139</td>\n",
       "      <td>-87.617</td>\n",
       "      <td>41.842052</td>\n",
       "    </tr>\n",
       "    <tr>\n",
       "      <th>6980</th>\n",
       "      <td>MLK Jr Dr &amp; 29th St</td>\n",
       "      <td>TA1307000139</td>\n",
       "      <td>-87.617</td>\n",
       "      <td>41.842052</td>\n",
       "    </tr>\n",
       "    <tr>\n",
       "      <th>6983</th>\n",
       "      <td>MLK Jr Dr &amp; 29th St</td>\n",
       "      <td>TA1307000139</td>\n",
       "      <td>-87.616924</td>\n",
       "      <td>41.842005</td>\n",
       "    </tr>\n",
       "    <tr>\n",
       "      <th>6986</th>\n",
       "      <td>MLK Jr Dr &amp; 29th St</td>\n",
       "      <td>TA1307000139</td>\n",
       "      <td>-87.616927</td>\n",
       "      <td>41.842029</td>\n",
       "    </tr>\n",
       "    <tr>\n",
       "      <th>6991</th>\n",
       "      <td>MLK Jr Dr &amp; 29th St</td>\n",
       "      <td>TA1307000139</td>\n",
       "      <td>-87.617</td>\n",
       "      <td>41.842052</td>\n",
       "    </tr>\n",
       "  </tbody>\n",
       "</table>\n",
       "</div>"
      ],
      "text/plain": [
       "       start_station_name start_station_id  start_lng  start_lat\n",
       "6715  MLK Jr Dr & 29th St     TA1307000139 -87.616928  41.842064\n",
       "6716  MLK Jr Dr & 29th St     TA1307000139 -87.616958  41.842034\n",
       "6722  MLK Jr Dr & 29th St     TA1307000139 -87.616948  41.842102\n",
       "6724  MLK Jr Dr & 29th St     TA1307000139 -87.616745   41.84208\n",
       "6725  MLK Jr Dr & 29th St     TA1307000139 -87.616887   41.84206\n",
       "6979  MLK Jr Dr & 29th St     TA1307000139    -87.617  41.842052\n",
       "6980  MLK Jr Dr & 29th St     TA1307000139    -87.617  41.842052\n",
       "6983  MLK Jr Dr & 29th St     TA1307000139 -87.616924  41.842005\n",
       "6986  MLK Jr Dr & 29th St     TA1307000139 -87.616927  41.842029\n",
       "6991  MLK Jr Dr & 29th St     TA1307000139    -87.617  41.842052"
      ]
     },
     "execution_count": 12,
     "metadata": {},
     "output_type": "execute_result"
    }
   ],
   "source": [
    "mlkstationdf = df[df.start_station_name == 'MLK Jr Dr & 29th St']\n",
    "mlkstationdf[['start_station_name', 'start_station_id', 'start_lng', 'start_lat']].head(10)"
   ]
  },
  {
   "cell_type": "markdown",
   "id": "5b5184b2-7db7-4202-909b-998857f85c8e",
   "metadata": {},
   "source": [
    "'short_name' in station_data translates to 'station_id' in the original DataFrame.\n",
    "\n",
    "Note also some deviation in the longitude and lattitude, so we can't group by those terms.\n",
    "\n",
    "Let's port this data into a DataFrame"
   ]
  },
  {
   "cell_type": "code",
   "execution_count": 13,
   "id": "a3959be1-d626-44c0-9941-61e135e793c9",
   "metadata": {},
   "outputs": [],
   "source": [
    "station_df = pd.DataFrame(station_data).drop(columns = ['rental_uris', 'target_scooter_capacity'])"
   ]
  },
  {
   "cell_type": "code",
   "execution_count": 14,
   "id": "f9161175-fdd0-453a-a71d-c6f69cc091ad",
   "metadata": {},
   "outputs": [
    {
     "name": "stdout",
     "output_type": "stream",
     "text": [
      "<class 'pandas.core.frame.DataFrame'>\n",
      "RangeIndex: 1421 entries, 0 to 1420\n",
      "Data columns (total 21 columns):\n",
      " #   Column                                Non-Null Count  Dtype  \n",
      "---  ------                                --------------  -----  \n",
      " 0   eightd_has_key_dispenser              1421 non-null   bool   \n",
      " 1   legacy_id                             1421 non-null   object \n",
      " 2   short_name                            683 non-null    object \n",
      " 3   capacity                              1421 non-null   int64  \n",
      " 4   has_kiosk                             1421 non-null   bool   \n",
      " 5   name                                  1421 non-null   object \n",
      " 6   electric_bike_surcharge_waiver        1421 non-null   bool   \n",
      " 7   rental_methods                        683 non-null    object \n",
      " 8   eightd_station_services               1421 non-null   object \n",
      " 9   lon                                   1421 non-null   float64\n",
      " 10  station_type                          1421 non-null   object \n",
      " 11  external_id                           1421 non-null   object \n",
      " 12  station_id                            1421 non-null   object \n",
      " 13  lat                                   1421 non-null   float64\n",
      " 14  region_id                             14 non-null     object \n",
      " 15  dockless_bikes_parking_zone_capacity  738 non-null    float64\n",
      " 16  rack_model                            738 non-null    object \n",
      " 17  region_code                           738 non-null    object \n",
      " 18  address                               738 non-null    object \n",
      " 19  client_station_id                     738 non-null    object \n",
      " 20  target_bike_capacity                  10 non-null     float64\n",
      "dtypes: bool(3), float64(4), int64(1), object(13)\n",
      "memory usage: 204.1+ KB\n"
     ]
    }
   ],
   "source": [
    "station_df.info()"
   ]
  },
  {
   "cell_type": "markdown",
   "id": "4481ff16-8ee3-4798-a2d4-0e8376822b3b",
   "metadata": {},
   "source": [
    "Some of the short_name rows are null. Find out what the station_id in the df dataframe corresponds to in this instance"
   ]
  },
  {
   "cell_type": "code",
   "execution_count": 15,
   "id": "edfc638d-61a3-4969-93bf-bb464f7087f0",
   "metadata": {},
   "outputs": [],
   "source": [
    "pd.set_option('display.max_colwidth', None)\n",
    "pd.set_option('display.max_columns', None)"
   ]
  },
  {
   "cell_type": "code",
   "execution_count": 16,
   "id": "5da6a437-67f5-41d7-be8a-efe5a5bf7a9e",
   "metadata": {},
   "outputs": [
    {
     "data": {
      "text/html": [
       "<div>\n",
       "<style scoped>\n",
       "    .dataframe tbody tr th:only-of-type {\n",
       "        vertical-align: middle;\n",
       "    }\n",
       "\n",
       "    .dataframe tbody tr th {\n",
       "        vertical-align: top;\n",
       "    }\n",
       "\n",
       "    .dataframe thead th {\n",
       "        text-align: right;\n",
       "    }\n",
       "</style>\n",
       "<table border=\"1\" class=\"dataframe\">\n",
       "  <thead>\n",
       "    <tr style=\"text-align: right;\">\n",
       "      <th></th>\n",
       "      <th>eightd_has_key_dispenser</th>\n",
       "      <th>legacy_id</th>\n",
       "      <th>short_name</th>\n",
       "      <th>capacity</th>\n",
       "      <th>has_kiosk</th>\n",
       "      <th>name</th>\n",
       "      <th>electric_bike_surcharge_waiver</th>\n",
       "      <th>rental_methods</th>\n",
       "      <th>eightd_station_services</th>\n",
       "      <th>lon</th>\n",
       "      <th>station_type</th>\n",
       "      <th>external_id</th>\n",
       "      <th>station_id</th>\n",
       "      <th>lat</th>\n",
       "      <th>region_id</th>\n",
       "      <th>dockless_bikes_parking_zone_capacity</th>\n",
       "      <th>rack_model</th>\n",
       "      <th>region_code</th>\n",
       "      <th>address</th>\n",
       "      <th>client_station_id</th>\n",
       "      <th>target_bike_capacity</th>\n",
       "    </tr>\n",
       "  </thead>\n",
       "  <tbody>\n",
       "    <tr>\n",
       "      <th>683</th>\n",
       "      <td>False</td>\n",
       "      <td>1677249828124104782</td>\n",
       "      <td>NaN</td>\n",
       "      <td>1</td>\n",
       "      <td>False</td>\n",
       "      <td>Public Rack - Halsted St &amp; 80th St</td>\n",
       "      <td>False</td>\n",
       "      <td>NaN</td>\n",
       "      <td>[]</td>\n",
       "      <td>-87.644238</td>\n",
       "      <td>lightweight</td>\n",
       "      <td>motivate_CHI_1677249828124104782</td>\n",
       "      <td>1677249828124104782</td>\n",
       "      <td>41.748175</td>\n",
       "      <td>NaN</td>\n",
       "      <td>1.0</td>\n",
       "      <td>CITY_PUBLIC_RACK</td>\n",
       "      <td>CHI</td>\n",
       "      <td>8016-8022, South Halsted Street, Chester Highlands, Auburn Gresham, Chicago, Lake Township, Cook County, Illinois, 60628, United States</td>\n",
       "      <td>motivate_CHI_1677249828124104782</td>\n",
       "      <td>NaN</td>\n",
       "    </tr>\n",
       "    <tr>\n",
       "      <th>684</th>\n",
       "      <td>False</td>\n",
       "      <td>1561012887305957948</td>\n",
       "      <td>NaN</td>\n",
       "      <td>9</td>\n",
       "      <td>False</td>\n",
       "      <td>Lawndale Ave &amp; 16th St</td>\n",
       "      <td>False</td>\n",
       "      <td>NaN</td>\n",
       "      <td>[]</td>\n",
       "      <td>-87.717697</td>\n",
       "      <td>lightweight</td>\n",
       "      <td>motivate_CHI_1561012887305957948</td>\n",
       "      <td>1561012887305957948</td>\n",
       "      <td>41.859161</td>\n",
       "      <td>NaN</td>\n",
       "      <td>9.0</td>\n",
       "      <td>CITY_PILOT_RACK</td>\n",
       "      <td>CHI</td>\n",
       "      <td>1540, South Lawndale Avenue, North Lawndale, Chicago, Cook County, Illinois, 60623, United States</td>\n",
       "      <td>motivate_CHI_1561012887305957948</td>\n",
       "      <td>NaN</td>\n",
       "    </tr>\n",
       "  </tbody>\n",
       "</table>\n",
       "</div>"
      ],
      "text/plain": [
       "     eightd_has_key_dispenser            legacy_id short_name  capacity  \\\n",
       "683                     False  1677249828124104782        NaN         1   \n",
       "684                     False  1561012887305957948        NaN         9   \n",
       "\n",
       "     has_kiosk                                name  \\\n",
       "683      False  Public Rack - Halsted St & 80th St   \n",
       "684      False              Lawndale Ave & 16th St   \n",
       "\n",
       "     electric_bike_surcharge_waiver rental_methods eightd_station_services  \\\n",
       "683                           False            NaN                      []   \n",
       "684                           False            NaN                      []   \n",
       "\n",
       "           lon station_type                       external_id  \\\n",
       "683 -87.644238  lightweight  motivate_CHI_1677249828124104782   \n",
       "684 -87.717697  lightweight  motivate_CHI_1561012887305957948   \n",
       "\n",
       "              station_id        lat region_id  \\\n",
       "683  1677249828124104782  41.748175       NaN   \n",
       "684  1561012887305957948  41.859161       NaN   \n",
       "\n",
       "     dockless_bikes_parking_zone_capacity        rack_model region_code  \\\n",
       "683                                   1.0  CITY_PUBLIC_RACK         CHI   \n",
       "684                                   9.0   CITY_PILOT_RACK         CHI   \n",
       "\n",
       "                                                                                                                                     address  \\\n",
       "683  8016-8022, South Halsted Street, Chester Highlands, Auburn Gresham, Chicago, Lake Township, Cook County, Illinois, 60628, United States   \n",
       "684                                        1540, South Lawndale Avenue, North Lawndale, Chicago, Cook County, Illinois, 60623, United States   \n",
       "\n",
       "                    client_station_id  target_bike_capacity  \n",
       "683  motivate_CHI_1677249828124104782                   NaN  \n",
       "684  motivate_CHI_1561012887305957948                   NaN  "
      ]
     },
     "execution_count": 16,
     "metadata": {},
     "output_type": "execute_result"
    }
   ],
   "source": [
    "station_df[pd.isnull(station_df.short_name)].head(2)"
   ]
  },
  {
   "cell_type": "markdown",
   "id": "5a9ac3c0-6cd3-4dd6-a71a-99bded7f4f4f",
   "metadata": {},
   "source": [
    "These stations have names like Public Rack. Perhaps they just don't occur in the df DataFrame"
   ]
  },
  {
   "cell_type": "code",
   "execution_count": 17,
   "id": "8825a12f-aacc-428d-808f-5f5dddec0d8e",
   "metadata": {},
   "outputs": [
    {
     "data": {
      "text/plain": [
       "980"
      ]
     },
     "execution_count": 17,
     "metadata": {},
     "output_type": "execute_result"
    }
   ],
   "source": [
    "df.groupby('start_station_id').count().ride_id.count()"
   ]
  },
  {
   "cell_type": "code",
   "execution_count": 18,
   "id": "43ccde39-b9fa-4802-8cfd-a427e92e985c",
   "metadata": {},
   "outputs": [
    {
     "data": {
      "text/plain": [
       "966"
      ]
     },
     "execution_count": 18,
     "metadata": {},
     "output_type": "execute_result"
    }
   ],
   "source": [
    "df.groupby('end_station_id').count().ride_id.count()"
   ]
  },
  {
   "cell_type": "code",
   "execution_count": 19,
   "id": "a1de7d62-5d9f-4b87-9c3a-965b990e5039",
   "metadata": {},
   "outputs": [
    {
     "data": {
      "text/plain": [
       "1002"
      ]
     },
     "execution_count": 19,
     "metadata": {},
     "output_type": "execute_result"
    }
   ],
   "source": [
    "df.groupby('start_station_name').count().ride_id.count()"
   ]
  },
  {
   "cell_type": "code",
   "execution_count": 20,
   "id": "247222d4-cfa0-41ae-a31f-096e9a09490d",
   "metadata": {},
   "outputs": [
    {
     "data": {
      "text/plain": [
       "986"
      ]
     },
     "execution_count": 20,
     "metadata": {},
     "output_type": "execute_result"
    }
   ],
   "source": [
    "df.groupby('end_station_name').count().ride_id.count()"
   ]
  },
  {
   "cell_type": "markdown",
   "id": "b064b585-cfb6-46cc-b75f-8252bbe05ffd",
   "metadata": {},
   "source": [
    "These numbers are more than the stations with non-null short_name\n",
    "\n",
    "Find the items in df that do not have an associated short_name"
   ]
  },
  {
   "cell_type": "code",
   "execution_count": 21,
   "id": "94982f9c-8ab7-4932-b4e8-8ac3ac7e7b59",
   "metadata": {},
   "outputs": [
    {
     "data": {
      "text/html": [
       "<div>\n",
       "<style scoped>\n",
       "    .dataframe tbody tr th:only-of-type {\n",
       "        vertical-align: middle;\n",
       "    }\n",
       "\n",
       "    .dataframe tbody tr th {\n",
       "        vertical-align: top;\n",
       "    }\n",
       "\n",
       "    .dataframe thead th {\n",
       "        text-align: right;\n",
       "    }\n",
       "</style>\n",
       "<table border=\"1\" class=\"dataframe\">\n",
       "  <thead>\n",
       "    <tr style=\"text-align: right;\">\n",
       "      <th></th>\n",
       "      <th>eightd_has_key_dispenser</th>\n",
       "      <th>legacy_id</th>\n",
       "      <th>short_name</th>\n",
       "      <th>capacity</th>\n",
       "      <th>has_kiosk</th>\n",
       "      <th>name</th>\n",
       "      <th>electric_bike_surcharge_waiver</th>\n",
       "      <th>rental_methods</th>\n",
       "      <th>eightd_station_services</th>\n",
       "      <th>lon</th>\n",
       "      <th>station_type</th>\n",
       "      <th>external_id</th>\n",
       "      <th>station_id</th>\n",
       "      <th>lat</th>\n",
       "      <th>region_id</th>\n",
       "      <th>dockless_bikes_parking_zone_capacity</th>\n",
       "      <th>rack_model</th>\n",
       "      <th>region_code</th>\n",
       "      <th>address</th>\n",
       "      <th>client_station_id</th>\n",
       "      <th>target_bike_capacity</th>\n",
       "    </tr>\n",
       "  </thead>\n",
       "  <tbody>\n",
       "    <tr>\n",
       "      <th>352</th>\n",
       "      <td>False</td>\n",
       "      <td>350</td>\n",
       "      <td>13247</td>\n",
       "      <td>15</td>\n",
       "      <td>True</td>\n",
       "      <td>Ashland Ave &amp; Chicago Ave</td>\n",
       "      <td>False</td>\n",
       "      <td>[KEY, CREDITCARD, TRANSITCARD]</td>\n",
       "      <td>[]</td>\n",
       "      <td>-87.667728</td>\n",
       "      <td>classic</td>\n",
       "      <td>a3ac2b9c-a135-11e9-9cda-0a87ae2ba916</td>\n",
       "      <td>a3ac2b9c-a135-11e9-9cda-0a87ae2ba916</td>\n",
       "      <td>41.895954</td>\n",
       "      <td>NaN</td>\n",
       "      <td>NaN</td>\n",
       "      <td>NaN</td>\n",
       "      <td>NaN</td>\n",
       "      <td>NaN</td>\n",
       "      <td>NaN</td>\n",
       "      <td>NaN</td>\n",
       "    </tr>\n",
       "  </tbody>\n",
       "</table>\n",
       "</div>"
      ],
      "text/plain": [
       "     eightd_has_key_dispenser legacy_id short_name  capacity  has_kiosk  \\\n",
       "352                     False       350      13247        15       True   \n",
       "\n",
       "                          name  electric_bike_surcharge_waiver  \\\n",
       "352  Ashland Ave & Chicago Ave                           False   \n",
       "\n",
       "                     rental_methods eightd_station_services        lon  \\\n",
       "352  [KEY, CREDITCARD, TRANSITCARD]                      [] -87.667728   \n",
       "\n",
       "    station_type                           external_id  \\\n",
       "352      classic  a3ac2b9c-a135-11e9-9cda-0a87ae2ba916   \n",
       "\n",
       "                               station_id        lat region_id  \\\n",
       "352  a3ac2b9c-a135-11e9-9cda-0a87ae2ba916  41.895954       NaN   \n",
       "\n",
       "     dockless_bikes_parking_zone_capacity rack_model region_code address  \\\n",
       "352                                   NaN        NaN         NaN     NaN   \n",
       "\n",
       "    client_station_id  target_bike_capacity  \n",
       "352               NaN                   NaN  "
      ]
     },
     "execution_count": 21,
     "metadata": {},
     "output_type": "execute_result"
    }
   ],
   "source": [
    "station_df[station_df.short_name == '13247']"
   ]
  },
  {
   "cell_type": "code",
   "execution_count": 22,
   "id": "1c2e600b-65c2-4631-a10a-6c9f2578cc16",
   "metadata": {},
   "outputs": [
    {
     "data": {
      "text/html": [
       "<div>\n",
       "<style scoped>\n",
       "    .dataframe tbody tr th:only-of-type {\n",
       "        vertical-align: middle;\n",
       "    }\n",
       "\n",
       "    .dataframe tbody tr th {\n",
       "        vertical-align: top;\n",
       "    }\n",
       "\n",
       "    .dataframe thead th {\n",
       "        text-align: right;\n",
       "    }\n",
       "</style>\n",
       "<table border=\"1\" class=\"dataframe\">\n",
       "  <thead>\n",
       "    <tr style=\"text-align: right;\">\n",
       "      <th></th>\n",
       "      <th>ride_id</th>\n",
       "      <th>rideable_type</th>\n",
       "      <th>started_at</th>\n",
       "      <th>ended_at</th>\n",
       "      <th>start_station_name</th>\n",
       "      <th>start_station_id</th>\n",
       "      <th>end_station_name</th>\n",
       "      <th>end_station_id</th>\n",
       "      <th>start_lat</th>\n",
       "      <th>start_lng</th>\n",
       "      <th>end_lat</th>\n",
       "      <th>end_lng</th>\n",
       "      <th>member_casual</th>\n",
       "    </tr>\n",
       "  </thead>\n",
       "  <tbody>\n",
       "    <tr>\n",
       "      <th>0</th>\n",
       "      <td>65DBD2F447EC51C2</td>\n",
       "      <td>electric_bike</td>\n",
       "      <td>2022-12-05 10:47:18</td>\n",
       "      <td>2022-12-05 10:56:34</td>\n",
       "      <td>Clifton Ave &amp; Armitage Ave</td>\n",
       "      <td>TA1307000163</td>\n",
       "      <td>Sedgwick St &amp; Webster Ave</td>\n",
       "      <td>13191</td>\n",
       "      <td>41.918244</td>\n",
       "      <td>-87.657115</td>\n",
       "      <td>41.922167</td>\n",
       "      <td>-87.638888</td>\n",
       "      <td>member</td>\n",
       "    </tr>\n",
       "    <tr>\n",
       "      <th>1</th>\n",
       "      <td>0C201AA7EA0EA1AD</td>\n",
       "      <td>classic_bike</td>\n",
       "      <td>2022-12-18 06:42:33</td>\n",
       "      <td>2022-12-18 07:08:44</td>\n",
       "      <td>Broadway &amp; Belmont Ave</td>\n",
       "      <td>13277</td>\n",
       "      <td>Sedgwick St &amp; Webster Ave</td>\n",
       "      <td>13191</td>\n",
       "      <td>41.940106</td>\n",
       "      <td>-87.645451</td>\n",
       "      <td>41.922167</td>\n",
       "      <td>-87.638888</td>\n",
       "      <td>casual</td>\n",
       "    </tr>\n",
       "    <tr>\n",
       "      <th>2</th>\n",
       "      <td>E0B148CCB358A49D</td>\n",
       "      <td>electric_bike</td>\n",
       "      <td>2022-12-13 08:47:45</td>\n",
       "      <td>2022-12-13 08:59:51</td>\n",
       "      <td>Sangamon St &amp; Lake St</td>\n",
       "      <td>TA1306000015</td>\n",
       "      <td>St. Clair St &amp; Erie St</td>\n",
       "      <td>13016</td>\n",
       "      <td>41.885919</td>\n",
       "      <td>-87.651133</td>\n",
       "      <td>41.894345</td>\n",
       "      <td>-87.622798</td>\n",
       "      <td>member</td>\n",
       "    </tr>\n",
       "    <tr>\n",
       "      <th>3</th>\n",
       "      <td>54C5775D2B7C9188</td>\n",
       "      <td>classic_bike</td>\n",
       "      <td>2022-12-13 18:50:47</td>\n",
       "      <td>2022-12-13 19:19:48</td>\n",
       "      <td>Shields Ave &amp; 31st St</td>\n",
       "      <td>KA1503000038</td>\n",
       "      <td>Damen Ave &amp; Madison St</td>\n",
       "      <td>13134</td>\n",
       "      <td>41.838464</td>\n",
       "      <td>-87.635406</td>\n",
       "      <td>41.88137</td>\n",
       "      <td>-87.67493</td>\n",
       "      <td>member</td>\n",
       "    </tr>\n",
       "    <tr>\n",
       "      <th>4</th>\n",
       "      <td>A4891F78776D35DF</td>\n",
       "      <td>classic_bike</td>\n",
       "      <td>2022-12-14 16:13:39</td>\n",
       "      <td>2022-12-14 16:27:50</td>\n",
       "      <td>Ashland Ave &amp; Chicago Ave</td>\n",
       "      <td>13247</td>\n",
       "      <td>Damen Ave &amp; Charleston St</td>\n",
       "      <td>13288</td>\n",
       "      <td>41.895954</td>\n",
       "      <td>-87.667728</td>\n",
       "      <td>41.920082</td>\n",
       "      <td>-87.677855</td>\n",
       "      <td>casual</td>\n",
       "    </tr>\n",
       "  </tbody>\n",
       "</table>\n",
       "</div>"
      ],
      "text/plain": [
       "            ride_id  rideable_type          started_at            ended_at  \\\n",
       "0  65DBD2F447EC51C2  electric_bike 2022-12-05 10:47:18 2022-12-05 10:56:34   \n",
       "1  0C201AA7EA0EA1AD   classic_bike 2022-12-18 06:42:33 2022-12-18 07:08:44   \n",
       "2  E0B148CCB358A49D  electric_bike 2022-12-13 08:47:45 2022-12-13 08:59:51   \n",
       "3  54C5775D2B7C9188   classic_bike 2022-12-13 18:50:47 2022-12-13 19:19:48   \n",
       "4  A4891F78776D35DF   classic_bike 2022-12-14 16:13:39 2022-12-14 16:27:50   \n",
       "\n",
       "           start_station_name start_station_id           end_station_name  \\\n",
       "0  Clifton Ave & Armitage Ave     TA1307000163  Sedgwick St & Webster Ave   \n",
       "1      Broadway & Belmont Ave            13277  Sedgwick St & Webster Ave   \n",
       "2       Sangamon St & Lake St     TA1306000015     St. Clair St & Erie St   \n",
       "3       Shields Ave & 31st St     KA1503000038     Damen Ave & Madison St   \n",
       "4   Ashland Ave & Chicago Ave            13247  Damen Ave & Charleston St   \n",
       "\n",
       "  end_station_id  start_lat  start_lng    end_lat    end_lng member_casual  \n",
       "0          13191  41.918244 -87.657115  41.922167 -87.638888        member  \n",
       "1          13191  41.940106 -87.645451  41.922167 -87.638888        casual  \n",
       "2          13016  41.885919 -87.651133  41.894345 -87.622798        member  \n",
       "3          13134  41.838464 -87.635406   41.88137  -87.67493        member  \n",
       "4          13288  41.895954 -87.667728  41.920082 -87.677855        casual  "
      ]
     },
     "execution_count": 22,
     "metadata": {},
     "output_type": "execute_result"
    }
   ],
   "source": [
    "df.head()"
   ]
  },
  {
   "cell_type": "code",
   "execution_count": 23,
   "id": "0fdb456e-0795-4da3-9db3-220f1857ee34",
   "metadata": {},
   "outputs": [],
   "source": [
    "smaller_stationdf = station_df[['short_name', 'station_id', 'legacy_id', 'name']]\n",
    "df_merged = pd.merge(df[['ride_id', 'start_station_id', 'start_station_name']], smaller_stationdf.dropna(), how='left', left_on='start_station_id', right_on='short_name')\n"
   ]
  },
  {
   "cell_type": "code",
   "execution_count": 24,
   "id": "941ba64a-29cd-4c9c-ab0f-574a6cc2e178",
   "metadata": {},
   "outputs": [
    {
     "name": "stdout",
     "output_type": "stream",
     "text": [
      "<class 'pandas.core.frame.DataFrame'>\n",
      "Int64Index: 181806 entries, 0 to 181805\n",
      "Data columns (total 7 columns):\n",
      " #   Column              Non-Null Count   Dtype \n",
      "---  ------              --------------   ----- \n",
      " 0   ride_id             181806 non-null  string\n",
      " 1   start_station_id    152523 non-null  object\n",
      " 2   start_station_name  152523 non-null  string\n",
      " 3   short_name          148224 non-null  object\n",
      " 4   station_id          148224 non-null  object\n",
      " 5   legacy_id           148224 non-null  object\n",
      " 6   name                148224 non-null  object\n",
      "dtypes: object(5), string(2)\n",
      "memory usage: 11.1+ MB\n"
     ]
    }
   ],
   "source": [
    "df_merged.info()"
   ]
  },
  {
   "cell_type": "code",
   "execution_count": 25,
   "id": "a850f031-7a2a-4421-8aaf-d8201f217e6d",
   "metadata": {},
   "outputs": [],
   "source": [
    "# find rides where there is a start_station_id but no short_name\n",
    "df_station_noname = df_merged[df_merged.start_station_id.notnull() & df_merged.short_name.isnull()]"
   ]
  },
  {
   "cell_type": "code",
   "execution_count": 26,
   "id": "15f7d8bd-7b1e-4ca0-aadf-41d7efa8e37d",
   "metadata": {},
   "outputs": [
    {
     "data": {
      "text/html": [
       "<div>\n",
       "<style scoped>\n",
       "    .dataframe tbody tr th:only-of-type {\n",
       "        vertical-align: middle;\n",
       "    }\n",
       "\n",
       "    .dataframe tbody tr th {\n",
       "        vertical-align: top;\n",
       "    }\n",
       "\n",
       "    .dataframe thead th {\n",
       "        text-align: right;\n",
       "    }\n",
       "</style>\n",
       "<table border=\"1\" class=\"dataframe\">\n",
       "  <thead>\n",
       "    <tr style=\"text-align: right;\">\n",
       "      <th></th>\n",
       "      <th>ride_id</th>\n",
       "      <th>start_station_id</th>\n",
       "      <th>start_station_name</th>\n",
       "      <th>short_name</th>\n",
       "      <th>station_id</th>\n",
       "      <th>legacy_id</th>\n",
       "      <th>name</th>\n",
       "    </tr>\n",
       "  </thead>\n",
       "  <tbody>\n",
       "    <tr>\n",
       "      <th>56</th>\n",
       "      <td>877F743D4596EE0B</td>\n",
       "      <td>502</td>\n",
       "      <td>Public Rack - Milwaukee Ave &amp; Addison St</td>\n",
       "      <td>NaN</td>\n",
       "      <td>NaN</td>\n",
       "      <td>NaN</td>\n",
       "      <td>NaN</td>\n",
       "    </tr>\n",
       "    <tr>\n",
       "      <th>164</th>\n",
       "      <td>2E5FFABBF1B8C5CF</td>\n",
       "      <td>363.0</td>\n",
       "      <td>Tripp Ave &amp; 15th St</td>\n",
       "      <td>NaN</td>\n",
       "      <td>NaN</td>\n",
       "      <td>NaN</td>\n",
       "      <td>NaN</td>\n",
       "    </tr>\n",
       "    <tr>\n",
       "      <th>190</th>\n",
       "      <td>DB0C8326DA0608C4</td>\n",
       "      <td>363.0</td>\n",
       "      <td>Tripp Ave &amp; 15th St</td>\n",
       "      <td>NaN</td>\n",
       "      <td>NaN</td>\n",
       "      <td>NaN</td>\n",
       "      <td>NaN</td>\n",
       "    </tr>\n",
       "    <tr>\n",
       "      <th>283</th>\n",
       "      <td>94FB86D8E8CE494F</td>\n",
       "      <td>550</td>\n",
       "      <td>Public Rack - Laramie Ave &amp; Grand Ave</td>\n",
       "      <td>NaN</td>\n",
       "      <td>NaN</td>\n",
       "      <td>NaN</td>\n",
       "      <td>NaN</td>\n",
       "    </tr>\n",
       "    <tr>\n",
       "      <th>442</th>\n",
       "      <td>E6F44525EEF2FB29</td>\n",
       "      <td>341</td>\n",
       "      <td>Archer Ave &amp; 43rd St</td>\n",
       "      <td>NaN</td>\n",
       "      <td>NaN</td>\n",
       "      <td>NaN</td>\n",
       "      <td>NaN</td>\n",
       "    </tr>\n",
       "  </tbody>\n",
       "</table>\n",
       "</div>"
      ],
      "text/plain": [
       "              ride_id start_station_id  \\\n",
       "56   877F743D4596EE0B              502   \n",
       "164  2E5FFABBF1B8C5CF            363.0   \n",
       "190  DB0C8326DA0608C4            363.0   \n",
       "283  94FB86D8E8CE494F              550   \n",
       "442  E6F44525EEF2FB29              341   \n",
       "\n",
       "                           start_station_name short_name station_id legacy_id  \\\n",
       "56   Public Rack - Milwaukee Ave & Addison St        NaN        NaN       NaN   \n",
       "164                       Tripp Ave & 15th St        NaN        NaN       NaN   \n",
       "190                       Tripp Ave & 15th St        NaN        NaN       NaN   \n",
       "283     Public Rack - Laramie Ave & Grand Ave        NaN        NaN       NaN   \n",
       "442                      Archer Ave & 43rd St        NaN        NaN       NaN   \n",
       "\n",
       "    name  \n",
       "56   NaN  \n",
       "164  NaN  \n",
       "190  NaN  \n",
       "283  NaN  \n",
       "442  NaN  "
      ]
     },
     "execution_count": 26,
     "metadata": {},
     "output_type": "execute_result"
    }
   ],
   "source": [
    "df_station_noname.head()"
   ]
  },
  {
   "cell_type": "code",
   "execution_count": 27,
   "id": "25d90eb8-6b67-41bd-8a09-99d326ee76d7",
   "metadata": {},
   "outputs": [
    {
     "data": {
      "text/html": [
       "<div>\n",
       "<style scoped>\n",
       "    .dataframe tbody tr th:only-of-type {\n",
       "        vertical-align: middle;\n",
       "    }\n",
       "\n",
       "    .dataframe tbody tr th {\n",
       "        vertical-align: top;\n",
       "    }\n",
       "\n",
       "    .dataframe thead th {\n",
       "        text-align: right;\n",
       "    }\n",
       "</style>\n",
       "<table border=\"1\" class=\"dataframe\">\n",
       "  <thead>\n",
       "    <tr style=\"text-align: right;\">\n",
       "      <th></th>\n",
       "      <th>eightd_has_key_dispenser</th>\n",
       "      <th>legacy_id</th>\n",
       "      <th>short_name</th>\n",
       "      <th>capacity</th>\n",
       "      <th>has_kiosk</th>\n",
       "      <th>name</th>\n",
       "      <th>electric_bike_surcharge_waiver</th>\n",
       "      <th>rental_methods</th>\n",
       "      <th>eightd_station_services</th>\n",
       "      <th>lon</th>\n",
       "      <th>station_type</th>\n",
       "      <th>external_id</th>\n",
       "      <th>station_id</th>\n",
       "      <th>lat</th>\n",
       "      <th>region_id</th>\n",
       "      <th>dockless_bikes_parking_zone_capacity</th>\n",
       "      <th>rack_model</th>\n",
       "      <th>region_code</th>\n",
       "      <th>address</th>\n",
       "      <th>client_station_id</th>\n",
       "      <th>target_bike_capacity</th>\n",
       "    </tr>\n",
       "  </thead>\n",
       "  <tbody>\n",
       "    <tr>\n",
       "      <th>1070</th>\n",
       "      <td>False</td>\n",
       "      <td>1674190441410472710</td>\n",
       "      <td>NaN</td>\n",
       "      <td>1</td>\n",
       "      <td>False</td>\n",
       "      <td>Public Rack - Laramie Ave &amp; Grand Ave</td>\n",
       "      <td>False</td>\n",
       "      <td>NaN</td>\n",
       "      <td>[]</td>\n",
       "      <td>-87.755972</td>\n",
       "      <td>lightweight</td>\n",
       "      <td>motivate_CHI_1674190441410472710</td>\n",
       "      <td>1674190441410472710</td>\n",
       "      <td>41.917002</td>\n",
       "      <td>NaN</td>\n",
       "      <td>1.0</td>\n",
       "      <td>CITY_PUBLIC_RACK</td>\n",
       "      <td>CHI</td>\n",
       "      <td>1960, North Laramie Avenue, Beat 2515, Belmont Cragin, Chicago, Jefferson Township, Cook County, Illinois, 60641, United States</td>\n",
       "      <td>motivate_CHI_1674190441410472710</td>\n",
       "      <td>NaN</td>\n",
       "    </tr>\n",
       "    <tr>\n",
       "      <th>1239</th>\n",
       "      <td>False</td>\n",
       "      <td>1674190501540014956</td>\n",
       "      <td>NaN</td>\n",
       "      <td>3</td>\n",
       "      <td>False</td>\n",
       "      <td>Public Rack - Milwaukee Ave &amp; Addison St</td>\n",
       "      <td>False</td>\n",
       "      <td>NaN</td>\n",
       "      <td>[]</td>\n",
       "      <td>-87.735721</td>\n",
       "      <td>lightweight</td>\n",
       "      <td>motivate_CHI_1674190501540014956</td>\n",
       "      <td>1674190501540014956</td>\n",
       "      <td>41.946510</td>\n",
       "      <td>NaN</td>\n",
       "      <td>3.0</td>\n",
       "      <td>CITY_PUBLIC_RACK</td>\n",
       "      <td>CHI</td>\n",
       "      <td>Schurz High School, West Waveland Avenue, Irving Park, Chicago, Jefferson Township, Cook County, Illinois, 60641, United States</td>\n",
       "      <td>motivate_CHI_1674190501540014956</td>\n",
       "      <td>NaN</td>\n",
       "    </tr>\n",
       "  </tbody>\n",
       "</table>\n",
       "</div>"
      ],
      "text/plain": [
       "      eightd_has_key_dispenser            legacy_id short_name  capacity  \\\n",
       "1070                     False  1674190441410472710        NaN         1   \n",
       "1239                     False  1674190501540014956        NaN         3   \n",
       "\n",
       "      has_kiosk                                      name  \\\n",
       "1070      False     Public Rack - Laramie Ave & Grand Ave   \n",
       "1239      False  Public Rack - Milwaukee Ave & Addison St   \n",
       "\n",
       "      electric_bike_surcharge_waiver rental_methods eightd_station_services  \\\n",
       "1070                           False            NaN                      []   \n",
       "1239                           False            NaN                      []   \n",
       "\n",
       "            lon station_type                       external_id  \\\n",
       "1070 -87.755972  lightweight  motivate_CHI_1674190441410472710   \n",
       "1239 -87.735721  lightweight  motivate_CHI_1674190501540014956   \n",
       "\n",
       "               station_id        lat region_id  \\\n",
       "1070  1674190441410472710  41.917002       NaN   \n",
       "1239  1674190501540014956  41.946510       NaN   \n",
       "\n",
       "      dockless_bikes_parking_zone_capacity        rack_model region_code  \\\n",
       "1070                                   1.0  CITY_PUBLIC_RACK         CHI   \n",
       "1239                                   3.0  CITY_PUBLIC_RACK         CHI   \n",
       "\n",
       "                                                                                                                              address  \\\n",
       "1070  1960, North Laramie Avenue, Beat 2515, Belmont Cragin, Chicago, Jefferson Township, Cook County, Illinois, 60641, United States   \n",
       "1239  Schurz High School, West Waveland Avenue, Irving Park, Chicago, Jefferson Township, Cook County, Illinois, 60641, United States   \n",
       "\n",
       "                     client_station_id  target_bike_capacity  \n",
       "1070  motivate_CHI_1674190441410472710                   NaN  \n",
       "1239  motivate_CHI_1674190501540014956                   NaN  "
      ]
     },
     "execution_count": 27,
     "metadata": {},
     "output_type": "execute_result"
    }
   ],
   "source": [
    "station_df[(station_df.name == 'Public Rack - Milwaukee Ave & Addison St') | \\\n",
    "           (station_df.name == 'Public Rack - Laramie Ave & Grand Ave')]"
   ]
  },
  {
   "cell_type": "markdown",
   "id": "4efcba67-9e85-4907-80d8-7d4f719fef6f",
   "metadata": {},
   "source": [
    "It seems name could be a better index for joins. However, there may be some discrepancies in station names in the original df. There's not a good explanation for why there are more names than station IDs, and why this fact isn't accompanied by NaN values in the station ID column.\n",
    "\n",
    "Let's try joining based on name"
   ]
  },
  {
   "cell_type": "code",
   "execution_count": 28,
   "id": "4426d284-69ba-4a1c-80a0-0e0124967deb",
   "metadata": {},
   "outputs": [],
   "source": [
    "df_j = df.merge(station_df.set_index('name')['station_type'], how='left', left_on='start_station_name', right_on='name')"
   ]
  },
  {
   "cell_type": "code",
   "execution_count": 29,
   "id": "1616a925-2ecb-4927-a62c-1b53a56dfefc",
   "metadata": {},
   "outputs": [
    {
     "name": "stdout",
     "output_type": "stream",
     "text": [
      "<class 'pandas.core.frame.DataFrame'>\n",
      "Int64Index: 181806 entries, 0 to 181805\n",
      "Data columns (total 14 columns):\n",
      " #   Column              Non-Null Count   Dtype         \n",
      "---  ------              --------------   -----         \n",
      " 0   ride_id             181806 non-null  string        \n",
      " 1   rideable_type       181806 non-null  string        \n",
      " 2   started_at          181806 non-null  datetime64[ns]\n",
      " 3   ended_at            181806 non-null  datetime64[ns]\n",
      " 4   start_station_name  152523 non-null  object        \n",
      " 5   start_station_id    152523 non-null  string        \n",
      " 6   end_station_name    150648 non-null  string        \n",
      " 7   end_station_id      150648 non-null  string        \n",
      " 8   start_lat           181806 non-null  Float64       \n",
      " 9   start_lng           181806 non-null  Float64       \n",
      " 10  end_lat             181678 non-null  Float64       \n",
      " 11  end_lng             181678 non-null  Float64       \n",
      " 12  member_casual       181806 non-null  string        \n",
      " 13  station_type        151851 non-null  object        \n",
      "dtypes: Float64(4), datetime64[ns](2), object(2), string(6)\n",
      "memory usage: 21.5+ MB\n"
     ]
    }
   ],
   "source": [
    "df_j.info()"
   ]
  },
  {
   "cell_type": "code",
   "execution_count": 30,
   "id": "c09d0068-af05-47c6-adc1-91e64ae302f6",
   "metadata": {},
   "outputs": [
    {
     "data": {
      "text/plain": [
       "array(['Loomis St & Lexington St*', 'Campbell Ave & Montrose Ave (Temp)',\n",
       "       'Green St & Madison Ave*', 'Racine Ave & Fullerton Ave (Temp)'],\n",
       "      dtype=object)"
      ]
     },
     "execution_count": 30,
     "metadata": {},
     "output_type": "execute_result"
    }
   ],
   "source": [
    "df_j[df_j.start_station_name.notnull() & df_j.station_type.isnull()].start_station_name.unique()"
   ]
  },
  {
   "cell_type": "code",
   "execution_count": 31,
   "id": "fd16b58c-9f7f-424d-9bd9-5f72ea2a6a6d",
   "metadata": {},
   "outputs": [
    {
     "data": {
      "text/html": [
       "<div>\n",
       "<style scoped>\n",
       "    .dataframe tbody tr th:only-of-type {\n",
       "        vertical-align: middle;\n",
       "    }\n",
       "\n",
       "    .dataframe tbody tr th {\n",
       "        vertical-align: top;\n",
       "    }\n",
       "\n",
       "    .dataframe thead th {\n",
       "        text-align: right;\n",
       "    }\n",
       "</style>\n",
       "<table border=\"1\" class=\"dataframe\">\n",
       "  <thead>\n",
       "    <tr style=\"text-align: right;\">\n",
       "      <th></th>\n",
       "      <th>eightd_has_key_dispenser</th>\n",
       "      <th>legacy_id</th>\n",
       "      <th>short_name</th>\n",
       "      <th>capacity</th>\n",
       "      <th>has_kiosk</th>\n",
       "      <th>name</th>\n",
       "      <th>electric_bike_surcharge_waiver</th>\n",
       "      <th>rental_methods</th>\n",
       "      <th>eightd_station_services</th>\n",
       "      <th>lon</th>\n",
       "      <th>station_type</th>\n",
       "      <th>external_id</th>\n",
       "      <th>station_id</th>\n",
       "      <th>lat</th>\n",
       "      <th>region_id</th>\n",
       "      <th>dockless_bikes_parking_zone_capacity</th>\n",
       "      <th>rack_model</th>\n",
       "      <th>region_code</th>\n",
       "      <th>address</th>\n",
       "      <th>client_station_id</th>\n",
       "      <th>target_bike_capacity</th>\n",
       "    </tr>\n",
       "  </thead>\n",
       "  <tbody>\n",
       "    <tr>\n",
       "      <th>398</th>\n",
       "      <td>False</td>\n",
       "      <td>320</td>\n",
       "      <td>13332</td>\n",
       "      <td>19</td>\n",
       "      <td>True</td>\n",
       "      <td>Loomis St &amp; Lexington St</td>\n",
       "      <td>False</td>\n",
       "      <td>[KEY, CREDITCARD, TRANSITCARD]</td>\n",
       "      <td>[]</td>\n",
       "      <td>-87.661364</td>\n",
       "      <td>classic</td>\n",
       "      <td>a3aa9732-a135-11e9-9cda-0a87ae2ba916</td>\n",
       "      <td>a3aa9732-a135-11e9-9cda-0a87ae2ba916</td>\n",
       "      <td>41.872229</td>\n",
       "      <td>NaN</td>\n",
       "      <td>NaN</td>\n",
       "      <td>NaN</td>\n",
       "      <td>NaN</td>\n",
       "      <td>NaN</td>\n",
       "      <td>NaN</td>\n",
       "      <td>NaN</td>\n",
       "    </tr>\n",
       "  </tbody>\n",
       "</table>\n",
       "</div>"
      ],
      "text/plain": [
       "     eightd_has_key_dispenser legacy_id short_name  capacity  has_kiosk  \\\n",
       "398                     False       320      13332        19       True   \n",
       "\n",
       "                         name  electric_bike_surcharge_waiver  \\\n",
       "398  Loomis St & Lexington St                           False   \n",
       "\n",
       "                     rental_methods eightd_station_services        lon  \\\n",
       "398  [KEY, CREDITCARD, TRANSITCARD]                      [] -87.661364   \n",
       "\n",
       "    station_type                           external_id  \\\n",
       "398      classic  a3aa9732-a135-11e9-9cda-0a87ae2ba916   \n",
       "\n",
       "                               station_id        lat region_id  \\\n",
       "398  a3aa9732-a135-11e9-9cda-0a87ae2ba916  41.872229       NaN   \n",
       "\n",
       "     dockless_bikes_parking_zone_capacity rack_model region_code address  \\\n",
       "398                                   NaN        NaN         NaN     NaN   \n",
       "\n",
       "    client_station_id  target_bike_capacity  \n",
       "398               NaN                   NaN  "
      ]
     },
     "metadata": {},
     "output_type": "display_data"
    },
    {
     "data": {
      "text/html": [
       "<div>\n",
       "<style scoped>\n",
       "    .dataframe tbody tr th:only-of-type {\n",
       "        vertical-align: middle;\n",
       "    }\n",
       "\n",
       "    .dataframe tbody tr th {\n",
       "        vertical-align: top;\n",
       "    }\n",
       "\n",
       "    .dataframe thead th {\n",
       "        text-align: right;\n",
       "    }\n",
       "</style>\n",
       "<table border=\"1\" class=\"dataframe\">\n",
       "  <thead>\n",
       "    <tr style=\"text-align: right;\">\n",
       "      <th></th>\n",
       "      <th>eightd_has_key_dispenser</th>\n",
       "      <th>legacy_id</th>\n",
       "      <th>short_name</th>\n",
       "      <th>capacity</th>\n",
       "      <th>has_kiosk</th>\n",
       "      <th>name</th>\n",
       "      <th>electric_bike_surcharge_waiver</th>\n",
       "      <th>rental_methods</th>\n",
       "      <th>eightd_station_services</th>\n",
       "      <th>lon</th>\n",
       "      <th>station_type</th>\n",
       "      <th>external_id</th>\n",
       "      <th>station_id</th>\n",
       "      <th>lat</th>\n",
       "      <th>region_id</th>\n",
       "      <th>dockless_bikes_parking_zone_capacity</th>\n",
       "      <th>rack_model</th>\n",
       "      <th>region_code</th>\n",
       "      <th>address</th>\n",
       "      <th>client_station_id</th>\n",
       "      <th>target_bike_capacity</th>\n",
       "    </tr>\n",
       "  </thead>\n",
       "  <tbody>\n",
       "    <tr>\n",
       "      <th>578</th>\n",
       "      <td>False</td>\n",
       "      <td>482</td>\n",
       "      <td>15623</td>\n",
       "      <td>15</td>\n",
       "      <td>True</td>\n",
       "      <td>Campbell Ave &amp; Montrose Ave</td>\n",
       "      <td>False</td>\n",
       "      <td>[KEY, CREDITCARD, TRANSITCARD]</td>\n",
       "      <td>[]</td>\n",
       "      <td>-87.691177</td>\n",
       "      <td>classic</td>\n",
       "      <td>a3afa9dc-a135-11e9-9cda-0a87ae2ba916</td>\n",
       "      <td>a3afa9dc-a135-11e9-9cda-0a87ae2ba916</td>\n",
       "      <td>41.961524</td>\n",
       "      <td>NaN</td>\n",
       "      <td>NaN</td>\n",
       "      <td>NaN</td>\n",
       "      <td>NaN</td>\n",
       "      <td>NaN</td>\n",
       "      <td>NaN</td>\n",
       "      <td>NaN</td>\n",
       "    </tr>\n",
       "  </tbody>\n",
       "</table>\n",
       "</div>"
      ],
      "text/plain": [
       "     eightd_has_key_dispenser legacy_id short_name  capacity  has_kiosk  \\\n",
       "578                     False       482      15623        15       True   \n",
       "\n",
       "                            name  electric_bike_surcharge_waiver  \\\n",
       "578  Campbell Ave & Montrose Ave                           False   \n",
       "\n",
       "                     rental_methods eightd_station_services        lon  \\\n",
       "578  [KEY, CREDITCARD, TRANSITCARD]                      [] -87.691177   \n",
       "\n",
       "    station_type                           external_id  \\\n",
       "578      classic  a3afa9dc-a135-11e9-9cda-0a87ae2ba916   \n",
       "\n",
       "                               station_id        lat region_id  \\\n",
       "578  a3afa9dc-a135-11e9-9cda-0a87ae2ba916  41.961524       NaN   \n",
       "\n",
       "     dockless_bikes_parking_zone_capacity rack_model region_code address  \\\n",
       "578                                   NaN        NaN         NaN     NaN   \n",
       "\n",
       "    client_station_id  target_bike_capacity  \n",
       "578               NaN                   NaN  "
      ]
     },
     "metadata": {},
     "output_type": "display_data"
    },
    {
     "data": {
      "text/html": [
       "<div>\n",
       "<style scoped>\n",
       "    .dataframe tbody tr th:only-of-type {\n",
       "        vertical-align: middle;\n",
       "    }\n",
       "\n",
       "    .dataframe tbody tr th {\n",
       "        vertical-align: top;\n",
       "    }\n",
       "\n",
       "    .dataframe thead th {\n",
       "        text-align: right;\n",
       "    }\n",
       "</style>\n",
       "<table border=\"1\" class=\"dataframe\">\n",
       "  <thead>\n",
       "    <tr style=\"text-align: right;\">\n",
       "      <th></th>\n",
       "      <th>eightd_has_key_dispenser</th>\n",
       "      <th>legacy_id</th>\n",
       "      <th>short_name</th>\n",
       "      <th>capacity</th>\n",
       "      <th>has_kiosk</th>\n",
       "      <th>name</th>\n",
       "      <th>electric_bike_surcharge_waiver</th>\n",
       "      <th>rental_methods</th>\n",
       "      <th>eightd_station_services</th>\n",
       "      <th>lon</th>\n",
       "      <th>station_type</th>\n",
       "      <th>external_id</th>\n",
       "      <th>station_id</th>\n",
       "      <th>lat</th>\n",
       "      <th>region_id</th>\n",
       "      <th>dockless_bikes_parking_zone_capacity</th>\n",
       "      <th>rack_model</th>\n",
       "      <th>region_code</th>\n",
       "      <th>address</th>\n",
       "      <th>client_station_id</th>\n",
       "      <th>target_bike_capacity</th>\n",
       "    </tr>\n",
       "  </thead>\n",
       "  <tbody>\n",
       "  </tbody>\n",
       "</table>\n",
       "</div>"
      ],
      "text/plain": [
       "Empty DataFrame\n",
       "Columns: [eightd_has_key_dispenser, legacy_id, short_name, capacity, has_kiosk, name, electric_bike_surcharge_waiver, rental_methods, eightd_station_services, lon, station_type, external_id, station_id, lat, region_id, dockless_bikes_parking_zone_capacity, rack_model, region_code, address, client_station_id, target_bike_capacity]\n",
       "Index: []"
      ]
     },
     "metadata": {},
     "output_type": "display_data"
    },
    {
     "data": {
      "text/html": [
       "<div>\n",
       "<style scoped>\n",
       "    .dataframe tbody tr th:only-of-type {\n",
       "        vertical-align: middle;\n",
       "    }\n",
       "\n",
       "    .dataframe tbody tr th {\n",
       "        vertical-align: top;\n",
       "    }\n",
       "\n",
       "    .dataframe thead th {\n",
       "        text-align: right;\n",
       "    }\n",
       "</style>\n",
       "<table border=\"1\" class=\"dataframe\">\n",
       "  <thead>\n",
       "    <tr style=\"text-align: right;\">\n",
       "      <th></th>\n",
       "      <th>eightd_has_key_dispenser</th>\n",
       "      <th>legacy_id</th>\n",
       "      <th>short_name</th>\n",
       "      <th>capacity</th>\n",
       "      <th>has_kiosk</th>\n",
       "      <th>name</th>\n",
       "      <th>electric_bike_surcharge_waiver</th>\n",
       "      <th>rental_methods</th>\n",
       "      <th>eightd_station_services</th>\n",
       "      <th>lon</th>\n",
       "      <th>station_type</th>\n",
       "      <th>external_id</th>\n",
       "      <th>station_id</th>\n",
       "      <th>lat</th>\n",
       "      <th>region_id</th>\n",
       "      <th>dockless_bikes_parking_zone_capacity</th>\n",
       "      <th>rack_model</th>\n",
       "      <th>region_code</th>\n",
       "      <th>address</th>\n",
       "      <th>client_station_id</th>\n",
       "      <th>target_bike_capacity</th>\n",
       "    </tr>\n",
       "  </thead>\n",
       "  <tbody>\n",
       "    <tr>\n",
       "      <th>458</th>\n",
       "      <td>False</td>\n",
       "      <td>87</td>\n",
       "      <td>TA1306000026</td>\n",
       "      <td>19</td>\n",
       "      <td>True</td>\n",
       "      <td>Racine Ave &amp; Fullerton Ave</td>\n",
       "      <td>False</td>\n",
       "      <td>[KEY, CREDITCARD, TRANSITCARD]</td>\n",
       "      <td>[]</td>\n",
       "      <td>-87.658416</td>\n",
       "      <td>classic</td>\n",
       "      <td>a3a4fec3-a135-11e9-9cda-0a87ae2ba916</td>\n",
       "      <td>a3a4fec3-a135-11e9-9cda-0a87ae2ba916</td>\n",
       "      <td>41.925566</td>\n",
       "      <td>NaN</td>\n",
       "      <td>NaN</td>\n",
       "      <td>NaN</td>\n",
       "      <td>NaN</td>\n",
       "      <td>NaN</td>\n",
       "      <td>NaN</td>\n",
       "      <td>NaN</td>\n",
       "    </tr>\n",
       "  </tbody>\n",
       "</table>\n",
       "</div>"
      ],
      "text/plain": [
       "     eightd_has_key_dispenser legacy_id    short_name  capacity  has_kiosk  \\\n",
       "458                     False        87  TA1306000026        19       True   \n",
       "\n",
       "                           name  electric_bike_surcharge_waiver  \\\n",
       "458  Racine Ave & Fullerton Ave                           False   \n",
       "\n",
       "                     rental_methods eightd_station_services        lon  \\\n",
       "458  [KEY, CREDITCARD, TRANSITCARD]                      [] -87.658416   \n",
       "\n",
       "    station_type                           external_id  \\\n",
       "458      classic  a3a4fec3-a135-11e9-9cda-0a87ae2ba916   \n",
       "\n",
       "                               station_id        lat region_id  \\\n",
       "458  a3a4fec3-a135-11e9-9cda-0a87ae2ba916  41.925566       NaN   \n",
       "\n",
       "     dockless_bikes_parking_zone_capacity rack_model region_code address  \\\n",
       "458                                   NaN        NaN         NaN     NaN   \n",
       "\n",
       "    client_station_id  target_bike_capacity  \n",
       "458               NaN                   NaN  "
      ]
     },
     "metadata": {},
     "output_type": "display_data"
    }
   ],
   "source": [
    "display(station_df[station_df.name == 'Loomis St & Lexington St'])\n",
    "display(station_df[station_df.name == 'Campbell Ave & Montrose Ave'])\n",
    "display(station_df[station_df.name == 'Green St & Madison Ave'])\n",
    "display(station_df[station_df.name == 'Racine Ave & Fullerton Ave'])"
   ]
  },
  {
   "cell_type": "markdown",
   "id": "a990abf3-389b-401d-ae8c-0672771ae4d9",
   "metadata": {},
   "source": [
    "Interesting. start_station_name appended a * at the end of some names and (Temp) at the end of some names.\n",
    "\n",
    "However, (Temp) is at the end of some names in the station_df. We can replace the names above except for Green St & Madison Ave to get slightly better results\n",
    "\n",
    "It seems that just these few names are anomalous. We can get a decent estimate by assuming further NaN values in station_type just mean's it's similar to an electric bike and doesn't require an additional fee."
   ]
  },
  {
   "cell_type": "code",
   "execution_count": 32,
   "id": "f19c42b7-e5cd-466c-a7eb-28922f9a8eee",
   "metadata": {},
   "outputs": [
    {
     "data": {
      "text/plain": [
       "Index(['ride_id', 'rideable_type', 'started_at', 'ended_at',\n",
       "       'start_station_name', 'start_station_id', 'end_station_name',\n",
       "       'end_station_id', 'start_lat', 'start_lng', 'end_lat', 'end_lng',\n",
       "       'member_casual'],\n",
       "      dtype='object')"
      ]
     },
     "execution_count": 32,
     "metadata": {},
     "output_type": "execute_result"
    }
   ],
   "source": [
    "df.columns"
   ]
  },
  {
   "cell_type": "code",
   "execution_count": 33,
   "id": "7774faf4-87b4-4463-b821-40d5a6d8a585",
   "metadata": {},
   "outputs": [],
   "source": [
    "# replace the names that actually are in station_df and merge\n",
    "df.loc[df.start_station_name == 'Loomis St & Lexington St*', 'start_station_name'] = 'Loomis St & Lexington St'\n",
    "df.loc[df.start_station_name == 'Campbell Ave & Montrose Ave (Temp)', 'start_station_name'] = 'Campbell Ave & Montrose Ave'\n",
    "df.loc[df.start_station_name == 'Racine Ave & Fullerton Ave (Temp)', 'start_station_name'] = 'Racine Ave & Fullerton Ave'\n",
    "df = df.merge(station_df.set_index('name')['station_type'], how='left', left_on='start_station_name', right_on='name')\n",
    "df.rename(columns={'station_type': 'start_station_type'}, inplace=True)"
   ]
  },
  {
   "cell_type": "code",
   "execution_count": 34,
   "id": "dabe7888-a028-4f0b-883d-7cb2caf25ada",
   "metadata": {},
   "outputs": [],
   "source": [
    "# same for end stations\n",
    "df.loc[(df.end_station_name == 'Loomis St & Lexington St*'), 'end_station_name'] = 'Loomis St & Lexington St'\n",
    "df.loc[df.end_station_name == 'Campbell Ave & Montrose Ave (Temp)', 'end_station_name'] = 'Campbell Ave & Montrose Ave'\n",
    "df.loc[df.end_station_name == 'Racine Ave & Fullerton Ave (Temp)', 'end_station_name'] = 'Racine Ave & Fullerton Ave'\n",
    "df = df.merge(station_df.set_index('name')['station_type'], how='left', left_on='end_station_name', right_on='name')\n",
    "df.rename(columns={'station_type': 'end_station_type'}, inplace=True)"
   ]
  },
  {
   "cell_type": "code",
   "execution_count": 35,
   "id": "c94bc064-35b0-4de4-ba9f-b84f8f54bb14",
   "metadata": {},
   "outputs": [
    {
     "data": {
      "text/html": [
       "<div>\n",
       "<style scoped>\n",
       "    .dataframe tbody tr th:only-of-type {\n",
       "        vertical-align: middle;\n",
       "    }\n",
       "\n",
       "    .dataframe tbody tr th {\n",
       "        vertical-align: top;\n",
       "    }\n",
       "\n",
       "    .dataframe thead th {\n",
       "        text-align: right;\n",
       "    }\n",
       "</style>\n",
       "<table border=\"1\" class=\"dataframe\">\n",
       "  <thead>\n",
       "    <tr style=\"text-align: right;\">\n",
       "      <th></th>\n",
       "      <th>ride_id</th>\n",
       "      <th>rideable_type</th>\n",
       "      <th>started_at</th>\n",
       "      <th>ended_at</th>\n",
       "      <th>start_station_name</th>\n",
       "      <th>start_station_id</th>\n",
       "      <th>end_station_name</th>\n",
       "      <th>end_station_id</th>\n",
       "      <th>start_lat</th>\n",
       "      <th>start_lng</th>\n",
       "      <th>end_lat</th>\n",
       "      <th>end_lng</th>\n",
       "      <th>member_casual</th>\n",
       "      <th>start_station_type</th>\n",
       "      <th>end_station_type</th>\n",
       "    </tr>\n",
       "  </thead>\n",
       "  <tbody>\n",
       "    <tr>\n",
       "      <th>0</th>\n",
       "      <td>65DBD2F447EC51C2</td>\n",
       "      <td>electric_bike</td>\n",
       "      <td>2022-12-05 10:47:18</td>\n",
       "      <td>2022-12-05 10:56:34</td>\n",
       "      <td>Clifton Ave &amp; Armitage Ave</td>\n",
       "      <td>TA1307000163</td>\n",
       "      <td>Sedgwick St &amp; Webster Ave</td>\n",
       "      <td>13191</td>\n",
       "      <td>41.918244</td>\n",
       "      <td>-87.657115</td>\n",
       "      <td>41.922167</td>\n",
       "      <td>-87.638888</td>\n",
       "      <td>member</td>\n",
       "      <td>classic</td>\n",
       "      <td>classic</td>\n",
       "    </tr>\n",
       "  </tbody>\n",
       "</table>\n",
       "</div>"
      ],
      "text/plain": [
       "            ride_id  rideable_type          started_at            ended_at  \\\n",
       "0  65DBD2F447EC51C2  electric_bike 2022-12-05 10:47:18 2022-12-05 10:56:34   \n",
       "\n",
       "           start_station_name start_station_id           end_station_name  \\\n",
       "0  Clifton Ave & Armitage Ave     TA1307000163  Sedgwick St & Webster Ave   \n",
       "\n",
       "  end_station_id  start_lat  start_lng    end_lat    end_lng member_casual  \\\n",
       "0          13191  41.918244 -87.657115  41.922167 -87.638888        member   \n",
       "\n",
       "  start_station_type end_station_type  \n",
       "0            classic          classic  "
      ]
     },
     "execution_count": 35,
     "metadata": {},
     "output_type": "execute_result"
    }
   ],
   "source": [
    "df.head(1)"
   ]
  },
  {
   "cell_type": "code",
   "execution_count": 36,
   "id": "d0ad1997-5fed-4a3e-a68a-9db6e892b62a",
   "metadata": {},
   "outputs": [
    {
     "data": {
      "text/plain": [
       "start_station_type\n",
       "classic        148434\n",
       "lightweight      3837\n",
       "Name: ride_id, dtype: int64"
      ]
     },
     "execution_count": 36,
     "metadata": {},
     "output_type": "execute_result"
    }
   ],
   "source": [
    "df.groupby('start_station_type').ride_id.count()"
   ]
  },
  {
   "cell_type": "code",
   "execution_count": 37,
   "id": "445c906f-3bea-4cb1-a913-d396c60d20ba",
   "metadata": {},
   "outputs": [
    {
     "data": {
      "text/plain": [
       "29535"
      ]
     },
     "metadata": {},
     "output_type": "display_data"
    },
    {
     "data": {
      "text/plain": [
       "29283"
      ]
     },
     "metadata": {},
     "output_type": "display_data"
    }
   ],
   "source": [
    "display(df.shape[0] - df.start_station_type.count())  # total number of nan values\n",
    "display(df[df.start_station_name.isnull()].ride_id.count())  # number of values where the start station name is nan. Very similar"
   ]
  },
  {
   "cell_type": "code",
   "execution_count": 38,
   "id": "8dbdf5b1-ddd8-4c8d-a7fc-6928353aaf4a",
   "metadata": {},
   "outputs": [
    {
     "data": {
      "text/plain": [
       "end_station_type\n",
       "classic        147008\n",
       "lightweight      3373\n",
       "Name: ride_id, dtype: int64"
      ]
     },
     "execution_count": 38,
     "metadata": {},
     "output_type": "execute_result"
    }
   ],
   "source": [
    "df.groupby('end_station_type').ride_id.count()"
   ]
  },
  {
   "cell_type": "code",
   "execution_count": 39,
   "id": "e0f028ea-c247-4913-9583-1e72f2850286",
   "metadata": {},
   "outputs": [
    {
     "data": {
      "text/plain": [
       "31425"
      ]
     },
     "metadata": {},
     "output_type": "display_data"
    },
    {
     "data": {
      "text/plain": [
       "31158"
      ]
     },
     "metadata": {},
     "output_type": "display_data"
    }
   ],
   "source": [
    "display(df.shape[0] - df.end_station_type.count())  # total number of nan values\n",
    "display(df[df.end_station_name.isnull()].ride_id.count())  # number of values where the start station name is nan. Very similar"
   ]
  },
  {
   "cell_type": "markdown",
   "id": "5bf40099-53ba-4f5d-ad28-ccbe4c35e0b6",
   "metadata": {},
   "source": [
    "More confirmation that we won't miss much if we treat values where there is a start or end station but not a station type as if there should be no extra charge.\n",
    "\n",
    "We will set these station types to classic. Note this approximation."
   ]
  },
  {
   "cell_type": "code",
   "execution_count": 40,
   "id": "d9c96502-89bd-41c5-8aac-d5bf882de819",
   "metadata": {},
   "outputs": [],
   "source": [
    "df.loc[(df.start_station_name.notnull() & df.start_station_type.isnull()), 'start_station_type'] = 'classic'\n",
    "df.loc[(df.end_station_name.notnull() & df.end_station_type.isnull()), 'end_station_type'] = 'classic'"
   ]
  },
  {
   "cell_type": "markdown",
   "id": "6a641563-9615-4089-a4a8-1d3f5238476d",
   "metadata": {
    "jp-MarkdownHeadingCollapsed": true,
    "tags": []
   },
   "source": [
    "### Revenue analysis after cleaning\n",
    "\n",
    "We loaded a station dataframe into station_df and merged with df to generate the columns start_station_type and end_station_type. The main estimate made was that about 2-300 pts without a match between station_df and df were assumed to be 'classic' stations to avoid assuming extra fees were charged.\n",
    "\n",
    "Now we calculate ride time and ride costs. Assume docked_bike types are classic"
   ]
  },
  {
   "cell_type": "code",
   "execution_count": 41,
   "id": "c29ac955-32bd-41d8-8ad7-bec3d90da908",
   "metadata": {},
   "outputs": [
    {
     "data": {
      "text/plain": [
       "10"
      ]
     },
     "execution_count": 41,
     "metadata": {},
     "output_type": "execute_result"
    }
   ],
   "source": [
    "# extract the minutes, rounded up, first for one point\n",
    "ride_time = df['ended_at'].iloc[0] - df['started_at'].iloc[0]\n",
    "int(np.ceil(ride_time.total_seconds()/60))"
   ]
  },
  {
   "cell_type": "code",
   "execution_count": 42,
   "id": "a5cce798-4fea-4327-bafa-b49490dfc1cc",
   "metadata": {},
   "outputs": [],
   "source": [
    "# Then for the array\n",
    "tdelta = df['ended_at'] - df['started_at']\n",
    "df['ride_time_minutes'] = pd.Series([int(np.ceil(td.total_seconds()/60)) for td in tdelta])"
   ]
  },
  {
   "cell_type": "code",
   "execution_count": 43,
   "id": "9ccf1b91-22a5-4350-b742-66c5543e94b8",
   "metadata": {},
   "outputs": [
    {
     "data": {
      "text/html": [
       "<div>\n",
       "<style scoped>\n",
       "    .dataframe tbody tr th:only-of-type {\n",
       "        vertical-align: middle;\n",
       "    }\n",
       "\n",
       "    .dataframe tbody tr th {\n",
       "        vertical-align: top;\n",
       "    }\n",
       "\n",
       "    .dataframe thead th {\n",
       "        text-align: right;\n",
       "    }\n",
       "</style>\n",
       "<table border=\"1\" class=\"dataframe\">\n",
       "  <thead>\n",
       "    <tr style=\"text-align: right;\">\n",
       "      <th></th>\n",
       "      <th>ride_id</th>\n",
       "      <th>rideable_type</th>\n",
       "      <th>started_at</th>\n",
       "      <th>ended_at</th>\n",
       "      <th>start_station_name</th>\n",
       "      <th>start_station_id</th>\n",
       "      <th>end_station_name</th>\n",
       "      <th>end_station_id</th>\n",
       "      <th>start_lat</th>\n",
       "      <th>start_lng</th>\n",
       "      <th>end_lat</th>\n",
       "      <th>end_lng</th>\n",
       "      <th>member_casual</th>\n",
       "      <th>start_station_type</th>\n",
       "      <th>end_station_type</th>\n",
       "      <th>ride_time_minutes</th>\n",
       "    </tr>\n",
       "  </thead>\n",
       "  <tbody>\n",
       "    <tr>\n",
       "      <th>0</th>\n",
       "      <td>65DBD2F447EC51C2</td>\n",
       "      <td>electric_bike</td>\n",
       "      <td>2022-12-05 10:47:18</td>\n",
       "      <td>2022-12-05 10:56:34</td>\n",
       "      <td>Clifton Ave &amp; Armitage Ave</td>\n",
       "      <td>TA1307000163</td>\n",
       "      <td>Sedgwick St &amp; Webster Ave</td>\n",
       "      <td>13191</td>\n",
       "      <td>41.918244</td>\n",
       "      <td>-87.657115</td>\n",
       "      <td>41.922167</td>\n",
       "      <td>-87.638888</td>\n",
       "      <td>member</td>\n",
       "      <td>classic</td>\n",
       "      <td>classic</td>\n",
       "      <td>10</td>\n",
       "    </tr>\n",
       "    <tr>\n",
       "      <th>1</th>\n",
       "      <td>0C201AA7EA0EA1AD</td>\n",
       "      <td>classic_bike</td>\n",
       "      <td>2022-12-18 06:42:33</td>\n",
       "      <td>2022-12-18 07:08:44</td>\n",
       "      <td>Broadway &amp; Belmont Ave</td>\n",
       "      <td>13277</td>\n",
       "      <td>Sedgwick St &amp; Webster Ave</td>\n",
       "      <td>13191</td>\n",
       "      <td>41.940106</td>\n",
       "      <td>-87.645451</td>\n",
       "      <td>41.922167</td>\n",
       "      <td>-87.638888</td>\n",
       "      <td>casual</td>\n",
       "      <td>classic</td>\n",
       "      <td>classic</td>\n",
       "      <td>27</td>\n",
       "    </tr>\n",
       "  </tbody>\n",
       "</table>\n",
       "</div>"
      ],
      "text/plain": [
       "            ride_id  rideable_type          started_at            ended_at  \\\n",
       "0  65DBD2F447EC51C2  electric_bike 2022-12-05 10:47:18 2022-12-05 10:56:34   \n",
       "1  0C201AA7EA0EA1AD   classic_bike 2022-12-18 06:42:33 2022-12-18 07:08:44   \n",
       "\n",
       "           start_station_name start_station_id           end_station_name  \\\n",
       "0  Clifton Ave & Armitage Ave     TA1307000163  Sedgwick St & Webster Ave   \n",
       "1      Broadway & Belmont Ave            13277  Sedgwick St & Webster Ave   \n",
       "\n",
       "  end_station_id  start_lat  start_lng    end_lat    end_lng member_casual  \\\n",
       "0          13191  41.918244 -87.657115  41.922167 -87.638888        member   \n",
       "1          13191  41.940106 -87.645451  41.922167 -87.638888        casual   \n",
       "\n",
       "  start_station_type end_station_type  ride_time_minutes  \n",
       "0            classic          classic                 10  \n",
       "1            classic          classic                 27  "
      ]
     },
     "execution_count": 43,
     "metadata": {},
     "output_type": "execute_result"
    }
   ],
   "source": [
    "df.head(2)"
   ]
  },
  {
   "cell_type": "markdown",
   "id": "af007a85-d7f3-48af-808f-fe6808ab30e8",
   "metadata": {},
   "source": [
    "Electric bike ride costs"
   ]
  },
  {
   "cell_type": "code",
   "execution_count": 44,
   "id": "d69553e4-068a-42d9-b75f-e5fa9eeaaad0",
   "metadata": {},
   "outputs": [],
   "source": [
    "Ebool = df.rideable_type == 'electric_bike'\n",
    "membool = df.member_casual == 'member'\n",
    "casbool = df.member_casual == 'casual'\n",
    "\n",
    "# members without extra charges\n",
    "dock_condition = Ebool & membool & df.end_station_name.notnull()\n",
    "df.loc[dock_condition, 'ride_cost'] = 0.16*df.loc[dock_condition, 'ride_time_minutes']\n",
    "\n",
    "# members without end stations (assume they are approved public stations)\n",
    "public_condition = Ebool & membool & df.end_station_name.isnull()\n",
    "df.loc[public_condition, 'ride_cost'] = 0.16*df.loc[public_condition, 'ride_time_minutes'] + 1\n",
    "\n",
    "# casual without extra charges\n",
    "dock_condition = Ebool & casbool & df.end_station_name.notnull()\n",
    "df.loc[dock_condition, 'ride_cost'] = 0.39*df.loc[dock_condition, 'ride_time_minutes'] + 1\n",
    "\n",
    "# casual without end stations (assume they are approved public stations)\n",
    "public_condition = Ebool & casbool & df.end_station_name.isnull()\n",
    "df.loc[public_condition, 'ride_cost'] = 0.39*df.loc[public_condition, 'ride_time_minutes'] + 1 + 2"
   ]
  },
  {
   "cell_type": "code",
   "execution_count": 45,
   "id": "0334a37c-5da9-44ab-8730-1709b3ea39dd",
   "metadata": {},
   "outputs": [
    {
     "data": {
      "text/html": [
       "<div>\n",
       "<style scoped>\n",
       "    .dataframe tbody tr th:only-of-type {\n",
       "        vertical-align: middle;\n",
       "    }\n",
       "\n",
       "    .dataframe tbody tr th {\n",
       "        vertical-align: top;\n",
       "    }\n",
       "\n",
       "    .dataframe thead th {\n",
       "        text-align: right;\n",
       "    }\n",
       "</style>\n",
       "<table border=\"1\" class=\"dataframe\">\n",
       "  <thead>\n",
       "    <tr style=\"text-align: right;\">\n",
       "      <th></th>\n",
       "      <th>ride_id</th>\n",
       "      <th>rideable_type</th>\n",
       "      <th>started_at</th>\n",
       "      <th>ended_at</th>\n",
       "      <th>start_station_name</th>\n",
       "      <th>start_station_id</th>\n",
       "      <th>end_station_name</th>\n",
       "      <th>end_station_id</th>\n",
       "      <th>start_lat</th>\n",
       "      <th>start_lng</th>\n",
       "      <th>end_lat</th>\n",
       "      <th>end_lng</th>\n",
       "      <th>member_casual</th>\n",
       "      <th>start_station_type</th>\n",
       "      <th>end_station_type</th>\n",
       "      <th>ride_time_minutes</th>\n",
       "      <th>ride_cost</th>\n",
       "    </tr>\n",
       "  </thead>\n",
       "  <tbody>\n",
       "    <tr>\n",
       "      <th>0</th>\n",
       "      <td>65DBD2F447EC51C2</td>\n",
       "      <td>electric_bike</td>\n",
       "      <td>2022-12-05 10:47:18</td>\n",
       "      <td>2022-12-05 10:56:34</td>\n",
       "      <td>Clifton Ave &amp; Armitage Ave</td>\n",
       "      <td>TA1307000163</td>\n",
       "      <td>Sedgwick St &amp; Webster Ave</td>\n",
       "      <td>13191</td>\n",
       "      <td>41.918244</td>\n",
       "      <td>-87.657115</td>\n",
       "      <td>41.922167</td>\n",
       "      <td>-87.638888</td>\n",
       "      <td>member</td>\n",
       "      <td>classic</td>\n",
       "      <td>classic</td>\n",
       "      <td>10</td>\n",
       "      <td>1.60</td>\n",
       "    </tr>\n",
       "    <tr>\n",
       "      <th>2</th>\n",
       "      <td>E0B148CCB358A49D</td>\n",
       "      <td>electric_bike</td>\n",
       "      <td>2022-12-13 08:47:45</td>\n",
       "      <td>2022-12-13 08:59:51</td>\n",
       "      <td>Sangamon St &amp; Lake St</td>\n",
       "      <td>TA1306000015</td>\n",
       "      <td>St. Clair St &amp; Erie St</td>\n",
       "      <td>13016</td>\n",
       "      <td>41.885919</td>\n",
       "      <td>-87.651133</td>\n",
       "      <td>41.894345</td>\n",
       "      <td>-87.622798</td>\n",
       "      <td>member</td>\n",
       "      <td>classic</td>\n",
       "      <td>classic</td>\n",
       "      <td>13</td>\n",
       "      <td>2.08</td>\n",
       "    </tr>\n",
       "    <tr>\n",
       "      <th>5</th>\n",
       "      <td>DB91D9B8DFACA07A</td>\n",
       "      <td>electric_bike</td>\n",
       "      <td>2022-12-02 15:24:47</td>\n",
       "      <td>2022-12-02 15:34:14</td>\n",
       "      <td>Wabash Ave &amp; 9th St</td>\n",
       "      <td>TA1309000010</td>\n",
       "      <td>Wacker Dr &amp; Washington St</td>\n",
       "      <td>KA1503000072</td>\n",
       "      <td>41.870684</td>\n",
       "      <td>-87.625706</td>\n",
       "      <td>41.883143</td>\n",
       "      <td>-87.637242</td>\n",
       "      <td>member</td>\n",
       "      <td>classic</td>\n",
       "      <td>classic</td>\n",
       "      <td>10</td>\n",
       "      <td>1.60</td>\n",
       "    </tr>\n",
       "    <tr>\n",
       "      <th>15</th>\n",
       "      <td>9F827DE27022F311</td>\n",
       "      <td>electric_bike</td>\n",
       "      <td>2022-12-01 07:08:13</td>\n",
       "      <td>2022-12-01 07:18:04</td>\n",
       "      <td>Ashland Ave &amp; Chicago Ave</td>\n",
       "      <td>13247</td>\n",
       "      <td>Wacker Dr &amp; Washington St</td>\n",
       "      <td>KA1503000072</td>\n",
       "      <td>41.895983</td>\n",
       "      <td>-87.667694</td>\n",
       "      <td>41.883143</td>\n",
       "      <td>-87.637242</td>\n",
       "      <td>member</td>\n",
       "      <td>classic</td>\n",
       "      <td>classic</td>\n",
       "      <td>10</td>\n",
       "      <td>1.60</td>\n",
       "    </tr>\n",
       "    <tr>\n",
       "      <th>20</th>\n",
       "      <td>FF9A7FC5BCB6D029</td>\n",
       "      <td>electric_bike</td>\n",
       "      <td>2022-12-01 09:14:39</td>\n",
       "      <td>2022-12-01 09:26:56</td>\n",
       "      <td>Sedgwick St &amp; North Ave</td>\n",
       "      <td>TA1307000038</td>\n",
       "      <td>Wacker Dr &amp; Washington St</td>\n",
       "      <td>KA1503000072</td>\n",
       "      <td>41.911387</td>\n",
       "      <td>-87.638652</td>\n",
       "      <td>41.883143</td>\n",
       "      <td>-87.637242</td>\n",
       "      <td>member</td>\n",
       "      <td>classic</td>\n",
       "      <td>classic</td>\n",
       "      <td>13</td>\n",
       "      <td>2.08</td>\n",
       "    </tr>\n",
       "    <tr>\n",
       "      <th>21</th>\n",
       "      <td>1B2898656A62F1FB</td>\n",
       "      <td>electric_bike</td>\n",
       "      <td>2022-12-10 21:47:52</td>\n",
       "      <td>2022-12-10 22:07:02</td>\n",
       "      <td>Clifton Ave &amp; Armitage Ave</td>\n",
       "      <td>TA1307000163</td>\n",
       "      <td>Spaulding Ave &amp; Armitage Ave</td>\n",
       "      <td>15650</td>\n",
       "      <td>41.918221</td>\n",
       "      <td>-87.657062</td>\n",
       "      <td>41.917108</td>\n",
       "      <td>-87.710221</td>\n",
       "      <td>casual</td>\n",
       "      <td>classic</td>\n",
       "      <td>classic</td>\n",
       "      <td>20</td>\n",
       "      <td>8.80</td>\n",
       "    </tr>\n",
       "  </tbody>\n",
       "</table>\n",
       "</div>"
      ],
      "text/plain": [
       "             ride_id  rideable_type          started_at            ended_at  \\\n",
       "0   65DBD2F447EC51C2  electric_bike 2022-12-05 10:47:18 2022-12-05 10:56:34   \n",
       "2   E0B148CCB358A49D  electric_bike 2022-12-13 08:47:45 2022-12-13 08:59:51   \n",
       "5   DB91D9B8DFACA07A  electric_bike 2022-12-02 15:24:47 2022-12-02 15:34:14   \n",
       "15  9F827DE27022F311  electric_bike 2022-12-01 07:08:13 2022-12-01 07:18:04   \n",
       "20  FF9A7FC5BCB6D029  electric_bike 2022-12-01 09:14:39 2022-12-01 09:26:56   \n",
       "21  1B2898656A62F1FB  electric_bike 2022-12-10 21:47:52 2022-12-10 22:07:02   \n",
       "\n",
       "            start_station_name start_station_id              end_station_name  \\\n",
       "0   Clifton Ave & Armitage Ave     TA1307000163     Sedgwick St & Webster Ave   \n",
       "2        Sangamon St & Lake St     TA1306000015        St. Clair St & Erie St   \n",
       "5          Wabash Ave & 9th St     TA1309000010     Wacker Dr & Washington St   \n",
       "15   Ashland Ave & Chicago Ave            13247     Wacker Dr & Washington St   \n",
       "20     Sedgwick St & North Ave     TA1307000038     Wacker Dr & Washington St   \n",
       "21  Clifton Ave & Armitage Ave     TA1307000163  Spaulding Ave & Armitage Ave   \n",
       "\n",
       "   end_station_id  start_lat  start_lng    end_lat    end_lng member_casual  \\\n",
       "0           13191  41.918244 -87.657115  41.922167 -87.638888        member   \n",
       "2           13016  41.885919 -87.651133  41.894345 -87.622798        member   \n",
       "5    KA1503000072  41.870684 -87.625706  41.883143 -87.637242        member   \n",
       "15   KA1503000072  41.895983 -87.667694  41.883143 -87.637242        member   \n",
       "20   KA1503000072  41.911387 -87.638652  41.883143 -87.637242        member   \n",
       "21          15650  41.918221 -87.657062  41.917108 -87.710221        casual   \n",
       "\n",
       "   start_station_type end_station_type  ride_time_minutes  ride_cost  \n",
       "0             classic          classic                 10       1.60  \n",
       "2             classic          classic                 13       2.08  \n",
       "5             classic          classic                 10       1.60  \n",
       "15            classic          classic                 10       1.60  \n",
       "20            classic          classic                 13       2.08  \n",
       "21            classic          classic                 20       8.80  "
      ]
     },
     "execution_count": 45,
     "metadata": {},
     "output_type": "execute_result"
    }
   ],
   "source": [
    "df[df.rideable_type == 'electric_bike'].head(6)"
   ]
  },
  {
   "cell_type": "markdown",
   "id": "339a3df8-b5ac-4ec0-a578-ca61693aed2a",
   "metadata": {},
   "source": [
    "Classic (and 'docked') bike ride costs"
   ]
  },
  {
   "cell_type": "code",
   "execution_count": 46,
   "id": "8fc05b67-cdcd-4de8-984b-49198b816f24",
   "metadata": {},
   "outputs": [],
   "source": [
    "Cbool = (df.rideable_type == 'classic_bike') | (df.rideable_type == 'docked_bike')\n",
    "membool = df.member_casual == 'member'\n",
    "casbool = df.member_casual == 'casual'\n",
    "\n",
    "# members without extra charges included\n",
    "# add the no-station charges later\n",
    "min_g45condition = Cbool & membool & (df.ride_time_minutes > 45)\n",
    "min_l45condition = Cbool & membool & (df.ride_time_minutes <= 45)\n",
    "df.loc[min_g45condition, 'ride_cost'] = 0.16*(df.loc[min_g45condition, 'ride_time_minutes'] - 45)\n",
    "df.loc[min_l45condition, 'ride_cost'] = 0\n",
    "\n",
    "# casual without extra charges\n",
    "dock_condition = Cbool & casbool\n",
    "df.loc[dock_condition, 'ride_cost'] = 0.16*df.loc[dock_condition, 'ride_time_minutes'] + 1\n",
    "\n",
    "# members or casual ending with no end stations or at 'lightweight' stations\n",
    "nostation_condition = Cbool & (df.end_station_name.isnull() | (df.end_station_type == 'lightweight'))\n",
    "df.loc[nostation_condition, 'ride_cost'] += 25"
   ]
  },
  {
   "cell_type": "code",
   "execution_count": 47,
   "id": "53efa24f-3b6e-4ce6-8d5f-f8be97b5ac22",
   "metadata": {},
   "outputs": [
    {
     "data": {
      "text/html": [
       "<div>\n",
       "<style scoped>\n",
       "    .dataframe tbody tr th:only-of-type {\n",
       "        vertical-align: middle;\n",
       "    }\n",
       "\n",
       "    .dataframe tbody tr th {\n",
       "        vertical-align: top;\n",
       "    }\n",
       "\n",
       "    .dataframe thead th {\n",
       "        text-align: right;\n",
       "    }\n",
       "</style>\n",
       "<table border=\"1\" class=\"dataframe\">\n",
       "  <thead>\n",
       "    <tr style=\"text-align: right;\">\n",
       "      <th></th>\n",
       "      <th>ride_id</th>\n",
       "      <th>rideable_type</th>\n",
       "      <th>started_at</th>\n",
       "      <th>ended_at</th>\n",
       "      <th>start_station_name</th>\n",
       "      <th>start_station_id</th>\n",
       "      <th>end_station_name</th>\n",
       "      <th>end_station_id</th>\n",
       "      <th>start_lat</th>\n",
       "      <th>start_lng</th>\n",
       "      <th>end_lat</th>\n",
       "      <th>end_lng</th>\n",
       "      <th>member_casual</th>\n",
       "      <th>start_station_type</th>\n",
       "      <th>end_station_type</th>\n",
       "      <th>ride_time_minutes</th>\n",
       "      <th>ride_cost</th>\n",
       "    </tr>\n",
       "  </thead>\n",
       "  <tbody>\n",
       "    <tr>\n",
       "      <th>33479</th>\n",
       "      <td>3A63084DD6BDF06B</td>\n",
       "      <td>docked_bike</td>\n",
       "      <td>2022-12-18 12:23:47</td>\n",
       "      <td>2022-12-26 04:17:23</td>\n",
       "      <td>Wabash Ave &amp; 16th St</td>\n",
       "      <td>SL-012</td>\n",
       "      <td>&lt;NA&gt;</td>\n",
       "      <td>&lt;NA&gt;</td>\n",
       "      <td>41.860384</td>\n",
       "      <td>-87.625813</td>\n",
       "      <td>&lt;NA&gt;</td>\n",
       "      <td>&lt;NA&gt;</td>\n",
       "      <td>casual</td>\n",
       "      <td>classic</td>\n",
       "      <td>NaN</td>\n",
       "      <td>11034</td>\n",
       "      <td>1791.44</td>\n",
       "    </tr>\n",
       "    <tr>\n",
       "      <th>33486</th>\n",
       "      <td>65F993A2FB18EF57</td>\n",
       "      <td>docked_bike</td>\n",
       "      <td>2022-12-18 12:23:42</td>\n",
       "      <td>2022-12-19 13:23:43</td>\n",
       "      <td>Wabash Ave &amp; 16th St</td>\n",
       "      <td>SL-012</td>\n",
       "      <td>&lt;NA&gt;</td>\n",
       "      <td>&lt;NA&gt;</td>\n",
       "      <td>41.860384</td>\n",
       "      <td>-87.625813</td>\n",
       "      <td>&lt;NA&gt;</td>\n",
       "      <td>&lt;NA&gt;</td>\n",
       "      <td>casual</td>\n",
       "      <td>classic</td>\n",
       "      <td>NaN</td>\n",
       "      <td>1501</td>\n",
       "      <td>266.16</td>\n",
       "    </tr>\n",
       "    <tr>\n",
       "      <th>33734</th>\n",
       "      <td>65BCCF7D6C526A09</td>\n",
       "      <td>docked_bike</td>\n",
       "      <td>2022-12-05 03:37:43</td>\n",
       "      <td>2022-12-12 04:24:11</td>\n",
       "      <td>Ashland Ave &amp; Chicago Ave</td>\n",
       "      <td>13247</td>\n",
       "      <td>&lt;NA&gt;</td>\n",
       "      <td>&lt;NA&gt;</td>\n",
       "      <td>41.895954</td>\n",
       "      <td>-87.667728</td>\n",
       "      <td>&lt;NA&gt;</td>\n",
       "      <td>&lt;NA&gt;</td>\n",
       "      <td>casual</td>\n",
       "      <td>classic</td>\n",
       "      <td>NaN</td>\n",
       "      <td>10127</td>\n",
       "      <td>1646.32</td>\n",
       "    </tr>\n",
       "    <tr>\n",
       "      <th>33847</th>\n",
       "      <td>2F3A99BE1CA0D7B0</td>\n",
       "      <td>classic_bike</td>\n",
       "      <td>2022-12-27 21:16:41</td>\n",
       "      <td>2022-12-28 22:16:31</td>\n",
       "      <td>East End Ave &amp; 87th St</td>\n",
       "      <td>20231</td>\n",
       "      <td>&lt;NA&gt;</td>\n",
       "      <td>&lt;NA&gt;</td>\n",
       "      <td>41.736815</td>\n",
       "      <td>-87.582801</td>\n",
       "      <td>&lt;NA&gt;</td>\n",
       "      <td>&lt;NA&gt;</td>\n",
       "      <td>casual</td>\n",
       "      <td>classic</td>\n",
       "      <td>NaN</td>\n",
       "      <td>1500</td>\n",
       "      <td>266.00</td>\n",
       "    </tr>\n",
       "    <tr>\n",
       "      <th>34133</th>\n",
       "      <td>8D39DC6301ED64B9</td>\n",
       "      <td>classic_bike</td>\n",
       "      <td>2022-12-05 23:37:18</td>\n",
       "      <td>2022-12-07 00:37:12</td>\n",
       "      <td>State St &amp; Randolph St</td>\n",
       "      <td>TA1305000029</td>\n",
       "      <td>&lt;NA&gt;</td>\n",
       "      <td>&lt;NA&gt;</td>\n",
       "      <td>41.884621</td>\n",
       "      <td>-87.627834</td>\n",
       "      <td>&lt;NA&gt;</td>\n",
       "      <td>&lt;NA&gt;</td>\n",
       "      <td>casual</td>\n",
       "      <td>classic</td>\n",
       "      <td>NaN</td>\n",
       "      <td>1500</td>\n",
       "      <td>266.00</td>\n",
       "    </tr>\n",
       "  </tbody>\n",
       "</table>\n",
       "</div>"
      ],
      "text/plain": [
       "                ride_id rideable_type          started_at            ended_at  \\\n",
       "33479  3A63084DD6BDF06B   docked_bike 2022-12-18 12:23:47 2022-12-26 04:17:23   \n",
       "33486  65F993A2FB18EF57   docked_bike 2022-12-18 12:23:42 2022-12-19 13:23:43   \n",
       "33734  65BCCF7D6C526A09   docked_bike 2022-12-05 03:37:43 2022-12-12 04:24:11   \n",
       "33847  2F3A99BE1CA0D7B0  classic_bike 2022-12-27 21:16:41 2022-12-28 22:16:31   \n",
       "34133  8D39DC6301ED64B9  classic_bike 2022-12-05 23:37:18 2022-12-07 00:37:12   \n",
       "\n",
       "              start_station_name start_station_id end_station_name  \\\n",
       "33479       Wabash Ave & 16th St           SL-012             <NA>   \n",
       "33486       Wabash Ave & 16th St           SL-012             <NA>   \n",
       "33734  Ashland Ave & Chicago Ave            13247             <NA>   \n",
       "33847     East End Ave & 87th St            20231             <NA>   \n",
       "34133     State St & Randolph St     TA1305000029             <NA>   \n",
       "\n",
       "      end_station_id  start_lat  start_lng  end_lat  end_lng member_casual  \\\n",
       "33479           <NA>  41.860384 -87.625813     <NA>     <NA>        casual   \n",
       "33486           <NA>  41.860384 -87.625813     <NA>     <NA>        casual   \n",
       "33734           <NA>  41.895954 -87.667728     <NA>     <NA>        casual   \n",
       "33847           <NA>  41.736815 -87.582801     <NA>     <NA>        casual   \n",
       "34133           <NA>  41.884621 -87.627834     <NA>     <NA>        casual   \n",
       "\n",
       "      start_station_type end_station_type  ride_time_minutes  ride_cost  \n",
       "33479            classic              NaN              11034    1791.44  \n",
       "33486            classic              NaN               1501     266.16  \n",
       "33734            classic              NaN              10127    1646.32  \n",
       "33847            classic              NaN               1500     266.00  \n",
       "34133            classic              NaN               1500     266.00  "
      ]
     },
     "execution_count": 47,
     "metadata": {},
     "output_type": "execute_result"
    }
   ],
   "source": [
    "df[nostation_condition].head()"
   ]
  },
  {
   "cell_type": "code",
   "execution_count": 48,
   "id": "686bc416-a12e-481c-a369-3aab677e04c7",
   "metadata": {},
   "outputs": [
    {
     "data": {
      "text/plain": [
       "37634     3091.28\n",
       "144979    2981.36\n",
       "37637     2967.28\n",
       "43064     2921.52\n",
       "48907     2831.44\n",
       "39922     2740.72\n",
       "144357    2488.56\n",
       "126621    1939.60\n",
       "144390    1824.72\n",
       "33479     1791.44\n",
       "174784    1656.08\n",
       "33734     1646.32\n",
       "146434    1614.32\n",
       "143113    1570.64\n",
       "37525     1560.88\n",
       "34578     1336.08\n",
       "52025     1258.32\n",
       "44254     1232.72\n",
       "174826    1207.12\n",
       "146473    1111.92\n",
       "Name: ride_cost, dtype: float64"
      ]
     },
     "execution_count": 48,
     "metadata": {},
     "output_type": "execute_result"
    }
   ],
   "source": [
    "df['ride_cost'].sort_values(ascending=False).head(20)"
   ]
  },
  {
   "cell_type": "code",
   "execution_count": 49,
   "id": "967a67d7-fa1d-4015-bbd6-78350d72131a",
   "metadata": {},
   "outputs": [
    {
     "data": {
      "text/plain": [
       "count    181806.000000\n",
       "mean          2.551847\n",
       "std          24.173542\n",
       "min           0.000000\n",
       "25%           0.000000\n",
       "50%           1.280000\n",
       "75%           2.760000\n",
       "max        3091.280000\n",
       "Name: ride_cost, dtype: float64"
      ]
     },
     "execution_count": 49,
     "metadata": {},
     "output_type": "execute_result"
    }
   ],
   "source": [
    "df['ride_cost'].describe()"
   ]
  },
  {
   "cell_type": "markdown",
   "id": "ca8b6d4e-473f-49f9-8d8e-b4e81a6853c2",
   "metadata": {},
   "source": [
    "There are quite a few very large charges, likely due to strange circumstances. If needed, we could leave these really large values out, assuming the people who incurred the charges had reasons and contacted the company to get a refund."
   ]
  },
  {
   "cell_type": "markdown",
   "id": "173cc1b2-b93d-4e70-a6a9-ad5293645f17",
   "metadata": {},
   "source": [
    "### Revenue results"
   ]
  },
  {
   "cell_type": "markdown",
   "id": "fcb6f731-52c2-40d8-a58a-f285f9a01b67",
   "metadata": {},
   "source": [
    "A sunburst plot based on ride cost"
   ]
  },
  {
   "cell_type": "code",
   "execution_count": 139,
   "id": "e06570b3-da5a-468c-bd48-f374fecd3b42",
   "metadata": {},
   "outputs": [],
   "source": [
    "def cost_bin(value):\n",
    "    if value >= 50:\n",
    "        return '>= $50'\n",
    "    elif 10 <= value < 50:\n",
    "        return '[$10, $50)'\n",
    "    elif 5 <= value < 10:\n",
    "        return '[$5, $10)'\n",
    "    elif 2 <= value < 5:\n",
    "        return '[$2, $5)'\n",
    "    elif 0 <= value < 2:\n",
    "        return '[$0, $2)'\n",
    "    else:\n",
    "        return np.nan\n",
    "\n",
    "df_bin = df.loc[:, ['member_casual', 'rideable_type', 'ride_cost']]\n",
    "df_bin['cost_bins'] = pd.Series([cost_bin(cost) for cost in df_bin['ride_cost']])\n",
    "cost_df = df_bin.groupby(['member_casual', 'rideable_type', 'cost_bins']).ride_cost.sum()\n",
    "# cost_df = df.groupby(['member_casual', 'rideable_type']).ride_cost.sum()\n",
    "cost_df = pd.DataFrame(cost_df).reset_index()\n",
    "cost_df.loc[cost_df.rideable_type == 'classic_bike', 'rideable_type'] = 'classic bike'\n",
    "cost_df.loc[cost_df.rideable_type == 'electric_bike', 'rideable_type'] = 'electric bike'\n",
    "cost_df.loc[cost_df.rideable_type == 'docked_bike', 'rideable_type'] = 'docked bike'"
   ]
  },
  {
   "cell_type": "code",
   "execution_count": 162,
   "id": "56282c03-92c2-4dbe-80c5-cefb3e897645",
   "metadata": {},
   "outputs": [],
   "source": [
    "count_df = df_bin.loc[:, ['member_casual', 'rideable_type', 'cost_bins']].groupby(['member_casual', 'rideable_type', 'cost_bins']).member_casual.count()\n",
    "count_df = pd.DataFrame(count_df).rename(columns={'member_casual': 'counts'})\n",
    "count_df = pd.DataFrame(count_df).reset_index()\n",
    "count_df.loc[count_df.rideable_type == 'classic_bike', 'rideable_type'] = 'classic bike'\n",
    "count_df.loc[count_df.rideable_type == 'electric_bike', 'rideable_type'] = 'electric bike'\n",
    "count_df.loc[count_df.rideable_type == 'docked_bike', 'rideable_type'] = 'docked bike'"
   ]
  },
  {
   "cell_type": "code",
   "execution_count": 177,
   "id": "5e864a79-a49b-4b8f-a747-6dff523167f8",
   "metadata": {},
   "outputs": [
    {
     "data": {
      "application/vnd.plotly.v1+json": {
       "config": {
        "plotlyServerURL": "https://plot.ly"
       },
       "data": [
        {
         "branchvalues": "total",
         "domain": {
          "x": [
           0,
           1
          ],
          "y": [
           0,
           1
          ]
         },
         "hovertemplate": "labels=%{label}<br>ride_cost=%{value}<br>parent=%{parent}<br>id=%{id}<extra></extra>",
         "ids": [
          "casual/classic bike/>= $50",
          "member/classic bike/>= $50",
          "casual/docked bike/>= $50",
          "casual/electric bike/>= $50",
          "member/electric bike/>= $50",
          "casual/classic bike/[$0, $2)",
          "member/classic bike/[$0, $2)",
          "casual/docked bike/[$0, $2)",
          "casual/electric bike/[$0, $2)",
          "member/electric bike/[$0, $2)",
          "casual/classic bike/[$10, $50)",
          "member/classic bike/[$10, $50)",
          "casual/docked bike/[$10, $50)",
          "casual/electric bike/[$10, $50)",
          "member/electric bike/[$10, $50)",
          "casual/classic bike/[$2, $5)",
          "member/classic bike/[$2, $5)",
          "casual/docked bike/[$2, $5)",
          "casual/electric bike/[$2, $5)",
          "member/electric bike/[$2, $5)",
          "casual/classic bike/[$5, $10)",
          "member/classic bike/[$5, $10)",
          "casual/docked bike/[$5, $10)",
          "casual/electric bike/[$5, $10)",
          "member/electric bike/[$5, $10)",
          "casual/classic bike",
          "member/classic bike",
          "casual/docked bike",
          "casual/electric bike",
          "member/electric bike",
          "casual",
          "member"
         ],
         "labels": [
          ">= $50",
          ">= $50",
          ">= $50",
          ">= $50",
          ">= $50",
          "[$0, $2)",
          "[$0, $2)",
          "[$0, $2)",
          "[$0, $2)",
          "[$0, $2)",
          "[$10, $50)",
          "[$10, $50)",
          "[$10, $50)",
          "[$10, $50)",
          "[$10, $50)",
          "[$2, $5)",
          "[$2, $5)",
          "[$2, $5)",
          "[$2, $5)",
          "[$2, $5)",
          "[$5, $10)",
          "[$5, $10)",
          "[$5, $10)",
          "[$5, $10)",
          "[$5, $10)",
          "classic bike",
          "classic bike",
          "docked bike",
          "electric bike",
          "electric bike",
          "casual",
          "member"
         ],
         "name": "",
         "parents": [
          "casual/classic bike",
          "member/classic bike",
          "casual/docked bike",
          "casual/electric bike",
          "member/electric bike",
          "casual/classic bike",
          "member/classic bike",
          "casual/docked bike",
          "casual/electric bike",
          "member/electric bike",
          "casual/classic bike",
          "member/classic bike",
          "casual/docked bike",
          "casual/electric bike",
          "member/electric bike",
          "casual/classic bike",
          "member/classic bike",
          "casual/docked bike",
          "casual/electric bike",
          "member/electric bike",
          "casual/classic bike",
          "member/classic bike",
          "casual/docked bike",
          "casual/electric bike",
          "member/electric bike",
          "casual",
          "member",
          "casual",
          "casual",
          "member",
          "",
          ""
         ],
         "type": "sunburst",
         "values": [
          17762.16,
          9878.2,
          56780.76,
          1344.18,
          2607.6,
          5754.96,
          248.96,
          254.4,
          1114.67,
          59670.200000000004,
          8573.72,
          1164.48,
          3412,
          40298.94,
          11311.6,
          22413.72,
          339.04,
          3605.04,
          59252.74,
          61614.12,
          8172.56,
          285.44,
          2859.7200000000003,
          72442.58,
          12779.24,
          62677.12,
          11916.12,
          66911.92,
          174453.11,
          147982.76,
          304042.15,
          159898.88
         ]
        }
       ],
       "layout": {
        "height": 600,
        "legend": {
         "tracegroupgap": 0
        },
        "sunburstcolorway": [
         "#636EFA",
         "#EF553B",
         "#00CC96",
         "#AB63FA",
         "#FFA15A",
         "#19D3F3",
         "#FF6692",
         "#B6E880",
         "#FF97FF",
         "#FECB52"
        ],
        "template": {
         "data": {
          "bar": [
           {
            "error_x": {
             "color": "#2a3f5f"
            },
            "error_y": {
             "color": "#2a3f5f"
            },
            "marker": {
             "line": {
              "color": "#E5ECF6",
              "width": 0.5
             },
             "pattern": {
              "fillmode": "overlay",
              "size": 10,
              "solidity": 0.2
             }
            },
            "type": "bar"
           }
          ],
          "barpolar": [
           {
            "marker": {
             "line": {
              "color": "#E5ECF6",
              "width": 0.5
             },
             "pattern": {
              "fillmode": "overlay",
              "size": 10,
              "solidity": 0.2
             }
            },
            "type": "barpolar"
           }
          ],
          "carpet": [
           {
            "aaxis": {
             "endlinecolor": "#2a3f5f",
             "gridcolor": "white",
             "linecolor": "white",
             "minorgridcolor": "white",
             "startlinecolor": "#2a3f5f"
            },
            "baxis": {
             "endlinecolor": "#2a3f5f",
             "gridcolor": "white",
             "linecolor": "white",
             "minorgridcolor": "white",
             "startlinecolor": "#2a3f5f"
            },
            "type": "carpet"
           }
          ],
          "choropleth": [
           {
            "colorbar": {
             "outlinewidth": 0,
             "ticks": ""
            },
            "type": "choropleth"
           }
          ],
          "contour": [
           {
            "colorbar": {
             "outlinewidth": 0,
             "ticks": ""
            },
            "colorscale": [
             [
              0,
              "#0d0887"
             ],
             [
              0.1111111111111111,
              "#46039f"
             ],
             [
              0.2222222222222222,
              "#7201a8"
             ],
             [
              0.3333333333333333,
              "#9c179e"
             ],
             [
              0.4444444444444444,
              "#bd3786"
             ],
             [
              0.5555555555555556,
              "#d8576b"
             ],
             [
              0.6666666666666666,
              "#ed7953"
             ],
             [
              0.7777777777777778,
              "#fb9f3a"
             ],
             [
              0.8888888888888888,
              "#fdca26"
             ],
             [
              1,
              "#f0f921"
             ]
            ],
            "type": "contour"
           }
          ],
          "contourcarpet": [
           {
            "colorbar": {
             "outlinewidth": 0,
             "ticks": ""
            },
            "type": "contourcarpet"
           }
          ],
          "heatmap": [
           {
            "colorbar": {
             "outlinewidth": 0,
             "ticks": ""
            },
            "colorscale": [
             [
              0,
              "#0d0887"
             ],
             [
              0.1111111111111111,
              "#46039f"
             ],
             [
              0.2222222222222222,
              "#7201a8"
             ],
             [
              0.3333333333333333,
              "#9c179e"
             ],
             [
              0.4444444444444444,
              "#bd3786"
             ],
             [
              0.5555555555555556,
              "#d8576b"
             ],
             [
              0.6666666666666666,
              "#ed7953"
             ],
             [
              0.7777777777777778,
              "#fb9f3a"
             ],
             [
              0.8888888888888888,
              "#fdca26"
             ],
             [
              1,
              "#f0f921"
             ]
            ],
            "type": "heatmap"
           }
          ],
          "heatmapgl": [
           {
            "colorbar": {
             "outlinewidth": 0,
             "ticks": ""
            },
            "colorscale": [
             [
              0,
              "#0d0887"
             ],
             [
              0.1111111111111111,
              "#46039f"
             ],
             [
              0.2222222222222222,
              "#7201a8"
             ],
             [
              0.3333333333333333,
              "#9c179e"
             ],
             [
              0.4444444444444444,
              "#bd3786"
             ],
             [
              0.5555555555555556,
              "#d8576b"
             ],
             [
              0.6666666666666666,
              "#ed7953"
             ],
             [
              0.7777777777777778,
              "#fb9f3a"
             ],
             [
              0.8888888888888888,
              "#fdca26"
             ],
             [
              1,
              "#f0f921"
             ]
            ],
            "type": "heatmapgl"
           }
          ],
          "histogram": [
           {
            "marker": {
             "pattern": {
              "fillmode": "overlay",
              "size": 10,
              "solidity": 0.2
             }
            },
            "type": "histogram"
           }
          ],
          "histogram2d": [
           {
            "colorbar": {
             "outlinewidth": 0,
             "ticks": ""
            },
            "colorscale": [
             [
              0,
              "#0d0887"
             ],
             [
              0.1111111111111111,
              "#46039f"
             ],
             [
              0.2222222222222222,
              "#7201a8"
             ],
             [
              0.3333333333333333,
              "#9c179e"
             ],
             [
              0.4444444444444444,
              "#bd3786"
             ],
             [
              0.5555555555555556,
              "#d8576b"
             ],
             [
              0.6666666666666666,
              "#ed7953"
             ],
             [
              0.7777777777777778,
              "#fb9f3a"
             ],
             [
              0.8888888888888888,
              "#fdca26"
             ],
             [
              1,
              "#f0f921"
             ]
            ],
            "type": "histogram2d"
           }
          ],
          "histogram2dcontour": [
           {
            "colorbar": {
             "outlinewidth": 0,
             "ticks": ""
            },
            "colorscale": [
             [
              0,
              "#0d0887"
             ],
             [
              0.1111111111111111,
              "#46039f"
             ],
             [
              0.2222222222222222,
              "#7201a8"
             ],
             [
              0.3333333333333333,
              "#9c179e"
             ],
             [
              0.4444444444444444,
              "#bd3786"
             ],
             [
              0.5555555555555556,
              "#d8576b"
             ],
             [
              0.6666666666666666,
              "#ed7953"
             ],
             [
              0.7777777777777778,
              "#fb9f3a"
             ],
             [
              0.8888888888888888,
              "#fdca26"
             ],
             [
              1,
              "#f0f921"
             ]
            ],
            "type": "histogram2dcontour"
           }
          ],
          "mesh3d": [
           {
            "colorbar": {
             "outlinewidth": 0,
             "ticks": ""
            },
            "type": "mesh3d"
           }
          ],
          "parcoords": [
           {
            "line": {
             "colorbar": {
              "outlinewidth": 0,
              "ticks": ""
             }
            },
            "type": "parcoords"
           }
          ],
          "pie": [
           {
            "automargin": true,
            "type": "pie"
           }
          ],
          "scatter": [
           {
            "fillpattern": {
             "fillmode": "overlay",
             "size": 10,
             "solidity": 0.2
            },
            "type": "scatter"
           }
          ],
          "scatter3d": [
           {
            "line": {
             "colorbar": {
              "outlinewidth": 0,
              "ticks": ""
             }
            },
            "marker": {
             "colorbar": {
              "outlinewidth": 0,
              "ticks": ""
             }
            },
            "type": "scatter3d"
           }
          ],
          "scattercarpet": [
           {
            "marker": {
             "colorbar": {
              "outlinewidth": 0,
              "ticks": ""
             }
            },
            "type": "scattercarpet"
           }
          ],
          "scattergeo": [
           {
            "marker": {
             "colorbar": {
              "outlinewidth": 0,
              "ticks": ""
             }
            },
            "type": "scattergeo"
           }
          ],
          "scattergl": [
           {
            "marker": {
             "colorbar": {
              "outlinewidth": 0,
              "ticks": ""
             }
            },
            "type": "scattergl"
           }
          ],
          "scattermapbox": [
           {
            "marker": {
             "colorbar": {
              "outlinewidth": 0,
              "ticks": ""
             }
            },
            "type": "scattermapbox"
           }
          ],
          "scatterpolar": [
           {
            "marker": {
             "colorbar": {
              "outlinewidth": 0,
              "ticks": ""
             }
            },
            "type": "scatterpolar"
           }
          ],
          "scatterpolargl": [
           {
            "marker": {
             "colorbar": {
              "outlinewidth": 0,
              "ticks": ""
             }
            },
            "type": "scatterpolargl"
           }
          ],
          "scatterternary": [
           {
            "marker": {
             "colorbar": {
              "outlinewidth": 0,
              "ticks": ""
             }
            },
            "type": "scatterternary"
           }
          ],
          "surface": [
           {
            "colorbar": {
             "outlinewidth": 0,
             "ticks": ""
            },
            "colorscale": [
             [
              0,
              "#0d0887"
             ],
             [
              0.1111111111111111,
              "#46039f"
             ],
             [
              0.2222222222222222,
              "#7201a8"
             ],
             [
              0.3333333333333333,
              "#9c179e"
             ],
             [
              0.4444444444444444,
              "#bd3786"
             ],
             [
              0.5555555555555556,
              "#d8576b"
             ],
             [
              0.6666666666666666,
              "#ed7953"
             ],
             [
              0.7777777777777778,
              "#fb9f3a"
             ],
             [
              0.8888888888888888,
              "#fdca26"
             ],
             [
              1,
              "#f0f921"
             ]
            ],
            "type": "surface"
           }
          ],
          "table": [
           {
            "cells": {
             "fill": {
              "color": "#EBF0F8"
             },
             "line": {
              "color": "white"
             }
            },
            "header": {
             "fill": {
              "color": "#C8D4E3"
             },
             "line": {
              "color": "white"
             }
            },
            "type": "table"
           }
          ]
         },
         "layout": {
          "annotationdefaults": {
           "arrowcolor": "#2a3f5f",
           "arrowhead": 0,
           "arrowwidth": 1
          },
          "autotypenumbers": "strict",
          "coloraxis": {
           "colorbar": {
            "outlinewidth": 0,
            "ticks": ""
           }
          },
          "colorscale": {
           "diverging": [
            [
             0,
             "#8e0152"
            ],
            [
             0.1,
             "#c51b7d"
            ],
            [
             0.2,
             "#de77ae"
            ],
            [
             0.3,
             "#f1b6da"
            ],
            [
             0.4,
             "#fde0ef"
            ],
            [
             0.5,
             "#f7f7f7"
            ],
            [
             0.6,
             "#e6f5d0"
            ],
            [
             0.7,
             "#b8e186"
            ],
            [
             0.8,
             "#7fbc41"
            ],
            [
             0.9,
             "#4d9221"
            ],
            [
             1,
             "#276419"
            ]
           ],
           "sequential": [
            [
             0,
             "#0d0887"
            ],
            [
             0.1111111111111111,
             "#46039f"
            ],
            [
             0.2222222222222222,
             "#7201a8"
            ],
            [
             0.3333333333333333,
             "#9c179e"
            ],
            [
             0.4444444444444444,
             "#bd3786"
            ],
            [
             0.5555555555555556,
             "#d8576b"
            ],
            [
             0.6666666666666666,
             "#ed7953"
            ],
            [
             0.7777777777777778,
             "#fb9f3a"
            ],
            [
             0.8888888888888888,
             "#fdca26"
            ],
            [
             1,
             "#f0f921"
            ]
           ],
           "sequentialminus": [
            [
             0,
             "#0d0887"
            ],
            [
             0.1111111111111111,
             "#46039f"
            ],
            [
             0.2222222222222222,
             "#7201a8"
            ],
            [
             0.3333333333333333,
             "#9c179e"
            ],
            [
             0.4444444444444444,
             "#bd3786"
            ],
            [
             0.5555555555555556,
             "#d8576b"
            ],
            [
             0.6666666666666666,
             "#ed7953"
            ],
            [
             0.7777777777777778,
             "#fb9f3a"
            ],
            [
             0.8888888888888888,
             "#fdca26"
            ],
            [
             1,
             "#f0f921"
            ]
           ]
          },
          "colorway": [
           "#636efa",
           "#EF553B",
           "#00cc96",
           "#ab63fa",
           "#FFA15A",
           "#19d3f3",
           "#FF6692",
           "#B6E880",
           "#FF97FF",
           "#FECB52"
          ],
          "font": {
           "color": "#2a3f5f"
          },
          "geo": {
           "bgcolor": "white",
           "lakecolor": "white",
           "landcolor": "#E5ECF6",
           "showlakes": true,
           "showland": true,
           "subunitcolor": "white"
          },
          "hoverlabel": {
           "align": "left"
          },
          "hovermode": "closest",
          "mapbox": {
           "style": "light"
          },
          "paper_bgcolor": "white",
          "plot_bgcolor": "#E5ECF6",
          "polar": {
           "angularaxis": {
            "gridcolor": "white",
            "linecolor": "white",
            "ticks": ""
           },
           "bgcolor": "#E5ECF6",
           "radialaxis": {
            "gridcolor": "white",
            "linecolor": "white",
            "ticks": ""
           }
          },
          "scene": {
           "xaxis": {
            "backgroundcolor": "#E5ECF6",
            "gridcolor": "white",
            "gridwidth": 2,
            "linecolor": "white",
            "showbackground": true,
            "ticks": "",
            "zerolinecolor": "white"
           },
           "yaxis": {
            "backgroundcolor": "#E5ECF6",
            "gridcolor": "white",
            "gridwidth": 2,
            "linecolor": "white",
            "showbackground": true,
            "ticks": "",
            "zerolinecolor": "white"
           },
           "zaxis": {
            "backgroundcolor": "#E5ECF6",
            "gridcolor": "white",
            "gridwidth": 2,
            "linecolor": "white",
            "showbackground": true,
            "ticks": "",
            "zerolinecolor": "white"
           }
          },
          "shapedefaults": {
           "line": {
            "color": "#2a3f5f"
           }
          },
          "ternary": {
           "aaxis": {
            "gridcolor": "white",
            "linecolor": "white",
            "ticks": ""
           },
           "baxis": {
            "gridcolor": "white",
            "linecolor": "white",
            "ticks": ""
           },
           "bgcolor": "#E5ECF6",
           "caxis": {
            "gridcolor": "white",
            "linecolor": "white",
            "ticks": ""
           }
          },
          "title": {
           "x": 0.05
          },
          "xaxis": {
           "automargin": true,
           "gridcolor": "white",
           "linecolor": "white",
           "ticks": "",
           "title": {
            "standoff": 15
           },
           "zerolinecolor": "white",
           "zerolinewidth": 2
          },
          "yaxis": {
           "automargin": true,
           "gridcolor": "white",
           "linecolor": "white",
           "ticks": "",
           "title": {
            "standoff": 15
           },
           "zerolinecolor": "white",
           "zerolinewidth": 2
          }
         }
        },
        "title": {
         "text": "December Revenue Distribution"
        },
        "width": 600
       }
      },
      "image/png": "[encoded data removed]",
      "text/html": [
       "<div>                            <div id=\"cd31d920-3fa8-47d3-8192-248136c14a15\" class=\"plotly-graph-div\" style=\"height:600px; width:600px;\"></div>            <script type=\"text/javascript\">                require([\"plotly\"], function(Plotly) {                    window.PLOTLYENV=window.PLOTLYENV || {};                                    if (document.getElementById(\"cd31d920-3fa8-47d3-8192-248136c14a15\")) {                    Plotly.newPlot(                        \"cd31d920-3fa8-47d3-8192-248136c14a15\",                        [{\"branchvalues\":\"total\",\"domain\":{\"x\":[0.0,1.0],\"y\":[0.0,1.0]},\"hovertemplate\":\"labels=%{label}<br>ride_cost=%{value}<br>parent=%{parent}<br>id=%{id}<extra></extra>\",\"ids\":[\"casual/classic bike/>= $50\",\"member/classic bike/>= $50\",\"casual/docked bike/>= $50\",\"casual/electric bike/>= $50\",\"member/electric bike/>= $50\",\"casual/classic bike/[$0, $2)\",\"member/classic bike/[$0, $2)\",\"casual/docked bike/[$0, $2)\",\"casual/electric bike/[$0, $2)\",\"member/electric bike/[$0, $2)\",\"casual/classic bike/[$10, $50)\",\"member/classic bike/[$10, $50)\",\"casual/docked bike/[$10, $50)\",\"casual/electric bike/[$10, $50)\",\"member/electric bike/[$10, $50)\",\"casual/classic bike/[$2, $5)\",\"member/classic bike/[$2, $5)\",\"casual/docked bike/[$2, $5)\",\"casual/electric bike/[$2, $5)\",\"member/electric bike/[$2, $5)\",\"casual/classic bike/[$5, $10)\",\"member/classic bike/[$5, $10)\",\"casual/docked bike/[$5, $10)\",\"casual/electric bike/[$5, $10)\",\"member/electric bike/[$5, $10)\",\"casual/classic bike\",\"member/classic bike\",\"casual/docked bike\",\"casual/electric bike\",\"member/electric bike\",\"casual\",\"member\"],\"labels\":[\">= $50\",\">= $50\",\">= $50\",\">= $50\",\">= $50\",\"[$0, $2)\",\"[$0, $2)\",\"[$0, $2)\",\"[$0, $2)\",\"[$0, $2)\",\"[$10, $50)\",\"[$10, $50)\",\"[$10, $50)\",\"[$10, $50)\",\"[$10, $50)\",\"[$2, $5)\",\"[$2, $5)\",\"[$2, $5)\",\"[$2, $5)\",\"[$2, $5)\",\"[$5, $10)\",\"[$5, $10)\",\"[$5, $10)\",\"[$5, $10)\",\"[$5, $10)\",\"classic bike\",\"classic bike\",\"docked bike\",\"electric bike\",\"electric bike\",\"casual\",\"member\"],\"name\":\"\",\"parents\":[\"casual/classic bike\",\"member/classic bike\",\"casual/docked bike\",\"casual/electric bike\",\"member/electric bike\",\"casual/classic bike\",\"member/classic bike\",\"casual/docked bike\",\"casual/electric bike\",\"member/electric bike\",\"casual/classic bike\",\"member/classic bike\",\"casual/docked bike\",\"casual/electric bike\",\"member/electric bike\",\"casual/classic bike\",\"member/classic bike\",\"casual/docked bike\",\"casual/electric bike\",\"member/electric bike\",\"casual/classic bike\",\"member/classic bike\",\"casual/docked bike\",\"casual/electric bike\",\"member/electric bike\",\"casual\",\"member\",\"casual\",\"casual\",\"member\",\"\",\"\"],\"values\":[17762.16,9878.2,56780.76,1344.18,2607.6,5754.96,248.96,254.4,1114.67,59670.200000000004,8573.72,1164.48,3412.0,40298.94,11311.6,22413.72,339.04,3605.04,59252.74,61614.12,8172.56,285.44,2859.7200000000003,72442.58,12779.24,62677.12,11916.12,66911.92,174453.11,147982.76,304042.15,159898.88],\"type\":\"sunburst\"}],                        {\"template\":{\"data\":{\"histogram2dcontour\":[{\"type\":\"histogram2dcontour\",\"colorbar\":{\"outlinewidth\":0,\"ticks\":\"\"},\"colorscale\":[[0.0,\"#0d0887\"],[0.1111111111111111,\"#46039f\"],[0.2222222222222222,\"#7201a8\"],[0.3333333333333333,\"#9c179e\"],[0.4444444444444444,\"#bd3786\"],[0.5555555555555556,\"#d8576b\"],[0.6666666666666666,\"#ed7953\"],[0.7777777777777778,\"#fb9f3a\"],[0.8888888888888888,\"#fdca26\"],[1.0,\"#f0f921\"]]}],\"choropleth\":[{\"type\":\"choropleth\",\"colorbar\":{\"outlinewidth\":0,\"ticks\":\"\"}}],\"histogram2d\":[{\"type\":\"histogram2d\",\"colorbar\":{\"outlinewidth\":0,\"ticks\":\"\"},\"colorscale\":[[0.0,\"#0d0887\"],[0.1111111111111111,\"#46039f\"],[0.2222222222222222,\"#7201a8\"],[0.3333333333333333,\"#9c179e\"],[0.4444444444444444,\"#bd3786\"],[0.5555555555555556,\"#d8576b\"],[0.6666666666666666,\"#ed7953\"],[0.7777777777777778,\"#fb9f3a\"],[0.8888888888888888,\"#fdca26\"],[1.0,\"#f0f921\"]]}],\"heatmap\":[{\"type\":\"heatmap\",\"colorbar\":{\"outlinewidth\":0,\"ticks\":\"\"},\"colorscale\":[[0.0,\"#0d0887\"],[0.1111111111111111,\"#46039f\"],[0.2222222222222222,\"#7201a8\"],[0.3333333333333333,\"#9c179e\"],[0.4444444444444444,\"#bd3786\"],[0.5555555555555556,\"#d8576b\"],[0.6666666666666666,\"#ed7953\"],[0.7777777777777778,\"#fb9f3a\"],[0.8888888888888888,\"#fdca26\"],[1.0,\"#f0f921\"]]}],\"heatmapgl\":[{\"type\":\"heatmapgl\",\"colorbar\":{\"outlinewidth\":0,\"ticks\":\"\"},\"colorscale\":[[0.0,\"#0d0887\"],[0.1111111111111111,\"#46039f\"],[0.2222222222222222,\"#7201a8\"],[0.3333333333333333,\"#9c179e\"],[0.4444444444444444,\"#bd3786\"],[0.5555555555555556,\"#d8576b\"],[0.6666666666666666,\"#ed7953\"],[0.7777777777777778,\"#fb9f3a\"],[0.8888888888888888,\"#fdca26\"],[1.0,\"#f0f921\"]]}],\"contourcarpet\":[{\"type\":\"contourcarpet\",\"colorbar\":{\"outlinewidth\":0,\"ticks\":\"\"}}],\"contour\":[{\"type\":\"contour\",\"colorbar\":{\"outlinewidth\":0,\"ticks\":\"\"},\"colorscale\":[[0.0,\"#0d0887\"],[0.1111111111111111,\"#46039f\"],[0.2222222222222222,\"#7201a8\"],[0.3333333333333333,\"#9c179e\"],[0.4444444444444444,\"#bd3786\"],[0.5555555555555556,\"#d8576b\"],[0.6666666666666666,\"#ed7953\"],[0.7777777777777778,\"#fb9f3a\"],[0.8888888888888888,\"#fdca26\"],[1.0,\"#f0f921\"]]}],\"surface\":[{\"type\":\"surface\",\"colorbar\":{\"outlinewidth\":0,\"ticks\":\"\"},\"colorscale\":[[0.0,\"#0d0887\"],[0.1111111111111111,\"#46039f\"],[0.2222222222222222,\"#7201a8\"],[0.3333333333333333,\"#9c179e\"],[0.4444444444444444,\"#bd3786\"],[0.5555555555555556,\"#d8576b\"],[0.6666666666666666,\"#ed7953\"],[0.7777777777777778,\"#fb9f3a\"],[0.8888888888888888,\"#fdca26\"],[1.0,\"#f0f921\"]]}],\"mesh3d\":[{\"type\":\"mesh3d\",\"colorbar\":{\"outlinewidth\":0,\"ticks\":\"\"}}],\"scatter\":[{\"fillpattern\":{\"fillmode\":\"overlay\",\"size\":10,\"solidity\":0.2},\"type\":\"scatter\"}],\"parcoords\":[{\"type\":\"parcoords\",\"line\":{\"colorbar\":{\"outlinewidth\":0,\"ticks\":\"\"}}}],\"scatterpolargl\":[{\"type\":\"scatterpolargl\",\"marker\":{\"colorbar\":{\"outlinewidth\":0,\"ticks\":\"\"}}}],\"bar\":[{\"error_x\":{\"color\":\"#2a3f5f\"},\"error_y\":{\"color\":\"#2a3f5f\"},\"marker\":{\"line\":{\"color\":\"#E5ECF6\",\"width\":0.5},\"pattern\":{\"fillmode\":\"overlay\",\"size\":10,\"solidity\":0.2}},\"type\":\"bar\"}],\"scattergeo\":[{\"type\":\"scattergeo\",\"marker\":{\"colorbar\":{\"outlinewidth\":0,\"ticks\":\"\"}}}],\"scatterpolar\":[{\"type\":\"scatterpolar\",\"marker\":{\"colorbar\":{\"outlinewidth\":0,\"ticks\":\"\"}}}],\"histogram\":[{\"marker\":{\"pattern\":{\"fillmode\":\"overlay\",\"size\":10,\"solidity\":0.2}},\"type\":\"histogram\"}],\"scattergl\":[{\"type\":\"scattergl\",\"marker\":{\"colorbar\":{\"outlinewidth\":0,\"ticks\":\"\"}}}],\"scatter3d\":[{\"type\":\"scatter3d\",\"line\":{\"colorbar\":{\"outlinewidth\":0,\"ticks\":\"\"}},\"marker\":{\"colorbar\":{\"outlinewidth\":0,\"ticks\":\"\"}}}],\"scattermapbox\":[{\"type\":\"scattermapbox\",\"marker\":{\"colorbar\":{\"outlinewidth\":0,\"ticks\":\"\"}}}],\"scatterternary\":[{\"type\":\"scatterternary\",\"marker\":{\"colorbar\":{\"outlinewidth\":0,\"ticks\":\"\"}}}],\"scattercarpet\":[{\"type\":\"scattercarpet\",\"marker\":{\"colorbar\":{\"outlinewidth\":0,\"ticks\":\"\"}}}],\"carpet\":[{\"aaxis\":{\"endlinecolor\":\"#2a3f5f\",\"gridcolor\":\"white\",\"linecolor\":\"white\",\"minorgridcolor\":\"white\",\"startlinecolor\":\"#2a3f5f\"},\"baxis\":{\"endlinecolor\":\"#2a3f5f\",\"gridcolor\":\"white\",\"linecolor\":\"white\",\"minorgridcolor\":\"white\",\"startlinecolor\":\"#2a3f5f\"},\"type\":\"carpet\"}],\"table\":[{\"cells\":{\"fill\":{\"color\":\"#EBF0F8\"},\"line\":{\"color\":\"white\"}},\"header\":{\"fill\":{\"color\":\"#C8D4E3\"},\"line\":{\"color\":\"white\"}},\"type\":\"table\"}],\"barpolar\":[{\"marker\":{\"line\":{\"color\":\"#E5ECF6\",\"width\":0.5},\"pattern\":{\"fillmode\":\"overlay\",\"size\":10,\"solidity\":0.2}},\"type\":\"barpolar\"}],\"pie\":[{\"automargin\":true,\"type\":\"pie\"}]},\"layout\":{\"autotypenumbers\":\"strict\",\"colorway\":[\"#636efa\",\"#EF553B\",\"#00cc96\",\"#ab63fa\",\"#FFA15A\",\"#19d3f3\",\"#FF6692\",\"#B6E880\",\"#FF97FF\",\"#FECB52\"],\"font\":{\"color\":\"#2a3f5f\"},\"hovermode\":\"closest\",\"hoverlabel\":{\"align\":\"left\"},\"paper_bgcolor\":\"white\",\"plot_bgcolor\":\"#E5ECF6\",\"polar\":{\"bgcolor\":\"#E5ECF6\",\"angularaxis\":{\"gridcolor\":\"white\",\"linecolor\":\"white\",\"ticks\":\"\"},\"radialaxis\":{\"gridcolor\":\"white\",\"linecolor\":\"white\",\"ticks\":\"\"}},\"ternary\":{\"bgcolor\":\"#E5ECF6\",\"aaxis\":{\"gridcolor\":\"white\",\"linecolor\":\"white\",\"ticks\":\"\"},\"baxis\":{\"gridcolor\":\"white\",\"linecolor\":\"white\",\"ticks\":\"\"},\"caxis\":{\"gridcolor\":\"white\",\"linecolor\":\"white\",\"ticks\":\"\"}},\"coloraxis\":{\"colorbar\":{\"outlinewidth\":0,\"ticks\":\"\"}},\"colorscale\":{\"sequential\":[[0.0,\"#0d0887\"],[0.1111111111111111,\"#46039f\"],[0.2222222222222222,\"#7201a8\"],[0.3333333333333333,\"#9c179e\"],[0.4444444444444444,\"#bd3786\"],[0.5555555555555556,\"#d8576b\"],[0.6666666666666666,\"#ed7953\"],[0.7777777777777778,\"#fb9f3a\"],[0.8888888888888888,\"#fdca26\"],[1.0,\"#f0f921\"]],\"sequentialminus\":[[0.0,\"#0d0887\"],[0.1111111111111111,\"#46039f\"],[0.2222222222222222,\"#7201a8\"],[0.3333333333333333,\"#9c179e\"],[0.4444444444444444,\"#bd3786\"],[0.5555555555555556,\"#d8576b\"],[0.6666666666666666,\"#ed7953\"],[0.7777777777777778,\"#fb9f3a\"],[0.8888888888888888,\"#fdca26\"],[1.0,\"#f0f921\"]],\"diverging\":[[0,\"#8e0152\"],[0.1,\"#c51b7d\"],[0.2,\"#de77ae\"],[0.3,\"#f1b6da\"],[0.4,\"#fde0ef\"],[0.5,\"#f7f7f7\"],[0.6,\"#e6f5d0\"],[0.7,\"#b8e186\"],[0.8,\"#7fbc41\"],[0.9,\"#4d9221\"],[1,\"#276419\"]]},\"xaxis\":{\"gridcolor\":\"white\",\"linecolor\":\"white\",\"ticks\":\"\",\"title\":{\"standoff\":15},\"zerolinecolor\":\"white\",\"automargin\":true,\"zerolinewidth\":2},\"yaxis\":{\"gridcolor\":\"white\",\"linecolor\":\"white\",\"ticks\":\"\",\"title\":{\"standoff\":15},\"zerolinecolor\":\"white\",\"automargin\":true,\"zerolinewidth\":2},\"scene\":{\"xaxis\":{\"backgroundcolor\":\"#E5ECF6\",\"gridcolor\":\"white\",\"linecolor\":\"white\",\"showbackground\":true,\"ticks\":\"\",\"zerolinecolor\":\"white\",\"gridwidth\":2},\"yaxis\":{\"backgroundcolor\":\"#E5ECF6\",\"gridcolor\":\"white\",\"linecolor\":\"white\",\"showbackground\":true,\"ticks\":\"\",\"zerolinecolor\":\"white\",\"gridwidth\":2},\"zaxis\":{\"backgroundcolor\":\"#E5ECF6\",\"gridcolor\":\"white\",\"linecolor\":\"white\",\"showbackground\":true,\"ticks\":\"\",\"zerolinecolor\":\"white\",\"gridwidth\":2}},\"shapedefaults\":{\"line\":{\"color\":\"#2a3f5f\"}},\"annotationdefaults\":{\"arrowcolor\":\"#2a3f5f\",\"arrowhead\":0,\"arrowwidth\":1},\"geo\":{\"bgcolor\":\"white\",\"landcolor\":\"#E5ECF6\",\"subunitcolor\":\"white\",\"showland\":true,\"showlakes\":true,\"lakecolor\":\"white\"},\"title\":{\"x\":0.05},\"mapbox\":{\"style\":\"light\"}}},\"legend\":{\"tracegroupgap\":0},\"title\":{\"text\":\"December Revenue Distribution\"},\"sunburstcolorway\":[\"#636EFA\",\"#EF553B\",\"#00CC96\",\"#AB63FA\",\"#FFA15A\",\"#19D3F3\",\"#FF6692\",\"#B6E880\",\"#FF97FF\",\"#FECB52\"],\"height\":600,\"width\":600},                        {\"responsive\": true}                    ).then(function(){\n",
       "                            \n",
       "var gd = document.getElementById('cd31d920-3fa8-47d3-8192-248136c14a15');\n",
       "var x = new MutationObserver(function (mutations, observer) {{\n",
       "        var display = window.getComputedStyle(gd).display;\n",
       "        if (!display || display === 'none') {{\n",
       "            console.log([gd, 'removed!']);\n",
       "            Plotly.purge(gd);\n",
       "            observer.disconnect();\n",
       "        }}\n",
       "}});\n",
       "\n",
       "// Listen for the removal of the full notebook cells\n",
       "var notebookContainer = gd.closest('#notebook-container');\n",
       "if (notebookContainer) {{\n",
       "    x.observe(notebookContainer, {childList: true});\n",
       "}}\n",
       "\n",
       "// Listen for the clearing of the current output cell\n",
       "var outputEl = gd.closest('.output');\n",
       "if (outputEl) {{\n",
       "    x.observe(outputEl, {childList: true});\n",
       "}}\n",
       "\n",
       "                        })                };                });            </script>        </div>"
      ]
     },
     "metadata": {},
     "output_type": "display_data"
    }
   ],
   "source": [
    "fig = px.sunburst(cost_df, values='ride_cost', path=['member_casual', 'rideable_type', 'cost_bins'], \n",
    "                  width=600, height=600, title='December Revenue Distribution', color_discrete_sequence=px.colors.qualitative.Plotly)\n",
    "fig.show()"
   ]
  },
  {
   "cell_type": "markdown",
   "id": "608b8d13-ad03-453e-abfa-bd88b0933f0c",
   "metadata": {},
   "source": [
    "Here we see a distribution of the revenue for individual bike rides. The sum of ride costs is represented by the size of each section.\n",
    "\n",
    "The first level is member or non-member (casual) riders.\n",
    "\n",
    "The next level is the type of bike, showing that electric bikes consist of most of the revenue.\n",
    "\n",
    "The next level is the amount paid for each bike ride. Members payments in the range of \\\\$0 to \\\\$5 make up most of the revenue, whereas casual users' revenue mostly comes from the \\\\$2-\\\\$10 range.\n",
    "\n",
    "It's still not known what docked_bike is, but it commonly generates ride costs $\\geq$ \\\\$50"
   ]
  },
  {
   "cell_type": "code",
   "execution_count": 180,
   "id": "f72bdefc-4bfa-4689-a0d9-8257f3c74871",
   "metadata": {},
   "outputs": [
    {
     "data": {
      "application/vnd.plotly.v1+json": {
       "config": {
        "plotlyServerURL": "https://plot.ly"
       },
       "data": [
        {
         "branchvalues": "total",
         "domain": {
          "x": [
           0,
           1
          ],
          "y": [
           0,
           1
          ]
         },
         "hovertemplate": "labels=%{label}<br>counts=%{value}<br>parent=%{parent}<br>id=%{id}<extra></extra>",
         "ids": [
          "casual/classic bike/>= $50",
          "member/classic bike/>= $50",
          "casual/docked bike/>= $50",
          "casual/electric bike/>= $50",
          "member/electric bike/>= $50",
          "casual/classic bike/[$0, $2)",
          "member/classic bike/[$0, $2)",
          "casual/docked bike/[$0, $2)",
          "casual/electric bike/[$0, $2)",
          "member/electric bike/[$0, $2)",
          "casual/classic bike/[$10, $50)",
          "member/classic bike/[$10, $50)",
          "casual/docked bike/[$10, $50)",
          "casual/electric bike/[$10, $50)",
          "member/electric bike/[$10, $50)",
          "casual/classic bike/[$2, $5)",
          "member/classic bike/[$2, $5)",
          "casual/docked bike/[$2, $5)",
          "casual/electric bike/[$2, $5)",
          "member/electric bike/[$2, $5)",
          "casual/classic bike/[$5, $10)",
          "member/classic bike/[$5, $10)",
          "casual/docked bike/[$5, $10)",
          "casual/electric bike/[$5, $10)",
          "member/electric bike/[$5, $10)",
          "casual/classic bike",
          "member/classic bike",
          "casual/docked bike",
          "casual/electric bike",
          "member/electric bike",
          "casual",
          "member"
         ],
         "labels": [
          ">= $50",
          ">= $50",
          ">= $50",
          ">= $50",
          ">= $50",
          "[$0, $2)",
          "[$0, $2)",
          "[$0, $2)",
          "[$0, $2)",
          "[$0, $2)",
          "[$10, $50)",
          "[$10, $50)",
          "[$10, $50)",
          "[$10, $50)",
          "[$10, $50)",
          "[$2, $5)",
          "[$2, $5)",
          "[$2, $5)",
          "[$2, $5)",
          "[$2, $5)",
          "[$5, $10)",
          "[$5, $10)",
          "[$5, $10)",
          "[$5, $10)",
          "[$5, $10)",
          "classic bike",
          "classic bike",
          "docked bike",
          "electric bike",
          "electric bike",
          "casual",
          "member"
         ],
         "name": "",
         "parents": [
          "casual/classic bike",
          "member/classic bike",
          "casual/docked bike",
          "casual/electric bike",
          "member/electric bike",
          "casual/classic bike",
          "member/classic bike",
          "casual/docked bike",
          "casual/electric bike",
          "member/electric bike",
          "casual/classic bike",
          "member/classic bike",
          "casual/docked bike",
          "casual/electric bike",
          "member/electric bike",
          "casual/classic bike",
          "member/classic bike",
          "casual/docked bike",
          "casual/electric bike",
          "member/electric bike",
          "casual/classic bike",
          "member/classic bike",
          "casual/docked bike",
          "casual/electric bike",
          "member/electric bike",
          "casual",
          "member",
          "casual",
          "casual",
          "member",
          "",
          ""
         ],
         "type": "sunburst",
         "values": [
          86,
          50,
          75,
          15,
          40,
          3354,
          60453,
          148,
          704,
          52045,
          467,
          44,
          187,
          2701,
          496,
          7499,
          109,
          1082,
          16170,
          21587,
          1246,
          42,
          433,
          10727,
          2046,
          12652,
          60698,
          1925,
          30317,
          76214,
          44894,
          136912
         ]
        }
       ],
       "layout": {
        "height": 600,
        "legend": {
         "tracegroupgap": 0
        },
        "sunburstcolorway": [
         "#EF553B",
         "#636EFA"
        ],
        "template": {
         "data": {
          "bar": [
           {
            "error_x": {
             "color": "#2a3f5f"
            },
            "error_y": {
             "color": "#2a3f5f"
            },
            "marker": {
             "line": {
              "color": "#E5ECF6",
              "width": 0.5
             },
             "pattern": {
              "fillmode": "overlay",
              "size": 10,
              "solidity": 0.2
             }
            },
            "type": "bar"
           }
          ],
          "barpolar": [
           {
            "marker": {
             "line": {
              "color": "#E5ECF6",
              "width": 0.5
             },
             "pattern": {
              "fillmode": "overlay",
              "size": 10,
              "solidity": 0.2
             }
            },
            "type": "barpolar"
           }
          ],
          "carpet": [
           {
            "aaxis": {
             "endlinecolor": "#2a3f5f",
             "gridcolor": "white",
             "linecolor": "white",
             "minorgridcolor": "white",
             "startlinecolor": "#2a3f5f"
            },
            "baxis": {
             "endlinecolor": "#2a3f5f",
             "gridcolor": "white",
             "linecolor": "white",
             "minorgridcolor": "white",
             "startlinecolor": "#2a3f5f"
            },
            "type": "carpet"
           }
          ],
          "choropleth": [
           {
            "colorbar": {
             "outlinewidth": 0,
             "ticks": ""
            },
            "type": "choropleth"
           }
          ],
          "contour": [
           {
            "colorbar": {
             "outlinewidth": 0,
             "ticks": ""
            },
            "colorscale": [
             [
              0,
              "#0d0887"
             ],
             [
              0.1111111111111111,
              "#46039f"
             ],
             [
              0.2222222222222222,
              "#7201a8"
             ],
             [
              0.3333333333333333,
              "#9c179e"
             ],
             [
              0.4444444444444444,
              "#bd3786"
             ],
             [
              0.5555555555555556,
              "#d8576b"
             ],
             [
              0.6666666666666666,
              "#ed7953"
             ],
             [
              0.7777777777777778,
              "#fb9f3a"
             ],
             [
              0.8888888888888888,
              "#fdca26"
             ],
             [
              1,
              "#f0f921"
             ]
            ],
            "type": "contour"
           }
          ],
          "contourcarpet": [
           {
            "colorbar": {
             "outlinewidth": 0,
             "ticks": ""
            },
            "type": "contourcarpet"
           }
          ],
          "heatmap": [
           {
            "colorbar": {
             "outlinewidth": 0,
             "ticks": ""
            },
            "colorscale": [
             [
              0,
              "#0d0887"
             ],
             [
              0.1111111111111111,
              "#46039f"
             ],
             [
              0.2222222222222222,
              "#7201a8"
             ],
             [
              0.3333333333333333,
              "#9c179e"
             ],
             [
              0.4444444444444444,
              "#bd3786"
             ],
             [
              0.5555555555555556,
              "#d8576b"
             ],
             [
              0.6666666666666666,
              "#ed7953"
             ],
             [
              0.7777777777777778,
              "#fb9f3a"
             ],
             [
              0.8888888888888888,
              "#fdca26"
             ],
             [
              1,
              "#f0f921"
             ]
            ],
            "type": "heatmap"
           }
          ],
          "heatmapgl": [
           {
            "colorbar": {
             "outlinewidth": 0,
             "ticks": ""
            },
            "colorscale": [
             [
              0,
              "#0d0887"
             ],
             [
              0.1111111111111111,
              "#46039f"
             ],
             [
              0.2222222222222222,
              "#7201a8"
             ],
             [
              0.3333333333333333,
              "#9c179e"
             ],
             [
              0.4444444444444444,
              "#bd3786"
             ],
             [
              0.5555555555555556,
              "#d8576b"
             ],
             [
              0.6666666666666666,
              "#ed7953"
             ],
             [
              0.7777777777777778,
              "#fb9f3a"
             ],
             [
              0.8888888888888888,
              "#fdca26"
             ],
             [
              1,
              "#f0f921"
             ]
            ],
            "type": "heatmapgl"
           }
          ],
          "histogram": [
           {
            "marker": {
             "pattern": {
              "fillmode": "overlay",
              "size": 10,
              "solidity": 0.2
             }
            },
            "type": "histogram"
           }
          ],
          "histogram2d": [
           {
            "colorbar": {
             "outlinewidth": 0,
             "ticks": ""
            },
            "colorscale": [
             [
              0,
              "#0d0887"
             ],
             [
              0.1111111111111111,
              "#46039f"
             ],
             [
              0.2222222222222222,
              "#7201a8"
             ],
             [
              0.3333333333333333,
              "#9c179e"
             ],
             [
              0.4444444444444444,
              "#bd3786"
             ],
             [
              0.5555555555555556,
              "#d8576b"
             ],
             [
              0.6666666666666666,
              "#ed7953"
             ],
             [
              0.7777777777777778,
              "#fb9f3a"
             ],
             [
              0.8888888888888888,
              "#fdca26"
             ],
             [
              1,
              "#f0f921"
             ]
            ],
            "type": "histogram2d"
           }
          ],
          "histogram2dcontour": [
           {
            "colorbar": {
             "outlinewidth": 0,
             "ticks": ""
            },
            "colorscale": [
             [
              0,
              "#0d0887"
             ],
             [
              0.1111111111111111,
              "#46039f"
             ],
             [
              0.2222222222222222,
              "#7201a8"
             ],
             [
              0.3333333333333333,
              "#9c179e"
             ],
             [
              0.4444444444444444,
              "#bd3786"
             ],
             [
              0.5555555555555556,
              "#d8576b"
             ],
             [
              0.6666666666666666,
              "#ed7953"
             ],
             [
              0.7777777777777778,
              "#fb9f3a"
             ],
             [
              0.8888888888888888,
              "#fdca26"
             ],
             [
              1,
              "#f0f921"
             ]
            ],
            "type": "histogram2dcontour"
           }
          ],
          "mesh3d": [
           {
            "colorbar": {
             "outlinewidth": 0,
             "ticks": ""
            },
            "type": "mesh3d"
           }
          ],
          "parcoords": [
           {
            "line": {
             "colorbar": {
              "outlinewidth": 0,
              "ticks": ""
             }
            },
            "type": "parcoords"
           }
          ],
          "pie": [
           {
            "automargin": true,
            "type": "pie"
           }
          ],
          "scatter": [
           {
            "fillpattern": {
             "fillmode": "overlay",
             "size": 10,
             "solidity": 0.2
            },
            "type": "scatter"
           }
          ],
          "scatter3d": [
           {
            "line": {
             "colorbar": {
              "outlinewidth": 0,
              "ticks": ""
             }
            },
            "marker": {
             "colorbar": {
              "outlinewidth": 0,
              "ticks": ""
             }
            },
            "type": "scatter3d"
           }
          ],
          "scattercarpet": [
           {
            "marker": {
             "colorbar": {
              "outlinewidth": 0,
              "ticks": ""
             }
            },
            "type": "scattercarpet"
           }
          ],
          "scattergeo": [
           {
            "marker": {
             "colorbar": {
              "outlinewidth": 0,
              "ticks": ""
             }
            },
            "type": "scattergeo"
           }
          ],
          "scattergl": [
           {
            "marker": {
             "colorbar": {
              "outlinewidth": 0,
              "ticks": ""
             }
            },
            "type": "scattergl"
           }
          ],
          "scattermapbox": [
           {
            "marker": {
             "colorbar": {
              "outlinewidth": 0,
              "ticks": ""
             }
            },
            "type": "scattermapbox"
           }
          ],
          "scatterpolar": [
           {
            "marker": {
             "colorbar": {
              "outlinewidth": 0,
              "ticks": ""
             }
            },
            "type": "scatterpolar"
           }
          ],
          "scatterpolargl": [
           {
            "marker": {
             "colorbar": {
              "outlinewidth": 0,
              "ticks": ""
             }
            },
            "type": "scatterpolargl"
           }
          ],
          "scatterternary": [
           {
            "marker": {
             "colorbar": {
              "outlinewidth": 0,
              "ticks": ""
             }
            },
            "type": "scatterternary"
           }
          ],
          "surface": [
           {
            "colorbar": {
             "outlinewidth": 0,
             "ticks": ""
            },
            "colorscale": [
             [
              0,
              "#0d0887"
             ],
             [
              0.1111111111111111,
              "#46039f"
             ],
             [
              0.2222222222222222,
              "#7201a8"
             ],
             [
              0.3333333333333333,
              "#9c179e"
             ],
             [
              0.4444444444444444,
              "#bd3786"
             ],
             [
              0.5555555555555556,
              "#d8576b"
             ],
             [
              0.6666666666666666,
              "#ed7953"
             ],
             [
              0.7777777777777778,
              "#fb9f3a"
             ],
             [
              0.8888888888888888,
              "#fdca26"
             ],
             [
              1,
              "#f0f921"
             ]
            ],
            "type": "surface"
           }
          ],
          "table": [
           {
            "cells": {
             "fill": {
              "color": "#EBF0F8"
             },
             "line": {
              "color": "white"
             }
            },
            "header": {
             "fill": {
              "color": "#C8D4E3"
             },
             "line": {
              "color": "white"
             }
            },
            "type": "table"
           }
          ]
         },
         "layout": {
          "annotationdefaults": {
           "arrowcolor": "#2a3f5f",
           "arrowhead": 0,
           "arrowwidth": 1
          },
          "autotypenumbers": "strict",
          "coloraxis": {
           "colorbar": {
            "outlinewidth": 0,
            "ticks": ""
           }
          },
          "colorscale": {
           "diverging": [
            [
             0,
             "#8e0152"
            ],
            [
             0.1,
             "#c51b7d"
            ],
            [
             0.2,
             "#de77ae"
            ],
            [
             0.3,
             "#f1b6da"
            ],
            [
             0.4,
             "#fde0ef"
            ],
            [
             0.5,
             "#f7f7f7"
            ],
            [
             0.6,
             "#e6f5d0"
            ],
            [
             0.7,
             "#b8e186"
            ],
            [
             0.8,
             "#7fbc41"
            ],
            [
             0.9,
             "#4d9221"
            ],
            [
             1,
             "#276419"
            ]
           ],
           "sequential": [
            [
             0,
             "#0d0887"
            ],
            [
             0.1111111111111111,
             "#46039f"
            ],
            [
             0.2222222222222222,
             "#7201a8"
            ],
            [
             0.3333333333333333,
             "#9c179e"
            ],
            [
             0.4444444444444444,
             "#bd3786"
            ],
            [
             0.5555555555555556,
             "#d8576b"
            ],
            [
             0.6666666666666666,
             "#ed7953"
            ],
            [
             0.7777777777777778,
             "#fb9f3a"
            ],
            [
             0.8888888888888888,
             "#fdca26"
            ],
            [
             1,
             "#f0f921"
            ]
           ],
           "sequentialminus": [
            [
             0,
             "#0d0887"
            ],
            [
             0.1111111111111111,
             "#46039f"
            ],
            [
             0.2222222222222222,
             "#7201a8"
            ],
            [
             0.3333333333333333,
             "#9c179e"
            ],
            [
             0.4444444444444444,
             "#bd3786"
            ],
            [
             0.5555555555555556,
             "#d8576b"
            ],
            [
             0.6666666666666666,
             "#ed7953"
            ],
            [
             0.7777777777777778,
             "#fb9f3a"
            ],
            [
             0.8888888888888888,
             "#fdca26"
            ],
            [
             1,
             "#f0f921"
            ]
           ]
          },
          "colorway": [
           "#636efa",
           "#EF553B",
           "#00cc96",
           "#ab63fa",
           "#FFA15A",
           "#19d3f3",
           "#FF6692",
           "#B6E880",
           "#FF97FF",
           "#FECB52"
          ],
          "font": {
           "color": "#2a3f5f"
          },
          "geo": {
           "bgcolor": "white",
           "lakecolor": "white",
           "landcolor": "#E5ECF6",
           "showlakes": true,
           "showland": true,
           "subunitcolor": "white"
          },
          "hoverlabel": {
           "align": "left"
          },
          "hovermode": "closest",
          "mapbox": {
           "style": "light"
          },
          "paper_bgcolor": "white",
          "plot_bgcolor": "#E5ECF6",
          "polar": {
           "angularaxis": {
            "gridcolor": "white",
            "linecolor": "white",
            "ticks": ""
           },
           "bgcolor": "#E5ECF6",
           "radialaxis": {
            "gridcolor": "white",
            "linecolor": "white",
            "ticks": ""
           }
          },
          "scene": {
           "xaxis": {
            "backgroundcolor": "#E5ECF6",
            "gridcolor": "white",
            "gridwidth": 2,
            "linecolor": "white",
            "showbackground": true,
            "ticks": "",
            "zerolinecolor": "white"
           },
           "yaxis": {
            "backgroundcolor": "#E5ECF6",
            "gridcolor": "white",
            "gridwidth": 2,
            "linecolor": "white",
            "showbackground": true,
            "ticks": "",
            "zerolinecolor": "white"
           },
           "zaxis": {
            "backgroundcolor": "#E5ECF6",
            "gridcolor": "white",
            "gridwidth": 2,
            "linecolor": "white",
            "showbackground": true,
            "ticks": "",
            "zerolinecolor": "white"
           }
          },
          "shapedefaults": {
           "line": {
            "color": "#2a3f5f"
           }
          },
          "ternary": {
           "aaxis": {
            "gridcolor": "white",
            "linecolor": "white",
            "ticks": ""
           },
           "baxis": {
            "gridcolor": "white",
            "linecolor": "white",
            "ticks": ""
           },
           "bgcolor": "#E5ECF6",
           "caxis": {
            "gridcolor": "white",
            "linecolor": "white",
            "ticks": ""
           }
          },
          "title": {
           "x": 0.05
          },
          "xaxis": {
           "automargin": true,
           "gridcolor": "white",
           "linecolor": "white",
           "ticks": "",
           "title": {
            "standoff": 15
           },
           "zerolinecolor": "white",
           "zerolinewidth": 2
          },
          "yaxis": {
           "automargin": true,
           "gridcolor": "white",
           "linecolor": "white",
           "ticks": "",
           "title": {
            "standoff": 15
           },
           "zerolinecolor": "white",
           "zerolinewidth": 2
          }
         }
        },
        "title": {
         "text": "December Ride Count Distribution"
        },
        "width": 600
       }
      },
      "image/png": "[encoded data removed]",
      "text/html": [
       "<div>                            <div id=\"07fe7dc1-8fa9-4571-9ca5-f636eb960fbe\" class=\"plotly-graph-div\" style=\"height:600px; width:600px;\"></div>            <script type=\"text/javascript\">                require([\"plotly\"], function(Plotly) {                    window.PLOTLYENV=window.PLOTLYENV || {};                                    if (document.getElementById(\"07fe7dc1-8fa9-4571-9ca5-f636eb960fbe\")) {                    Plotly.newPlot(                        \"07fe7dc1-8fa9-4571-9ca5-f636eb960fbe\",                        [{\"branchvalues\":\"total\",\"domain\":{\"x\":[0.0,1.0],\"y\":[0.0,1.0]},\"hovertemplate\":\"labels=%{label}<br>counts=%{value}<br>parent=%{parent}<br>id=%{id}<extra></extra>\",\"ids\":[\"casual/classic bike/>= $50\",\"member/classic bike/>= $50\",\"casual/docked bike/>= $50\",\"casual/electric bike/>= $50\",\"member/electric bike/>= $50\",\"casual/classic bike/[$0, $2)\",\"member/classic bike/[$0, $2)\",\"casual/docked bike/[$0, $2)\",\"casual/electric bike/[$0, $2)\",\"member/electric bike/[$0, $2)\",\"casual/classic bike/[$10, $50)\",\"member/classic bike/[$10, $50)\",\"casual/docked bike/[$10, $50)\",\"casual/electric bike/[$10, $50)\",\"member/electric bike/[$10, $50)\",\"casual/classic bike/[$2, $5)\",\"member/classic bike/[$2, $5)\",\"casual/docked bike/[$2, $5)\",\"casual/electric bike/[$2, $5)\",\"member/electric bike/[$2, $5)\",\"casual/classic bike/[$5, $10)\",\"member/classic bike/[$5, $10)\",\"casual/docked bike/[$5, $10)\",\"casual/electric bike/[$5, $10)\",\"member/electric bike/[$5, $10)\",\"casual/classic bike\",\"member/classic bike\",\"casual/docked bike\",\"casual/electric bike\",\"member/electric bike\",\"casual\",\"member\"],\"labels\":[\">= $50\",\">= $50\",\">= $50\",\">= $50\",\">= $50\",\"[$0, $2)\",\"[$0, $2)\",\"[$0, $2)\",\"[$0, $2)\",\"[$0, $2)\",\"[$10, $50)\",\"[$10, $50)\",\"[$10, $50)\",\"[$10, $50)\",\"[$10, $50)\",\"[$2, $5)\",\"[$2, $5)\",\"[$2, $5)\",\"[$2, $5)\",\"[$2, $5)\",\"[$5, $10)\",\"[$5, $10)\",\"[$5, $10)\",\"[$5, $10)\",\"[$5, $10)\",\"classic bike\",\"classic bike\",\"docked bike\",\"electric bike\",\"electric bike\",\"casual\",\"member\"],\"name\":\"\",\"parents\":[\"casual/classic bike\",\"member/classic bike\",\"casual/docked bike\",\"casual/electric bike\",\"member/electric bike\",\"casual/classic bike\",\"member/classic bike\",\"casual/docked bike\",\"casual/electric bike\",\"member/electric bike\",\"casual/classic bike\",\"member/classic bike\",\"casual/docked bike\",\"casual/electric bike\",\"member/electric bike\",\"casual/classic bike\",\"member/classic bike\",\"casual/docked bike\",\"casual/electric bike\",\"member/electric bike\",\"casual/classic bike\",\"member/classic bike\",\"casual/docked bike\",\"casual/electric bike\",\"member/electric bike\",\"casual\",\"member\",\"casual\",\"casual\",\"member\",\"\",\"\"],\"values\":[86,50,75,15,40,3354,60453,148,704,52045,467,44,187,2701,496,7499,109,1082,16170,21587,1246,42,433,10727,2046,12652,60698,1925,30317,76214,44894,136912],\"type\":\"sunburst\"}],                        {\"template\":{\"data\":{\"histogram2dcontour\":[{\"type\":\"histogram2dcontour\",\"colorbar\":{\"outlinewidth\":0,\"ticks\":\"\"},\"colorscale\":[[0.0,\"#0d0887\"],[0.1111111111111111,\"#46039f\"],[0.2222222222222222,\"#7201a8\"],[0.3333333333333333,\"#9c179e\"],[0.4444444444444444,\"#bd3786\"],[0.5555555555555556,\"#d8576b\"],[0.6666666666666666,\"#ed7953\"],[0.7777777777777778,\"#fb9f3a\"],[0.8888888888888888,\"#fdca26\"],[1.0,\"#f0f921\"]]}],\"choropleth\":[{\"type\":\"choropleth\",\"colorbar\":{\"outlinewidth\":0,\"ticks\":\"\"}}],\"histogram2d\":[{\"type\":\"histogram2d\",\"colorbar\":{\"outlinewidth\":0,\"ticks\":\"\"},\"colorscale\":[[0.0,\"#0d0887\"],[0.1111111111111111,\"#46039f\"],[0.2222222222222222,\"#7201a8\"],[0.3333333333333333,\"#9c179e\"],[0.4444444444444444,\"#bd3786\"],[0.5555555555555556,\"#d8576b\"],[0.6666666666666666,\"#ed7953\"],[0.7777777777777778,\"#fb9f3a\"],[0.8888888888888888,\"#fdca26\"],[1.0,\"#f0f921\"]]}],\"heatmap\":[{\"type\":\"heatmap\",\"colorbar\":{\"outlinewidth\":0,\"ticks\":\"\"},\"colorscale\":[[0.0,\"#0d0887\"],[0.1111111111111111,\"#46039f\"],[0.2222222222222222,\"#7201a8\"],[0.3333333333333333,\"#9c179e\"],[0.4444444444444444,\"#bd3786\"],[0.5555555555555556,\"#d8576b\"],[0.6666666666666666,\"#ed7953\"],[0.7777777777777778,\"#fb9f3a\"],[0.8888888888888888,\"#fdca26\"],[1.0,\"#f0f921\"]]}],\"heatmapgl\":[{\"type\":\"heatmapgl\",\"colorbar\":{\"outlinewidth\":0,\"ticks\":\"\"},\"colorscale\":[[0.0,\"#0d0887\"],[0.1111111111111111,\"#46039f\"],[0.2222222222222222,\"#7201a8\"],[0.3333333333333333,\"#9c179e\"],[0.4444444444444444,\"#bd3786\"],[0.5555555555555556,\"#d8576b\"],[0.6666666666666666,\"#ed7953\"],[0.7777777777777778,\"#fb9f3a\"],[0.8888888888888888,\"#fdca26\"],[1.0,\"#f0f921\"]]}],\"contourcarpet\":[{\"type\":\"contourcarpet\",\"colorbar\":{\"outlinewidth\":0,\"ticks\":\"\"}}],\"contour\":[{\"type\":\"contour\",\"colorbar\":{\"outlinewidth\":0,\"ticks\":\"\"},\"colorscale\":[[0.0,\"#0d0887\"],[0.1111111111111111,\"#46039f\"],[0.2222222222222222,\"#7201a8\"],[0.3333333333333333,\"#9c179e\"],[0.4444444444444444,\"#bd3786\"],[0.5555555555555556,\"#d8576b\"],[0.6666666666666666,\"#ed7953\"],[0.7777777777777778,\"#fb9f3a\"],[0.8888888888888888,\"#fdca26\"],[1.0,\"#f0f921\"]]}],\"surface\":[{\"type\":\"surface\",\"colorbar\":{\"outlinewidth\":0,\"ticks\":\"\"},\"colorscale\":[[0.0,\"#0d0887\"],[0.1111111111111111,\"#46039f\"],[0.2222222222222222,\"#7201a8\"],[0.3333333333333333,\"#9c179e\"],[0.4444444444444444,\"#bd3786\"],[0.5555555555555556,\"#d8576b\"],[0.6666666666666666,\"#ed7953\"],[0.7777777777777778,\"#fb9f3a\"],[0.8888888888888888,\"#fdca26\"],[1.0,\"#f0f921\"]]}],\"mesh3d\":[{\"type\":\"mesh3d\",\"colorbar\":{\"outlinewidth\":0,\"ticks\":\"\"}}],\"scatter\":[{\"fillpattern\":{\"fillmode\":\"overlay\",\"size\":10,\"solidity\":0.2},\"type\":\"scatter\"}],\"parcoords\":[{\"type\":\"parcoords\",\"line\":{\"colorbar\":{\"outlinewidth\":0,\"ticks\":\"\"}}}],\"scatterpolargl\":[{\"type\":\"scatterpolargl\",\"marker\":{\"colorbar\":{\"outlinewidth\":0,\"ticks\":\"\"}}}],\"bar\":[{\"error_x\":{\"color\":\"#2a3f5f\"},\"error_y\":{\"color\":\"#2a3f5f\"},\"marker\":{\"line\":{\"color\":\"#E5ECF6\",\"width\":0.5},\"pattern\":{\"fillmode\":\"overlay\",\"size\":10,\"solidity\":0.2}},\"type\":\"bar\"}],\"scattergeo\":[{\"type\":\"scattergeo\",\"marker\":{\"colorbar\":{\"outlinewidth\":0,\"ticks\":\"\"}}}],\"scatterpolar\":[{\"type\":\"scatterpolar\",\"marker\":{\"colorbar\":{\"outlinewidth\":0,\"ticks\":\"\"}}}],\"histogram\":[{\"marker\":{\"pattern\":{\"fillmode\":\"overlay\",\"size\":10,\"solidity\":0.2}},\"type\":\"histogram\"}],\"scattergl\":[{\"type\":\"scattergl\",\"marker\":{\"colorbar\":{\"outlinewidth\":0,\"ticks\":\"\"}}}],\"scatter3d\":[{\"type\":\"scatter3d\",\"line\":{\"colorbar\":{\"outlinewidth\":0,\"ticks\":\"\"}},\"marker\":{\"colorbar\":{\"outlinewidth\":0,\"ticks\":\"\"}}}],\"scattermapbox\":[{\"type\":\"scattermapbox\",\"marker\":{\"colorbar\":{\"outlinewidth\":0,\"ticks\":\"\"}}}],\"scatterternary\":[{\"type\":\"scatterternary\",\"marker\":{\"colorbar\":{\"outlinewidth\":0,\"ticks\":\"\"}}}],\"scattercarpet\":[{\"type\":\"scattercarpet\",\"marker\":{\"colorbar\":{\"outlinewidth\":0,\"ticks\":\"\"}}}],\"carpet\":[{\"aaxis\":{\"endlinecolor\":\"#2a3f5f\",\"gridcolor\":\"white\",\"linecolor\":\"white\",\"minorgridcolor\":\"white\",\"startlinecolor\":\"#2a3f5f\"},\"baxis\":{\"endlinecolor\":\"#2a3f5f\",\"gridcolor\":\"white\",\"linecolor\":\"white\",\"minorgridcolor\":\"white\",\"startlinecolor\":\"#2a3f5f\"},\"type\":\"carpet\"}],\"table\":[{\"cells\":{\"fill\":{\"color\":\"#EBF0F8\"},\"line\":{\"color\":\"white\"}},\"header\":{\"fill\":{\"color\":\"#C8D4E3\"},\"line\":{\"color\":\"white\"}},\"type\":\"table\"}],\"barpolar\":[{\"marker\":{\"line\":{\"color\":\"#E5ECF6\",\"width\":0.5},\"pattern\":{\"fillmode\":\"overlay\",\"size\":10,\"solidity\":0.2}},\"type\":\"barpolar\"}],\"pie\":[{\"automargin\":true,\"type\":\"pie\"}]},\"layout\":{\"autotypenumbers\":\"strict\",\"colorway\":[\"#636efa\",\"#EF553B\",\"#00cc96\",\"#ab63fa\",\"#FFA15A\",\"#19d3f3\",\"#FF6692\",\"#B6E880\",\"#FF97FF\",\"#FECB52\"],\"font\":{\"color\":\"#2a3f5f\"},\"hovermode\":\"closest\",\"hoverlabel\":{\"align\":\"left\"},\"paper_bgcolor\":\"white\",\"plot_bgcolor\":\"#E5ECF6\",\"polar\":{\"bgcolor\":\"#E5ECF6\",\"angularaxis\":{\"gridcolor\":\"white\",\"linecolor\":\"white\",\"ticks\":\"\"},\"radialaxis\":{\"gridcolor\":\"white\",\"linecolor\":\"white\",\"ticks\":\"\"}},\"ternary\":{\"bgcolor\":\"#E5ECF6\",\"aaxis\":{\"gridcolor\":\"white\",\"linecolor\":\"white\",\"ticks\":\"\"},\"baxis\":{\"gridcolor\":\"white\",\"linecolor\":\"white\",\"ticks\":\"\"},\"caxis\":{\"gridcolor\":\"white\",\"linecolor\":\"white\",\"ticks\":\"\"}},\"coloraxis\":{\"colorbar\":{\"outlinewidth\":0,\"ticks\":\"\"}},\"colorscale\":{\"sequential\":[[0.0,\"#0d0887\"],[0.1111111111111111,\"#46039f\"],[0.2222222222222222,\"#7201a8\"],[0.3333333333333333,\"#9c179e\"],[0.4444444444444444,\"#bd3786\"],[0.5555555555555556,\"#d8576b\"],[0.6666666666666666,\"#ed7953\"],[0.7777777777777778,\"#fb9f3a\"],[0.8888888888888888,\"#fdca26\"],[1.0,\"#f0f921\"]],\"sequentialminus\":[[0.0,\"#0d0887\"],[0.1111111111111111,\"#46039f\"],[0.2222222222222222,\"#7201a8\"],[0.3333333333333333,\"#9c179e\"],[0.4444444444444444,\"#bd3786\"],[0.5555555555555556,\"#d8576b\"],[0.6666666666666666,\"#ed7953\"],[0.7777777777777778,\"#fb9f3a\"],[0.8888888888888888,\"#fdca26\"],[1.0,\"#f0f921\"]],\"diverging\":[[0,\"#8e0152\"],[0.1,\"#c51b7d\"],[0.2,\"#de77ae\"],[0.3,\"#f1b6da\"],[0.4,\"#fde0ef\"],[0.5,\"#f7f7f7\"],[0.6,\"#e6f5d0\"],[0.7,\"#b8e186\"],[0.8,\"#7fbc41\"],[0.9,\"#4d9221\"],[1,\"#276419\"]]},\"xaxis\":{\"gridcolor\":\"white\",\"linecolor\":\"white\",\"ticks\":\"\",\"title\":{\"standoff\":15},\"zerolinecolor\":\"white\",\"automargin\":true,\"zerolinewidth\":2},\"yaxis\":{\"gridcolor\":\"white\",\"linecolor\":\"white\",\"ticks\":\"\",\"title\":{\"standoff\":15},\"zerolinecolor\":\"white\",\"automargin\":true,\"zerolinewidth\":2},\"scene\":{\"xaxis\":{\"backgroundcolor\":\"#E5ECF6\",\"gridcolor\":\"white\",\"linecolor\":\"white\",\"showbackground\":true,\"ticks\":\"\",\"zerolinecolor\":\"white\",\"gridwidth\":2},\"yaxis\":{\"backgroundcolor\":\"#E5ECF6\",\"gridcolor\":\"white\",\"linecolor\":\"white\",\"showbackground\":true,\"ticks\":\"\",\"zerolinecolor\":\"white\",\"gridwidth\":2},\"zaxis\":{\"backgroundcolor\":\"#E5ECF6\",\"gridcolor\":\"white\",\"linecolor\":\"white\",\"showbackground\":true,\"ticks\":\"\",\"zerolinecolor\":\"white\",\"gridwidth\":2}},\"shapedefaults\":{\"line\":{\"color\":\"#2a3f5f\"}},\"annotationdefaults\":{\"arrowcolor\":\"#2a3f5f\",\"arrowhead\":0,\"arrowwidth\":1},\"geo\":{\"bgcolor\":\"white\",\"landcolor\":\"#E5ECF6\",\"subunitcolor\":\"white\",\"showland\":true,\"showlakes\":true,\"lakecolor\":\"white\"},\"title\":{\"x\":0.05},\"mapbox\":{\"style\":\"light\"}}},\"legend\":{\"tracegroupgap\":0},\"title\":{\"text\":\"December Ride Count Distribution\"},\"sunburstcolorway\":[\"#EF553B\",\"#636EFA\"],\"height\":600,\"width\":600},                        {\"responsive\": true}                    ).then(function(){\n",
       "                            \n",
       "var gd = document.getElementById('07fe7dc1-8fa9-4571-9ca5-f636eb960fbe');\n",
       "var x = new MutationObserver(function (mutations, observer) {{\n",
       "        var display = window.getComputedStyle(gd).display;\n",
       "        if (!display || display === 'none') {{\n",
       "            console.log([gd, 'removed!']);\n",
       "            Plotly.purge(gd);\n",
       "            observer.disconnect();\n",
       "        }}\n",
       "}});\n",
       "\n",
       "// Listen for the removal of the full notebook cells\n",
       "var notebookContainer = gd.closest('#notebook-container');\n",
       "if (notebookContainer) {{\n",
       "    x.observe(notebookContainer, {childList: true});\n",
       "}}\n",
       "\n",
       "// Listen for the clearing of the current output cell\n",
       "var outputEl = gd.closest('.output');\n",
       "if (outputEl) {{\n",
       "    x.observe(outputEl, {childList: true});\n",
       "}}\n",
       "\n",
       "                        })                };                });            </script>        </div>"
      ]
     },
     "metadata": {},
     "output_type": "display_data"
    }
   ],
   "source": [
    "fig2 = px.sunburst(count_df, values='counts', path=['member_casual', 'rideable_type', 'cost_bins'],\n",
    "                   width=600, height=600, title='December Ride Count Distribution',\n",
    "                   color_discrete_sequence=[px.colors.qualitative.Plotly[1], px.colors.qualitative.Plotly[0]])\n",
    "fig2.show()"
   ]
  },
  {
   "cell_type": "markdown",
   "id": "ea361ee8-3028-4e2b-b34a-a0bc328644d1",
   "metadata": {},
   "source": [
    "This is the same graph but taking into account the ride counts in each group for the size of each section.\n",
    "\n",
    "We can see that members and low-cost rides make up most of the counts, though we still see that casual riders mostly have rides in the \\\\$2-\\\\$10 range, and member rides are usually lower cost."
   ]
  },
  {
   "cell_type": "markdown",
   "id": "13e9dea0-74d1-4982-b979-4f755e533c9a",
   "metadata": {
    "tags": []
   },
   "source": [
    "## Geospatial data"
   ]
  },
  {
   "cell_type": "markdown",
   "id": "812d6bb5-899f-41e2-9c08-23b94ceb07ab",
   "metadata": {},
   "source": [
    "Split into start and end dfs"
   ]
  },
  {
   "cell_type": "code",
   "execution_count": null,
   "id": "65991c25-0cbe-444e-a063-9f2b3ff0bc69",
   "metadata": {},
   "outputs": [],
   "source": [
    "df_start = df['ride_id', "
   ]
  },
  {
   "cell_type": "code",
   "execution_count": 25,
   "id": "fe82db42-361a-4fcd-8c76-b69ed43937d7",
   "metadata": {},
   "outputs": [
    {
     "ename": "KeyError",
     "evalue": "'lng'",
     "output_type": "error",
     "traceback": [
      "\u001b[0;31m---------------------------------------------------------------------------\u001b[0m",
      "\u001b[0;31mKeyError\u001b[0m                                  Traceback (most recent call last)",
      "File \u001b[0;32m~/opt/anaconda3/envs/dataML/lib/python3.9/site-packages/pandas/core/indexes/base.py:3803\u001b[0m, in \u001b[0;36mIndex.get_loc\u001b[0;34m(self, key, method, tolerance)\u001b[0m\n\u001b[1;32m   3802\u001b[0m \u001b[38;5;28;01mtry\u001b[39;00m:\n\u001b[0;32m-> 3803\u001b[0m     \u001b[38;5;28;01mreturn\u001b[39;00m \u001b[38;5;28;43mself\u001b[39;49m\u001b[38;5;241;43m.\u001b[39;49m\u001b[43m_engine\u001b[49m\u001b[38;5;241;43m.\u001b[39;49m\u001b[43mget_loc\u001b[49m\u001b[43m(\u001b[49m\u001b[43mcasted_key\u001b[49m\u001b[43m)\u001b[49m\n\u001b[1;32m   3804\u001b[0m \u001b[38;5;28;01mexcept\u001b[39;00m \u001b[38;5;167;01mKeyError\u001b[39;00m \u001b[38;5;28;01mas\u001b[39;00m err:\n",
      "File \u001b[0;32m~/opt/anaconda3/envs/dataML/lib/python3.9/site-packages/pandas/_libs/index.pyx:138\u001b[0m, in \u001b[0;36mpandas._libs.index.IndexEngine.get_loc\u001b[0;34m()\u001b[0m\n",
      "File \u001b[0;32m~/opt/anaconda3/envs/dataML/lib/python3.9/site-packages/pandas/_libs/index.pyx:165\u001b[0m, in \u001b[0;36mpandas._libs.index.IndexEngine.get_loc\u001b[0;34m()\u001b[0m\n",
      "File \u001b[0;32mpandas/_libs/hashtable_class_helper.pxi:5745\u001b[0m, in \u001b[0;36mpandas._libs.hashtable.PyObjectHashTable.get_item\u001b[0;34m()\u001b[0m\n",
      "File \u001b[0;32mpandas/_libs/hashtable_class_helper.pxi:5753\u001b[0m, in \u001b[0;36mpandas._libs.hashtable.PyObjectHashTable.get_item\u001b[0;34m()\u001b[0m\n",
      "\u001b[0;31mKeyError\u001b[0m: 'lng'",
      "\nThe above exception was the direct cause of the following exception:\n",
      "\u001b[0;31mKeyError\u001b[0m                                  Traceback (most recent call last)",
      "Cell \u001b[0;32mIn[25], line 1\u001b[0m\n\u001b[0;32m----> 1\u001b[0m h3df \u001b[38;5;241m=\u001b[39m \u001b[43mdf\u001b[49m\u001b[38;5;241;43m.\u001b[39;49m\u001b[43mh3\u001b[49m\u001b[38;5;241;43m.\u001b[39;49m\u001b[43mgeo_to_h3\u001b[49m\u001b[43m(\u001b[49m\u001b[38;5;241;43m9\u001b[39;49m\u001b[43m)\u001b[49m\n",
      "File \u001b[0;32m~/opt/anaconda3/envs/dataML/lib/python3.9/site-packages/h3pandas/h3pandas.py:95\u001b[0m, in \u001b[0;36mH3Accessor.geo_to_h3\u001b[0;34m(self, resolution, lat_col, lng_col, set_index)\u001b[0m\n\u001b[1;32m     93\u001b[0m     lats \u001b[38;5;241m=\u001b[39m \u001b[38;5;28mself\u001b[39m\u001b[38;5;241m.\u001b[39m_df\u001b[38;5;241m.\u001b[39mgeometry\u001b[38;5;241m.\u001b[39my\n\u001b[1;32m     94\u001b[0m \u001b[38;5;28;01melse\u001b[39;00m:\n\u001b[0;32m---> 95\u001b[0m     lngs \u001b[38;5;241m=\u001b[39m \u001b[38;5;28;43mself\u001b[39;49m\u001b[38;5;241;43m.\u001b[39;49m\u001b[43m_df\u001b[49m\u001b[43m[\u001b[49m\u001b[43mlng_col\u001b[49m\u001b[43m]\u001b[49m\n\u001b[1;32m     96\u001b[0m     lats \u001b[38;5;241m=\u001b[39m \u001b[38;5;28mself\u001b[39m\u001b[38;5;241m.\u001b[39m_df[lat_col]\n\u001b[1;32m     98\u001b[0m h3addresses \u001b[38;5;241m=\u001b[39m [\n\u001b[1;32m     99\u001b[0m     h3\u001b[38;5;241m.\u001b[39mgeo_to_h3(lat, lng, resolution) \u001b[38;5;28;01mfor\u001b[39;00m lat, lng \u001b[38;5;129;01min\u001b[39;00m \u001b[38;5;28mzip\u001b[39m(lats, lngs)\n\u001b[1;32m    100\u001b[0m ]\n",
      "File \u001b[0;32m~/opt/anaconda3/envs/dataML/lib/python3.9/site-packages/pandas/core/frame.py:3805\u001b[0m, in \u001b[0;36mDataFrame.__getitem__\u001b[0;34m(self, key)\u001b[0m\n\u001b[1;32m   3803\u001b[0m \u001b[38;5;28;01mif\u001b[39;00m \u001b[38;5;28mself\u001b[39m\u001b[38;5;241m.\u001b[39mcolumns\u001b[38;5;241m.\u001b[39mnlevels \u001b[38;5;241m>\u001b[39m \u001b[38;5;241m1\u001b[39m:\n\u001b[1;32m   3804\u001b[0m     \u001b[38;5;28;01mreturn\u001b[39;00m \u001b[38;5;28mself\u001b[39m\u001b[38;5;241m.\u001b[39m_getitem_multilevel(key)\n\u001b[0;32m-> 3805\u001b[0m indexer \u001b[38;5;241m=\u001b[39m \u001b[38;5;28;43mself\u001b[39;49m\u001b[38;5;241;43m.\u001b[39;49m\u001b[43mcolumns\u001b[49m\u001b[38;5;241;43m.\u001b[39;49m\u001b[43mget_loc\u001b[49m\u001b[43m(\u001b[49m\u001b[43mkey\u001b[49m\u001b[43m)\u001b[49m\n\u001b[1;32m   3806\u001b[0m \u001b[38;5;28;01mif\u001b[39;00m is_integer(indexer):\n\u001b[1;32m   3807\u001b[0m     indexer \u001b[38;5;241m=\u001b[39m [indexer]\n",
      "File \u001b[0;32m~/opt/anaconda3/envs/dataML/lib/python3.9/site-packages/pandas/core/indexes/base.py:3805\u001b[0m, in \u001b[0;36mIndex.get_loc\u001b[0;34m(self, key, method, tolerance)\u001b[0m\n\u001b[1;32m   3803\u001b[0m     \u001b[38;5;28;01mreturn\u001b[39;00m \u001b[38;5;28mself\u001b[39m\u001b[38;5;241m.\u001b[39m_engine\u001b[38;5;241m.\u001b[39mget_loc(casted_key)\n\u001b[1;32m   3804\u001b[0m \u001b[38;5;28;01mexcept\u001b[39;00m \u001b[38;5;167;01mKeyError\u001b[39;00m \u001b[38;5;28;01mas\u001b[39;00m err:\n\u001b[0;32m-> 3805\u001b[0m     \u001b[38;5;28;01mraise\u001b[39;00m \u001b[38;5;167;01mKeyError\u001b[39;00m(key) \u001b[38;5;28;01mfrom\u001b[39;00m \u001b[38;5;21;01merr\u001b[39;00m\n\u001b[1;32m   3806\u001b[0m \u001b[38;5;28;01mexcept\u001b[39;00m \u001b[38;5;167;01mTypeError\u001b[39;00m:\n\u001b[1;32m   3807\u001b[0m     \u001b[38;5;66;03m# If we have a listlike key, _check_indexing_error will raise\u001b[39;00m\n\u001b[1;32m   3808\u001b[0m     \u001b[38;5;66;03m#  InvalidIndexError. Otherwise we fall through and re-raise\u001b[39;00m\n\u001b[1;32m   3809\u001b[0m     \u001b[38;5;66;03m#  the TypeError.\u001b[39;00m\n\u001b[1;32m   3810\u001b[0m     \u001b[38;5;28mself\u001b[39m\u001b[38;5;241m.\u001b[39m_check_indexing_error(key)\n",
      "\u001b[0;31mKeyError\u001b[0m: 'lng'"
     ]
    }
   ],
   "source": [
    "h3df = df.h3.geo_to_h3(9)"
   ]
  },
  {
   "cell_type": "code",
   "execution_count": null,
   "id": "88a1bb32-6cc4-42d6-b725-1cac5c086183",
   "metadata": {},
   "outputs": [],
   "source": []
  }
 ],
 "metadata": {
  "kernelspec": {
   "display_name": "dataML",
   "language": "python",
   "name": "dataml"
  },
  "language_info": {
   "codemirror_mode": {
    "name": "ipython",
    "version": 3
   },
   "file_extension": ".py",
   "mimetype": "text/x-python",
   "name": "python",
   "nbconvert_exporter": "python",
   "pygments_lexer": "ipython3",
   "version": "3.9.15"
  }
 },
 "nbformat": 4,
 "nbformat_minor": 5
}
